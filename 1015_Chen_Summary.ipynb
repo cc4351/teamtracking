{
  "nbformat": 4,
  "nbformat_minor": 0,
  "metadata": {
    "colab": {
      "name": "1015 Chen Summary.ipynb",
      "provenance": [],
      "collapsed_sections": [],
      "mount_file_id": "12FcHULWW2uQoGk_45K_AFdm2NZRY-yaR",
      "authorship_tag": "ABX9TyOSwY31Yp7vFkCenBhLfCCr",
      "include_colab_link": true
    },
    "kernelspec": {
      "name": "python3",
      "display_name": "Python 3"
    },
    "accelerator": "GPU"
  },
  "cells": [
    {
      "cell_type": "markdown",
      "metadata": {
        "id": "view-in-github",
        "colab_type": "text"
      },
      "source": [
        "<a href=\"https://colab.research.google.com/github/cc4351/teamtracking/blob/master/1015_Chen_Summary.ipynb\" target=\"_parent\"><img src=\"https://colab.research.google.com/assets/colab-badge.svg\" alt=\"Open In Colab\"/></a>"
      ]
    },
    {
      "cell_type": "code",
      "metadata": {
        "id": "spR_l5WV7AC-"
      },
      "source": [
        "# table of content"
      ],
      "execution_count": null,
      "outputs": []
    },
    {
      "cell_type": "code",
      "metadata": {
        "id": "XiMHHrGZcVE1",
        "outputId": "eaba411f-baf2-44cd-8c44-3632a82f2ac0",
        "colab": {
          "base_uri": "https://localhost:8080/",
          "height": 283
        }
      },
      "source": [
        "x = range(1,11)\n",
        "y = []\n",
        "for i in x:\n",
        "    y.append((1/i)**i)\n",
        "\n",
        "plt.plot(x,y)\n"
      ],
      "execution_count": null,
      "outputs": [
        {
          "output_type": "execute_result",
          "data": {
            "text/plain": [
              "[<matplotlib.lines.Line2D at 0x7ff2bdd44d68>]"
            ]
          },
          "metadata": {
            "tags": []
          },
          "execution_count": 14
        },
        {
          "output_type": "display_data",
          "data": {
            "image/png": "[encoded data removed]",
            "text/plain": [
              "<Figure size 432x288 with 1 Axes>"
            ]
          },
          "metadata": {
            "tags": [],
            "needs_background": "light"
          }
        }
      ]
    },
    {
      "cell_type": "code",
      "metadata": {
        "id": "jP1C3RAO7Tff"
      },
      "source": [
        "import tensorflow as tf\n",
        "from tensorflow import keras\n",
        "from tensorflow.keras import layers\n",
        "\n",
        "import pandas as pd\n",
        "import numpy as np\n",
        "import matplotlib.pyplot as plt\n",
        "from scipy.io import loadmat\n",
        "import statistics\n",
        "import math\n",
        "from time import time\n",
        "import os\n",
        "from collections import defaultdict\n",
        "import pickle\n",
        "import plotly.express as px\n",
        "import queue\n",
        "import pickle\n",
        "import sys"
      ],
      "execution_count": null,
      "outputs": []
    },
    {
      "cell_type": "code",
      "metadata": {
        "id": "S_v8kAM-7lFi",
        "outputId": "9738ba7e-9f2a-4b83-9d0a-bc302ed75892",
        "colab": {
          "base_uri": "https://localhost:8080/",
          "height": 85
        }
      },
      "source": [
        "# replace the root path\n",
        "# switching into the folder containing all the data and listdir\n",
        "%cd '/content/drive/My Drive/Colab Notebooks/Molecule/data/RNN_train' \n",
        "!ls"
      ],
      "execution_count": null,
      "outputs": [
        {
          "output_type": "stream",
          "text": [
            "/content/drive/My Drive/Colab Notebooks/Molecule/data/RNN_train\n",
            "model.png\t\t receptorInfoLabeledPB.mat  sim4\n",
            "receptorInfoAll.mat\t samplePBnnMatrix.pkl\t    tracksFinal.mat\n",
            "receptorInfoLabeled.mat  sim3\n"
          ],
          "name": "stdout"
        }
      ]
    },
    {
      "cell_type": "markdown",
      "metadata": {
        "id": "K_Nsw0uEmmDk"
      },
      "source": [
        "# Analysis of Simulated Data"
      ]
    },
    {
      "cell_type": "code",
      "metadata": {
        "id": "E3LEJrQymqcY"
      },
      "source": [
        "rootPath = r'sim4'\n",
        "movieInfo = loadmat(os.path.join(rootPath, 'movieInfo.mat'))['movieInfo']\n",
        "groundTruth = loadmat(os.path.join(rootPath, 'groundTruth.mat'))['receptorInfoLabeledPB']['receptorTraj'][0,0]\n",
        "pixelSize = 80/1000\n",
        "groundTruth /= pixelSize"
      ],
      "execution_count": null,
      "outputs": []
    },
    {
      "cell_type": "code",
      "metadata": {
        "id": "7XXCsPTgmTUh",
        "outputId": "7db428d4-c4bf-4866-918b-0e324f5e3cf5",
        "colab": {
          "base_uri": "https://localhost:8080/",
          "height": 520
        }
      },
      "source": [
        "for x, y in catFrame[0]:\n",
        "    min_dis = sys.maxsize\n",
        "    min_a = -1\n",
        "    min_b = -1\n",
        "    for a, b in groundTruth[:,:,0]:\n",
        "        dist = (x-a)**2 + (b-y)**2\n",
        "        if dist < min_dis:\n",
        "            min_dis = dist\n",
        "            min_a = a\n",
        "            min_b = b\n",
        "    print(x, y, min_a, min_b, min_dis)"
      ],
      "execution_count": null,
      "outputs": [
        {
          "output_type": "stream",
          "text": [
            "24.93147921324046 191.85297003825943 33.44269861331534 193.0826343098112 73.95292989694198\n",
            "24.590128741572418 162.84540675538216 47.0946022601949 173.40578527198699 617.9729227643493\n",
            "32.75759580515903 139.64357670342912 54.005939849244335 165.79456231174848 1135.366172902342\n",
            "36.43289820899203 149.5078407821456 54.005939849244335 165.79456231174848 574.0690906728717\n",
            "63.71208033033104 170.7441978779981 54.005939849244335 165.79456231174848 118.70805527727319\n",
            "70.76443792813444 166.54439397182603 78.63548901482959 161.67963385571264 85.61933619669239\n",
            "71.40378779048365 120.49997821731327 80.1658378762331 146.2886838302746 741.8308588971655\n",
            "74.3554858723806 188.53143637151894 91.12455931461744 194.07206359322427 311.90037412103527\n",
            "75.96725660116408 103.73887771616612 93.72178123865504 66.01668475101955 1738.1869872030263\n",
            "90.89833881053511 136.51372106539114 80.1658378762331 146.2886838302746 210.7364733596518\n",
            "92.51001348344919 135.68191862686058 80.1658378762331 146.2886838302746 264.8821395021433\n",
            "104.17824847240381 145.75970485000425 105.5062426953765 162.94194506986707 296.9929476293203\n",
            "126.88480168581059 186.60371297888037 105.5062426953765 162.94194506986707 1016.9220450874814\n",
            "151.1835320642907 145.22931202697535 145.28197443366486 155.57389469912815 141.83877312860187\n",
            "156.3292661808342 90.2209297840721 135.7971829716138 94.21453640298702 437.5153347369909\n",
            "165.59799261941026 155.28717076120859 163.11601031805534 168.91376207736394 191.8442270417596\n",
            "170.8155135000001 155.90892907561286 163.11601031805534 168.91376207736394 228.40803065221132\n",
            "171.7882831613848 88.68053527783758 178.52608805477175 64.3085074722059 639.3937541398324\n",
            "172.90567213947992 115.47226251536077 176.587380888478 116.89526577749642 15.57991759649779\n",
            "175.79865461385535 64.01774506913189 178.52608805477175 64.3085074722059 7.523435949670446\n",
            "183.45294691096873 57.09457993488461 178.52608805477175 64.3085074722059 76.31468870260919\n",
            "183.69535126420973 58.54461823939481 178.52608805477175 64.3085074722059 59.94370121656479\n",
            "178.8752656864948 173.10680558359851 163.11601031805534 168.91376207736394 265.9357436128637\n",
            "203.0762983855812 43.45518651949529 178.52608805477175 64.3085074722059 1037.5738220437424\n",
            "203.27190237892862 51.2585735446735 178.52608805477175 64.3085074722059 782.6561020786085\n",
            "203.9781063022542 101.08693027052513 205.06069466660114 121.16564357677541 404.32672560121136\n",
            "216.76460373104877 56.64219145813434 178.52608805477175 64.3085074722059 1520.9564823524934\n",
            "220.6801575957787 101.30809651091904 230.01776195026363 115.77632819129518 296.5205830379357\n",
            "227.41293412108325 69.66106604350082 230.01776195026363 115.77632819129518 2133.402530979467\n"
          ],
          "name": "stdout"
        }
      ]
    },
    {
      "cell_type": "code",
      "metadata": {
        "id": "J1KZ-bkpn7J4"
      },
      "source": [
        "numFrames = len(movieInfo)\n",
        "catFrame = [np.vstack((movieInfo['xCoord'][i][0][:,0], movieInfo['yCoord'][i][0][:,0])).T \n",
        "            if len(movieInfo['xCoord'][i][0])>0 else np.asarray([])for i in range(numFrames)]"
      ],
      "execution_count": null,
      "outputs": []
    },
    {
      "cell_type": "code",
      "metadata": {
        "id": "yDXvy7mIsbxJ"
      },
      "source": [
        ""
      ],
      "execution_count": null,
      "outputs": []
    },
    {
      "cell_type": "markdown",
      "metadata": {
        "id": "rYWrCJ-77I9r"
      },
      "source": [
        "# RNN pipeline"
      ]
    },
    {
      "cell_type": "markdown",
      "metadata": {
        "id": "pCvGv0Wb7Qol"
      },
      "source": [
        "## data pre-processing"
      ]
    },
    {
      "cell_type": "code",
      "metadata": {
        "id": "97tQ09L97t9p"
      },
      "source": [
        "rootPath = r'.'\n",
        "tracks = loadmat(os.path.join(rootPath, 'receptorInfoLabeledPB'))['receptorInfoLabeledPB']\n",
        "labeledTracks = tracks['receptorTraj'][0,0]\n",
        "# movieInfo = np.transpose(labeledTracks, (2, 0, 1))\n"
      ],
      "execution_count": null,
      "outputs": []
    },
    {
      "cell_type": "code",
      "metadata": {
        "id": "b2FE14R79-OT",
        "outputId": "c6b0e043-17f0-4681-816c-34b407fc15d1",
        "colab": {
          "base_uri": "https://localhost:8080/",
          "height": 34
        }
      },
      "source": [
        "labeledTracks.shape"
      ],
      "execution_count": null,
      "outputs": [
        {
          "output_type": "execute_result",
          "data": {
            "text/plain": [
              "(38, 2, 4001)"
            ]
          },
          "metadata": {
            "tags": []
          },
          "execution_count": 9
        }
      ]
    },
    {
      "cell_type": "code",
      "metadata": {
        "id": "LntThsEY7619",
        "outputId": "b58a2296-7156-4ae7-c107-fd2d2d4192e2",
        "colab": {
          "base_uri": "https://localhost:8080/",
          "height": 542
        }
      },
      "source": [
        "# visualize the first track\n",
        "track1 = labeledTracks[0]\n",
        "df = pd.DataFrame(track1.transpose(), columns=['x', 'y'])\n",
        "px.scatter_3d(df, x='x', y='y', z=df.index, size=np.ones(df.shape[0])*.5)"
      ],
      "execution_count": null,
      "outputs": [
        {
          "output_type": "display_data",
          "data": {
            "text/html": [
              "<html>\n",
              "<head><meta charset=\"utf-8\" /></head>\n",
              "<body>\n",
              "    <div>\n",
              "            <script src=\"https://cdnjs.cloudflare.com/ajax/libs/mathjax/2.7.5/MathJax.js?config=TeX-AMS-MML_SVG\"></script><script type=\"text/javascript\">if (window.MathJax) {MathJax.Hub.Config({SVG: {font: \"STIX-Web\"}});}</script>\n",
              "                <script type=\"text/javascript\">window.PlotlyConfig = {MathJaxConfig: 'local'};</script>\n",
              "        <script src=\"https://cdn.plot.ly/plotly-latest.min.js\"></script>    \n",
              "            <div id=\"82691514-cfa7-4188-a034-fc625f39d165\" class=\"plotly-graph-div\" style=\"height:525px; width:100%;\"></div>\n",
              "            <script type=\"text/javascript\">\n",
              "                \n",
              "                    window.PLOTLYENV=window.PLOTLYENV || {};\n",
              "                    \n",
              "                if (document.getElementById(\"82691514-cfa7-4188-a034-fc625f39d165\")) {\n",
              "                    Plotly.newPlot(\n",
              "                        '82691514-cfa7-4188-a034-fc625f39d165',\n",
              "                        [{\"hoverlabel\": {\"namelength\": 0}, \"hovertemplate\": \"x=%{x}<br>y=%{y}<br>index=%{z}<br>size=%{marker.size}\", \"legendgroup\": \"\", \"marker\": {\"color\": \"#636efa\", \"size\": [0.5, 0.5, 0.5, 0.5, 0.5, 0.5, 0.5, 0.5, 0.5, 0.5, 0.5, 0.5, 0.5, 0.5, 0.5, 0.5, 0.5, 0.5, 0.5, 0.5, 0.5, 0.5, 0.5, 0.5, 0.5, 0.5, 0.5, 0.5, 0.5, 0.5, 0.5, 0.5, 0.5, 0.5, 0.5, 0.5, 0.5, 0.5, 0.5, 0.5, 0.5, 0.5, 0.5, 0.5, 0.5, 0.5, 0.5, 0.5, 0.5, 0.5, 0.5, 0.5, 0.5, 0.5, 0.5, 0.5, 0.5, 0.5, 0.5, 0.5, 0.5, 0.5, 0.5, 0.5, 0.5, 0.5, 0.5, 0.5, 0.5, 0.5, 0.5, 0.5, 0.5, 0.5, 0.5, 0.5, 0.5, 0.5, 0.5, 0.5, 0.5, 0.5, 0.5, 0.5, 0.5, 0.5, 0.5, 0.5, 0.5, 0.5, 0.5, 0.5, 0.5, 0.5, 0.5, 0.5, 0.5, 0.5, 0.5, 0.5, 0.5, 0.5, 0.5, 0.5, 0.5, 0.5, 0.5, 0.5, 0.5, 0.5, 0.5, 0.5, 0.5, 0.5, 0.5, 0.5, 0.5, 0.5, 0.5, 0.5, 0.5, 0.5, 0.5, 0.5, 0.5, 0.5, 0.5, 0.5, 0.5, 0.5, 0.5, 0.5, 0.5, 0.5, 0.5, 0.5, 0.5, 0.5, 0.5, 0.5, 0.5, 0.5, 0.5, 0.5, 0.5, 0.5, 0.5, 0.5, 0.5, 0.5, 0.5, 0.5, 0.5, 0.5, 0.5, 0.5, 0.5, 0.5, 0.5, 0.5, 0.5, 0.5, 0.5, 0.5, 0.5, 0.5, 0.5, 0.5, 0.5, 0.5, 0.5, 0.5, 0.5, 0.5, 0.5, 0.5, 0.5, 0.5, 0.5, 0.5, 0.5, 0.5, 0.5, 0.5, 0.5, 0.5, 0.5, 0.5, 0.5, 0.5, 0.5, 0.5, 0.5, 0.5, 0.5, 0.5, 0.5, 0.5, 0.5, 0.5, 0.5, 0.5, 0.5, 0.5, 0.5, 0.5, 0.5, 0.5, 0.5, 0.5, 0.5, 0.5, 0.5, 0.5, 0.5, 0.5, 0.5, 0.5, 0.5, 0.5, 0.5, 0.5, 0.5, 0.5, 0.5, 0.5, 0.5, 0.5, 0.5, 0.5, 0.5, 0.5, 0.5, 0.5, 0.5, 0.5, 0.5, 0.5, 0.5, 0.5, 0.5, 0.5, 0.5, 0.5, 0.5, 0.5, 0.5, 0.5, 0.5, 0.5, 0.5, 0.5, 0.5, 0.5, 0.5, 0.5, 0.5, 0.5, 0.5, 0.5, 0.5, 0.5, 0.5, 0.5, 0.5, 0.5, 0.5, 0.5, 0.5, 0.5, 0.5, 0.5, 0.5, 0.5, 0.5, 0.5, 0.5, 0.5, 0.5, 0.5, 0.5, 0.5, 0.5, 0.5, 0.5, 0.5, 0.5, 0.5, 0.5, 0.5, 0.5, 0.5, 0.5, 0.5, 0.5, 0.5, 0.5, 0.5, 0.5, 0.5, 0.5, 0.5, 0.5, 0.5, 0.5, 0.5, 0.5, 0.5, 0.5, 0.5, 0.5, 0.5, 0.5, 0.5, 0.5, 0.5, 0.5, 0.5, 0.5, 0.5, 0.5, 0.5, 0.5, 0.5, 0.5, 0.5, 0.5, 0.5, 0.5, 0.5, 0.5, 0.5, 0.5, 0.5, 0.5, 0.5, 0.5, 0.5, 0.5, 0.5, 0.5, 0.5, 0.5, 0.5, 0.5, 0.5, 0.5, 0.5, 0.5, 0.5, 0.5, 0.5, 0.5, 0.5, 0.5, 0.5, 0.5, 0.5, 0.5, 0.5, 0.5, 0.5, 0.5, 0.5, 0.5, 0.5, 0.5, 0.5, 0.5, 0.5, 0.5, 0.5, 0.5, 0.5, 0.5, 0.5, 0.5, 0.5, 0.5, 0.5, 0.5, 0.5, 0.5, 0.5, 0.5, 0.5, 0.5, 0.5, 0.5, 0.5, 0.5, 0.5, 0.5, 0.5, 0.5, 0.5, 0.5, 0.5, 0.5, 0.5, 0.5, 0.5, 0.5, 0.5, 0.5, 0.5, 0.5, 0.5, 0.5, 0.5, 0.5, 0.5, 0.5, 0.5, 0.5, 0.5, 0.5, 0.5, 0.5, 0.5, 0.5, 0.5, 0.5, 0.5, 0.5, 0.5, 0.5, 0.5, 0.5, 0.5, 0.5, 0.5, 0.5, 0.5, 0.5, 0.5, 0.5, 0.5, 0.5, 0.5, 0.5, 0.5, 0.5, 0.5, 0.5, 0.5, 0.5, 0.5, 0.5, 0.5, 0.5, 0.5, 0.5, 0.5, 0.5, 0.5, 0.5, 0.5, 0.5, 0.5, 0.5, 0.5, 0.5, 0.5, 0.5, 0.5, 0.5, 0.5, 0.5, 0.5, 0.5, 0.5, 0.5, 0.5, 0.5, 0.5, 0.5, 0.5, 0.5, 0.5, 0.5, 0.5, 0.5, 0.5, 0.5, 0.5, 0.5, 0.5, 0.5, 0.5, 0.5, 0.5, 0.5, 0.5, 0.5, 0.5, 0.5, 0.5, 0.5, 0.5, 0.5, 0.5, 0.5, 0.5, 0.5, 0.5, 0.5, 0.5, 0.5, 0.5, 0.5, 0.5, 0.5, 0.5, 0.5, 0.5, 0.5, 0.5, 0.5, 0.5, 0.5, 0.5, 0.5, 0.5, 0.5, 0.5, 0.5, 0.5, 0.5, 0.5, 0.5, 0.5, 0.5, 0.5, 0.5, 0.5, 0.5, 0.5, 0.5, 0.5, 0.5, 0.5, 0.5, 0.5, 0.5, 0.5, 0.5, 0.5, 0.5, 0.5, 0.5, 0.5, 0.5, 0.5, 0.5, 0.5, 0.5, 0.5, 0.5, 0.5, 0.5, 0.5, 0.5, 0.5, 0.5, 0.5, 0.5, 0.5, 0.5, 0.5, 0.5, 0.5, 0.5, 0.5, 0.5, 0.5, 0.5, 0.5, 0.5, 0.5, 0.5, 0.5, 0.5, 0.5, 0.5, 0.5, 0.5, 0.5, 0.5, 0.5, 0.5, 0.5, 0.5, 0.5, 0.5, 0.5, 0.5, 0.5, 0.5, 0.5, 0.5, 0.5, 0.5, 0.5, 0.5, 0.5, 0.5, 0.5, 0.5, 0.5, 0.5, 0.5, 0.5, 0.5, 0.5, 0.5, 0.5, 0.5, 0.5, 0.5, 0.5, 0.5, 0.5, 0.5, 0.5, 0.5, 0.5, 0.5, 0.5, 0.5, 0.5, 0.5, 0.5, 0.5, 0.5, 0.5, 0.5, 0.5, 0.5, 0.5, 0.5, 0.5, 0.5, 0.5, 0.5, 0.5, 0.5, 0.5, 0.5, 0.5, 0.5, 0.5, 0.5, 0.5, 0.5, 0.5, 0.5, 0.5, 0.5, 0.5, 0.5, 0.5, 0.5, 0.5, 0.5, 0.5, 0.5, 0.5, 0.5, 0.5, 0.5, 0.5, 0.5, 0.5, 0.5, 0.5, 0.5, 0.5, 0.5, 0.5, 0.5, 0.5, 0.5, 0.5, 0.5, 0.5, 0.5, 0.5, 0.5, 0.5, 0.5, 0.5, 0.5, 0.5, 0.5, 0.5, 0.5, 0.5, 0.5, 0.5, 0.5, 0.5, 0.5, 0.5, 0.5, 0.5, 0.5, 0.5, 0.5, 0.5, 0.5, 0.5, 0.5, 0.5, 0.5, 0.5, 0.5, 0.5, 0.5, 0.5, 0.5, 0.5, 0.5, 0.5, 0.5, 0.5, 0.5, 0.5, 0.5, 0.5, 0.5, 0.5, 0.5, 0.5, 0.5, 0.5, 0.5, 0.5, 0.5, 0.5, 0.5, 0.5, 0.5, 0.5, 0.5, 0.5, 0.5, 0.5, 0.5, 0.5, 0.5, 0.5, 0.5, 0.5, 0.5, 0.5, 0.5, 0.5, 0.5, 0.5, 0.5, 0.5, 0.5, 0.5, 0.5, 0.5, 0.5, 0.5, 0.5, 0.5, 0.5, 0.5, 0.5, 0.5, 0.5, 0.5, 0.5, 0.5, 0.5, 0.5, 0.5, 0.5, 0.5, 0.5, 0.5, 0.5, 0.5, 0.5, 0.5, 0.5, 0.5, 0.5, 0.5, 0.5, 0.5, 0.5, 0.5, 0.5, 0.5, 0.5, 0.5, 0.5, 0.5, 0.5, 0.5, 0.5, 0.5, 0.5, 0.5, 0.5, 0.5, 0.5, 0.5, 0.5, 0.5, 0.5, 0.5, 0.5, 0.5, 0.5, 0.5, 0.5, 0.5, 0.5, 0.5, 0.5, 0.5, 0.5, 0.5, 0.5, 0.5, 0.5, 0.5, 0.5, 0.5, 0.5, 0.5, 0.5, 0.5, 0.5, 0.5, 0.5, 0.5, 0.5, 0.5, 0.5, 0.5, 0.5, 0.5, 0.5, 0.5, 0.5, 0.5, 0.5, 0.5, 0.5, 0.5, 0.5, 0.5, 0.5, 0.5, 0.5, 0.5, 0.5, 0.5, 0.5, 0.5, 0.5, 0.5, 0.5, 0.5, 0.5, 0.5, 0.5, 0.5, 0.5, 0.5, 0.5, 0.5, 0.5, 0.5, 0.5, 0.5, 0.5, 0.5, 0.5, 0.5, 0.5, 0.5, 0.5, 0.5, 0.5, 0.5, 0.5, 0.5, 0.5, 0.5, 0.5, 0.5, 0.5, 0.5, 0.5, 0.5, 0.5, 0.5, 0.5, 0.5, 0.5, 0.5, 0.5, 0.5, 0.5, 0.5, 0.5, 0.5, 0.5, 0.5, 0.5, 0.5, 0.5, 0.5, 0.5, 0.5, 0.5, 0.5, 0.5, 0.5, 0.5, 0.5, 0.5, 0.5, 0.5, 0.5, 0.5, 0.5, 0.5, 0.5, 0.5, 0.5, 0.5, 0.5, 0.5, 0.5, 0.5, 0.5, 0.5, 0.5, 0.5, 0.5, 0.5, 0.5, 0.5, 0.5, 0.5, 0.5, 0.5, 0.5, 0.5, 0.5, 0.5, 0.5, 0.5, 0.5, 0.5, 0.5, 0.5, 0.5, 0.5, 0.5, 0.5, 0.5, 0.5, 0.5, 0.5, 0.5, 0.5, 0.5, 0.5, 0.5, 0.5, 0.5, 0.5, 0.5, 0.5, 0.5, 0.5, 0.5, 0.5, 0.5, 0.5, 0.5, 0.5, 0.5, 0.5, 0.5, 0.5, 0.5, 0.5, 0.5, 0.5, 0.5, 0.5, 0.5, 0.5, 0.5, 0.5, 0.5, 0.5, 0.5, 0.5, 0.5, 0.5, 0.5, 0.5, 0.5, 0.5, 0.5, 0.5, 0.5, 0.5, 0.5, 0.5, 0.5, 0.5, 0.5, 0.5, 0.5, 0.5, 0.5, 0.5, 0.5, 0.5, 0.5, 0.5, 0.5, 0.5, 0.5, 0.5, 0.5, 0.5, 0.5, 0.5, 0.5, 0.5, 0.5, 0.5, 0.5, 0.5, 0.5, 0.5, 0.5, 0.5, 0.5, 0.5, 0.5, 0.5, 0.5, 0.5, 0.5, 0.5, 0.5, 0.5, 0.5, 0.5, 0.5, 0.5, 0.5, 0.5, 0.5, 0.5, 0.5, 0.5, 0.5, 0.5, 0.5, 0.5, 0.5, 0.5, 0.5, 0.5, 0.5, 0.5, 0.5, 0.5, 0.5, 0.5, 0.5, 0.5, 0.5, 0.5, 0.5, 0.5, 0.5, 0.5, 0.5, 0.5, 0.5, 0.5, 0.5, 0.5, 0.5, 0.5, 0.5, 0.5, 0.5, 0.5, 0.5, 0.5, 0.5, 0.5, 0.5, 0.5, 0.5, 0.5, 0.5, 0.5, 0.5, 0.5, 0.5, 0.5, 0.5, 0.5, 0.5, 0.5, 0.5, 0.5, 0.5, 0.5, 0.5, 0.5, 0.5, 0.5, 0.5, 0.5, 0.5, 0.5, 0.5, 0.5, 0.5, 0.5, 0.5, 0.5, 0.5, 0.5, 0.5, 0.5, 0.5, 0.5, 0.5, 0.5, 0.5, 0.5, 0.5, 0.5, 0.5, 0.5, 0.5, 0.5, 0.5, 0.5, 0.5, 0.5, 0.5, 0.5, 0.5, 0.5, 0.5, 0.5, 0.5, 0.5, 0.5, 0.5, 0.5, 0.5, 0.5, 0.5, 0.5, 0.5, 0.5, 0.5, 0.5, 0.5, 0.5, 0.5, 0.5, 0.5, 0.5, 0.5, 0.5, 0.5, 0.5, 0.5, 0.5, 0.5, 0.5, 0.5, 0.5, 0.5, 0.5, 0.5, 0.5, 0.5, 0.5, 0.5, 0.5, 0.5, 0.5, 0.5, 0.5, 0.5, 0.5, 0.5, 0.5, 0.5, 0.5, 0.5, 0.5, 0.5, 0.5, 0.5, 0.5, 0.5, 0.5, 0.5, 0.5, 0.5, 0.5, 0.5, 0.5, 0.5, 0.5, 0.5, 0.5, 0.5, 0.5, 0.5, 0.5, 0.5, 0.5, 0.5, 0.5, 0.5, 0.5, 0.5, 0.5, 0.5, 0.5, 0.5, 0.5, 0.5, 0.5, 0.5, 0.5, 0.5, 0.5, 0.5, 0.5, 0.5, 0.5, 0.5, 0.5, 0.5, 0.5, 0.5, 0.5, 0.5, 0.5, 0.5, 0.5, 0.5, 0.5, 0.5, 0.5, 0.5, 0.5, 0.5, 0.5, 0.5, 0.5, 0.5, 0.5, 0.5, 0.5, 0.5, 0.5, 0.5, 0.5, 0.5, 0.5, 0.5, 0.5, 0.5, 0.5, 0.5, 0.5, 0.5, 0.5, 0.5, 0.5, 0.5, 0.5, 0.5, 0.5, 0.5, 0.5, 0.5, 0.5, 0.5, 0.5, 0.5, 0.5, 0.5, 0.5, 0.5, 0.5, 0.5, 0.5, 0.5, 0.5, 0.5, 0.5, 0.5, 0.5, 0.5, 0.5, 0.5, 0.5, 0.5, 0.5, 0.5, 0.5, 0.5, 0.5, 0.5, 0.5, 0.5, 0.5, 0.5, 0.5, 0.5, 0.5, 0.5, 0.5, 0.5, 0.5, 0.5, 0.5, 0.5, 0.5, 0.5, 0.5, 0.5, 0.5, 0.5, 0.5, 0.5, 0.5, 0.5, 0.5, 0.5, 0.5, 0.5, 0.5, 0.5, 0.5, 0.5, 0.5, 0.5, 0.5, 0.5, 0.5, 0.5, 0.5, 0.5, 0.5, 0.5, 0.5, 0.5, 0.5, 0.5, 0.5, 0.5, 0.5, 0.5, 0.5, 0.5, 0.5, 0.5, 0.5, 0.5, 0.5, 0.5, 0.5, 0.5, 0.5, 0.5, 0.5, 0.5, 0.5, 0.5, 0.5, 0.5, 0.5, 0.5, 0.5, 0.5, 0.5, 0.5, 0.5, 0.5, 0.5, 0.5, 0.5, 0.5, 0.5, 0.5, 0.5, 0.5, 0.5, 0.5, 0.5, 0.5, 0.5, 0.5, 0.5, 0.5, 0.5, 0.5, 0.5, 0.5, 0.5, 0.5, 0.5, 0.5, 0.5, 0.5, 0.5, 0.5, 0.5, 0.5, 0.5, 0.5, 0.5, 0.5, 0.5, 0.5, 0.5, 0.5, 0.5, 0.5, 0.5, 0.5, 0.5, 0.5, 0.5, 0.5, 0.5, 0.5, 0.5, 0.5, 0.5, 0.5, 0.5, 0.5, 0.5, 0.5, 0.5, 0.5, 0.5, 0.5, 0.5, 0.5, 0.5, 0.5, 0.5, 0.5, 0.5, 0.5, 0.5, 0.5, 0.5, 0.5, 0.5, 0.5, 0.5, 0.5, 0.5, 0.5, 0.5, 0.5, 0.5, 0.5, 0.5, 0.5, 0.5, 0.5, 0.5, 0.5, 0.5, 0.5, 0.5, 0.5, 0.5, 0.5, 0.5, 0.5, 0.5, 0.5, 0.5, 0.5, 0.5, 0.5, 0.5, 0.5, 0.5, 0.5, 0.5, 0.5, 0.5, 0.5, 0.5, 0.5, 0.5, 0.5, 0.5, 0.5, 0.5, 0.5, 0.5, 0.5, 0.5, 0.5, 0.5, 0.5, 0.5, 0.5, 0.5, 0.5, 0.5, 0.5, 0.5, 0.5, 0.5, 0.5, 0.5, 0.5, 0.5, 0.5, 0.5, 0.5, 0.5, 0.5, 0.5, 0.5, 0.5, 0.5, 0.5, 0.5, 0.5, 0.5, 0.5, 0.5, 0.5, 0.5, 0.5, 0.5, 0.5, 0.5, 0.5, 0.5, 0.5, 0.5, 0.5, 0.5, 0.5, 0.5, 0.5, 0.5, 0.5, 0.5, 0.5, 0.5, 0.5, 0.5, 0.5, 0.5, 0.5, 0.5, 0.5, 0.5, 0.5, 0.5, 0.5, 0.5, 0.5, 0.5, 0.5, 0.5, 0.5, 0.5, 0.5, 0.5, 0.5, 0.5, 0.5, 0.5, 0.5, 0.5, 0.5, 0.5, 0.5, 0.5, 0.5, 0.5, 0.5, 0.5, 0.5, 0.5, 0.5, 0.5, 0.5, 0.5, 0.5, 0.5, 0.5, 0.5, 0.5, 0.5, 0.5, 0.5, 0.5, 0.5, 0.5, 0.5, 0.5, 0.5, 0.5, 0.5, 0.5, 0.5, 0.5, 0.5, 0.5, 0.5, 0.5, 0.5, 0.5, 0.5, 0.5, 0.5, 0.5, 0.5, 0.5, 0.5, 0.5, 0.5, 0.5, 0.5, 0.5, 0.5, 0.5, 0.5, 0.5, 0.5, 0.5, 0.5, 0.5, 0.5, 0.5, 0.5, 0.5, 0.5, 0.5, 0.5, 0.5, 0.5, 0.5, 0.5, 0.5, 0.5, 0.5, 0.5, 0.5, 0.5, 0.5, 0.5, 0.5, 0.5, 0.5, 0.5, 0.5, 0.5, 0.5, 0.5, 0.5, 0.5, 0.5, 0.5, 0.5, 0.5, 0.5, 0.5, 0.5, 0.5, 0.5, 0.5, 0.5, 0.5, 0.5, 0.5, 0.5, 0.5, 0.5, 0.5, 0.5, 0.5, 0.5, 0.5, 0.5, 0.5, 0.5, 0.5, 0.5, 0.5, 0.5, 0.5, 0.5, 0.5, 0.5, 0.5, 0.5, 0.5, 0.5, 0.5, 0.5, 0.5, 0.5, 0.5, 0.5, 0.5, 0.5, 0.5, 0.5, 0.5, 0.5, 0.5, 0.5, 0.5, 0.5, 0.5, 0.5, 0.5, 0.5, 0.5, 0.5, 0.5, 0.5, 0.5, 0.5, 0.5, 0.5, 0.5, 0.5, 0.5, 0.5, 0.5, 0.5, 0.5, 0.5, 0.5, 0.5, 0.5, 0.5, 0.5, 0.5, 0.5, 0.5, 0.5, 0.5, 0.5, 0.5, 0.5, 0.5, 0.5, 0.5, 0.5, 0.5, 0.5, 0.5, 0.5, 0.5, 0.5, 0.5, 0.5, 0.5, 0.5, 0.5, 0.5, 0.5, 0.5, 0.5, 0.5, 0.5, 0.5, 0.5, 0.5, 0.5, 0.5, 0.5, 0.5, 0.5, 0.5, 0.5, 0.5, 0.5, 0.5, 0.5, 0.5, 0.5, 0.5, 0.5, 0.5, 0.5, 0.5, 0.5, 0.5, 0.5, 0.5, 0.5, 0.5, 0.5, 0.5, 0.5, 0.5, 0.5, 0.5, 0.5, 0.5, 0.5, 0.5, 0.5, 0.5, 0.5, 0.5, 0.5, 0.5, 0.5, 0.5, 0.5, 0.5, 0.5, 0.5, 0.5, 0.5, 0.5, 0.5, 0.5, 0.5, 0.5, 0.5, 0.5, 0.5, 0.5, 0.5, 0.5, 0.5, 0.5, 0.5, 0.5, 0.5, 0.5, 0.5, 0.5, 0.5, 0.5, 0.5, 0.5, 0.5, 0.5, 0.5, 0.5, 0.5, 0.5, 0.5, 0.5, 0.5, 0.5, 0.5, 0.5, 0.5, 0.5, 0.5, 0.5, 0.5, 0.5, 0.5, 0.5, 0.5, 0.5, 0.5, 0.5, 0.5, 0.5, 0.5, 0.5, 0.5, 0.5, 0.5, 0.5, 0.5, 0.5, 0.5, 0.5, 0.5, 0.5, 0.5, 0.5, 0.5, 0.5, 0.5, 0.5, 0.5, 0.5, 0.5, 0.5, 0.5, 0.5, 0.5, 0.5, 0.5, 0.5, 0.5, 0.5, 0.5, 0.5, 0.5, 0.5, 0.5, 0.5, 0.5, 0.5, 0.5, 0.5, 0.5, 0.5, 0.5, 0.5, 0.5, 0.5, 0.5, 0.5, 0.5, 0.5, 0.5, 0.5, 0.5, 0.5, 0.5, 0.5, 0.5, 0.5, 0.5, 0.5, 0.5, 0.5, 0.5, 0.5, 0.5, 0.5, 0.5, 0.5, 0.5, 0.5, 0.5, 0.5, 0.5, 0.5, 0.5, 0.5, 0.5, 0.5, 0.5, 0.5, 0.5, 0.5, 0.5, 0.5, 0.5, 0.5, 0.5, 0.5, 0.5, 0.5, 0.5, 0.5, 0.5, 0.5, 0.5, 0.5, 0.5, 0.5, 0.5, 0.5, 0.5, 0.5, 0.5, 0.5, 0.5, 0.5, 0.5, 0.5, 0.5, 0.5, 0.5, 0.5, 0.5, 0.5, 0.5, 0.5, 0.5, 0.5, 0.5, 0.5, 0.5, 0.5, 0.5, 0.5, 0.5, 0.5, 0.5, 0.5, 0.5, 0.5, 0.5, 0.5, 0.5, 0.5, 0.5, 0.5, 0.5, 0.5, 0.5, 0.5, 0.5, 0.5, 0.5, 0.5, 0.5, 0.5, 0.5, 0.5, 0.5, 0.5, 0.5, 0.5, 0.5, 0.5, 0.5, 0.5, 0.5, 0.5, 0.5, 0.5, 0.5, 0.5, 0.5, 0.5, 0.5, 0.5, 0.5, 0.5, 0.5, 0.5, 0.5, 0.5, 0.5, 0.5, 0.5, 0.5, 0.5, 0.5, 0.5, 0.5, 0.5, 0.5, 0.5, 0.5, 0.5, 0.5, 0.5, 0.5, 0.5, 0.5, 0.5, 0.5, 0.5, 0.5, 0.5, 0.5, 0.5, 0.5, 0.5, 0.5, 0.5, 0.5, 0.5, 0.5, 0.5, 0.5, 0.5, 0.5, 0.5, 0.5, 0.5, 0.5, 0.5, 0.5, 0.5, 0.5, 0.5, 0.5, 0.5, 0.5, 0.5, 0.5, 0.5, 0.5, 0.5, 0.5, 0.5, 0.5, 0.5, 0.5, 0.5, 0.5, 0.5, 0.5, 0.5, 0.5, 0.5, 0.5, 0.5, 0.5, 0.5, 0.5, 0.5, 0.5, 0.5, 0.5, 0.5, 0.5, 0.5, 0.5, 0.5, 0.5, 0.5, 0.5, 0.5, 0.5, 0.5, 0.5, 0.5, 0.5, 0.5, 0.5, 0.5, 0.5, 0.5, 0.5, 0.5, 0.5, 0.5, 0.5, 0.5, 0.5, 0.5, 0.5, 0.5, 0.5, 0.5, 0.5, 0.5, 0.5, 0.5, 0.5, 0.5, 0.5, 0.5, 0.5, 0.5, 0.5, 0.5, 0.5, 0.5, 0.5, 0.5, 0.5, 0.5, 0.5, 0.5, 0.5, 0.5, 0.5, 0.5, 0.5, 0.5, 0.5, 0.5, 0.5, 0.5, 0.5, 0.5, 0.5, 0.5, 0.5, 0.5, 0.5, 0.5, 0.5, 0.5, 0.5, 0.5, 0.5, 0.5, 0.5, 0.5, 0.5, 0.5, 0.5, 0.5, 0.5, 0.5, 0.5, 0.5, 0.5, 0.5, 0.5, 0.5, 0.5, 0.5, 0.5, 0.5, 0.5, 0.5, 0.5, 0.5, 0.5, 0.5, 0.5, 0.5, 0.5, 0.5, 0.5, 0.5, 0.5, 0.5, 0.5, 0.5, 0.5, 0.5, 0.5, 0.5, 0.5, 0.5, 0.5, 0.5, 0.5, 0.5, 0.5, 0.5, 0.5, 0.5, 0.5, 0.5, 0.5, 0.5, 0.5, 0.5, 0.5, 0.5, 0.5, 0.5, 0.5, 0.5, 0.5, 0.5, 0.5, 0.5, 0.5, 0.5, 0.5, 0.5, 0.5, 0.5, 0.5, 0.5, 0.5, 0.5, 0.5, 0.5, 0.5, 0.5, 0.5, 0.5, 0.5, 0.5, 0.5, 0.5, 0.5, 0.5, 0.5, 0.5, 0.5, 0.5, 0.5, 0.5, 0.5, 0.5, 0.5, 0.5, 0.5, 0.5, 0.5, 0.5, 0.5, 0.5, 0.5, 0.5, 0.5, 0.5, 0.5, 0.5, 0.5, 0.5, 0.5, 0.5, 0.5, 0.5, 0.5, 0.5, 0.5, 0.5, 0.5, 0.5, 0.5, 0.5, 0.5, 0.5, 0.5, 0.5, 0.5, 0.5, 0.5, 0.5, 0.5, 0.5, 0.5, 0.5, 0.5, 0.5, 0.5, 0.5, 0.5, 0.5, 0.5, 0.5, 0.5, 0.5, 0.5, 0.5, 0.5, 0.5, 0.5, 0.5, 0.5, 0.5, 0.5, 0.5, 0.5, 0.5, 0.5, 0.5, 0.5, 0.5, 0.5, 0.5, 0.5, 0.5, 0.5, 0.5, 0.5, 0.5, 0.5, 0.5, 0.5, 0.5, 0.5, 0.5, 0.5, 0.5, 0.5, 0.5, 0.5, 0.5, 0.5, 0.5, 0.5, 0.5, 0.5, 0.5, 0.5, 0.5, 0.5, 0.5, 0.5, 0.5, 0.5, 0.5, 0.5, 0.5, 0.5, 0.5, 0.5, 0.5, 0.5, 0.5, 0.5, 0.5, 0.5, 0.5, 0.5, 0.5, 0.5, 0.5, 0.5, 0.5, 0.5, 0.5, 0.5, 0.5, 0.5, 0.5, 0.5, 0.5, 0.5, 0.5, 0.5, 0.5, 0.5, 0.5, 0.5, 0.5, 0.5, 0.5, 0.5, 0.5, 0.5, 0.5, 0.5, 0.5, 0.5, 0.5, 0.5, 0.5, 0.5, 0.5, 0.5, 0.5, 0.5, 0.5, 0.5, 0.5, 0.5, 0.5, 0.5, 0.5, 0.5, 0.5, 0.5, 0.5, 0.5, 0.5, 0.5, 0.5, 0.5, 0.5, 0.5, 0.5, 0.5, 0.5, 0.5, 0.5, 0.5, 0.5, 0.5, 0.5, 0.5, 0.5, 0.5, 0.5, 0.5, 0.5, 0.5, 0.5, 0.5, 0.5, 0.5, 0.5, 0.5, 0.5, 0.5, 0.5, 0.5, 0.5, 0.5, 0.5, 0.5, 0.5, 0.5, 0.5, 0.5, 0.5, 0.5, 0.5, 0.5, 0.5, 0.5, 0.5, 0.5, 0.5, 0.5, 0.5, 0.5, 0.5, 0.5, 0.5, 0.5, 0.5, 0.5, 0.5, 0.5, 0.5, 0.5, 0.5, 0.5, 0.5, 0.5, 0.5, 0.5, 0.5, 0.5, 0.5, 0.5, 0.5, 0.5, 0.5, 0.5, 0.5, 0.5, 0.5, 0.5, 0.5, 0.5, 0.5, 0.5, 0.5, 0.5, 0.5, 0.5, 0.5, 0.5, 0.5, 0.5, 0.5, 0.5, 0.5, 0.5, 0.5, 0.5, 0.5, 0.5, 0.5, 0.5, 0.5, 0.5, 0.5, 0.5, 0.5, 0.5, 0.5, 0.5, 0.5, 0.5, 0.5, 0.5, 0.5, 0.5, 0.5, 0.5, 0.5, 0.5, 0.5, 0.5, 0.5, 0.5, 0.5, 0.5, 0.5, 0.5, 0.5, 0.5, 0.5, 0.5, 0.5, 0.5, 0.5, 0.5, 0.5, 0.5, 0.5, 0.5, 0.5, 0.5, 0.5, 0.5, 0.5, 0.5, 0.5, 0.5, 0.5, 0.5, 0.5, 0.5, 0.5, 0.5, 0.5, 0.5, 0.5, 0.5, 0.5, 0.5, 0.5, 0.5, 0.5, 0.5, 0.5, 0.5, 0.5, 0.5, 0.5, 0.5, 0.5, 0.5, 0.5, 0.5, 0.5, 0.5, 0.5, 0.5, 0.5, 0.5, 0.5, 0.5, 0.5, 0.5, 0.5, 0.5, 0.5, 0.5, 0.5, 0.5, 0.5, 0.5, 0.5, 0.5, 0.5, 0.5, 0.5, 0.5, 0.5, 0.5, 0.5, 0.5, 0.5, 0.5, 0.5, 0.5, 0.5, 0.5, 0.5, 0.5, 0.5, 0.5, 0.5, 0.5, 0.5, 0.5, 0.5, 0.5, 0.5, 0.5, 0.5, 0.5, 0.5, 0.5, 0.5, 0.5, 0.5, 0.5, 0.5, 0.5, 0.5, 0.5, 0.5, 0.5, 0.5, 0.5, 0.5, 0.5, 0.5, 0.5, 0.5, 0.5, 0.5, 0.5, 0.5, 0.5, 0.5, 0.5, 0.5, 0.5, 0.5, 0.5, 0.5, 0.5, 0.5, 0.5, 0.5, 0.5, 0.5, 0.5, 0.5, 0.5, 0.5, 0.5, 0.5, 0.5, 0.5, 0.5, 0.5, 0.5, 0.5, 0.5, 0.5, 0.5, 0.5, 0.5, 0.5, 0.5, 0.5, 0.5, 0.5, 0.5, 0.5, 0.5, 0.5, 0.5, 0.5, 0.5, 0.5, 0.5, 0.5, 0.5, 0.5, 0.5, 0.5, 0.5, 0.5, 0.5, 0.5, 0.5, 0.5, 0.5, 0.5, 0.5, 0.5, 0.5, 0.5, 0.5, 0.5, 0.5, 0.5, 0.5, 0.5, 0.5, 0.5, 0.5, 0.5, 0.5, 0.5, 0.5, 0.5, 0.5, 0.5, 0.5, 0.5, 0.5, 0.5, 0.5, 0.5, 0.5, 0.5, 0.5, 0.5, 0.5, 0.5, 0.5, 0.5, 0.5, 0.5, 0.5, 0.5, 0.5, 0.5, 0.5, 0.5, 0.5, 0.5, 0.5, 0.5, 0.5, 0.5, 0.5, 0.5, 0.5, 0.5, 0.5, 0.5, 0.5, 0.5, 0.5, 0.5, 0.5, 0.5, 0.5, 0.5, 0.5, 0.5, 0.5, 0.5, 0.5, 0.5, 0.5, 0.5, 0.5, 0.5, 0.5, 0.5, 0.5, 0.5, 0.5, 0.5, 0.5, 0.5, 0.5, 0.5, 0.5, 0.5, 0.5, 0.5, 0.5, 0.5, 0.5, 0.5, 0.5, 0.5, 0.5, 0.5, 0.5, 0.5, 0.5, 0.5, 0.5, 0.5, 0.5, 0.5, 0.5, 0.5, 0.5, 0.5, 0.5, 0.5, 0.5, 0.5, 0.5, 0.5, 0.5, 0.5, 0.5, 0.5, 0.5, 0.5, 0.5, 0.5, 0.5, 0.5, 0.5, 0.5, 0.5, 0.5, 0.5, 0.5, 0.5, 0.5, 0.5, 0.5, 0.5, 0.5, 0.5, 0.5, 0.5, 0.5, 0.5, 0.5, 0.5, 0.5, 0.5, 0.5, 0.5, 0.5, 0.5, 0.5, 0.5, 0.5, 0.5, 0.5, 0.5, 0.5, 0.5, 0.5, 0.5, 0.5, 0.5, 0.5, 0.5, 0.5, 0.5, 0.5, 0.5, 0.5, 0.5, 0.5, 0.5, 0.5, 0.5, 0.5, 0.5, 0.5, 0.5, 0.5, 0.5, 0.5, 0.5, 0.5, 0.5, 0.5, 0.5, 0.5, 0.5, 0.5, 0.5, 0.5, 0.5, 0.5, 0.5, 0.5, 0.5, 0.5, 0.5, 0.5, 0.5, 0.5, 0.5, 0.5, 0.5, 0.5, 0.5, 0.5, 0.5, 0.5, 0.5, 0.5, 0.5, 0.5, 0.5, 0.5, 0.5, 0.5, 0.5, 0.5, 0.5, 0.5, 0.5, 0.5, 0.5, 0.5, 0.5, 0.5, 0.5, 0.5, 0.5, 0.5, 0.5, 0.5, 0.5, 0.5, 0.5, 0.5, 0.5, 0.5, 0.5, 0.5, 0.5, 0.5, 0.5, 0.5, 0.5, 0.5, 0.5, 0.5, 0.5, 0.5, 0.5, 0.5, 0.5, 0.5, 0.5, 0.5, 0.5, 0.5, 0.5, 0.5, 0.5, 0.5, 0.5, 0.5, 0.5, 0.5, 0.5, 0.5, 0.5, 0.5, 0.5, 0.5, 0.5, 0.5, 0.5, 0.5, 0.5, 0.5, 0.5, 0.5, 0.5, 0.5, 0.5, 0.5, 0.5, 0.5, 0.5, 0.5, 0.5, 0.5, 0.5, 0.5, 0.5, 0.5, 0.5, 0.5, 0.5, 0.5, 0.5, 0.5, 0.5, 0.5, 0.5, 0.5, 0.5, 0.5, 0.5, 0.5, 0.5, 0.5, 0.5, 0.5, 0.5, 0.5, 0.5, 0.5, 0.5, 0.5, 0.5, 0.5, 0.5, 0.5, 0.5, 0.5, 0.5, 0.5, 0.5, 0.5, 0.5, 0.5, 0.5, 0.5, 0.5, 0.5, 0.5, 0.5, 0.5, 0.5, 0.5, 0.5, 0.5, 0.5, 0.5, 0.5, 0.5, 0.5, 0.5, 0.5, 0.5, 0.5, 0.5, 0.5, 0.5, 0.5, 0.5, 0.5, 0.5, 0.5, 0.5, 0.5, 0.5, 0.5, 0.5, 0.5, 0.5, 0.5, 0.5, 0.5, 0.5, 0.5, 0.5, 0.5, 0.5, 0.5, 0.5, 0.5, 0.5, 0.5, 0.5, 0.5, 0.5, 0.5, 0.5, 0.5, 0.5, 0.5, 0.5, 0.5, 0.5, 0.5, 0.5, 0.5, 0.5, 0.5, 0.5, 0.5, 0.5, 0.5, 0.5, 0.5, 0.5, 0.5, 0.5, 0.5, 0.5, 0.5, 0.5, 0.5, 0.5, 0.5, 0.5, 0.5, 0.5, 0.5, 0.5, 0.5, 0.5, 0.5, 0.5, 0.5, 0.5, 0.5, 0.5, 0.5, 0.5, 0.5, 0.5, 0.5, 0.5, 0.5, 0.5, 0.5, 0.5, 0.5, 0.5, 0.5, 0.5, 0.5, 0.5, 0.5, 0.5, 0.5, 0.5, 0.5, 0.5, 0.5, 0.5, 0.5, 0.5, 0.5, 0.5, 0.5, 0.5, 0.5, 0.5, 0.5, 0.5, 0.5, 0.5, 0.5, 0.5, 0.5, 0.5, 0.5, 0.5, 0.5, 0.5, 0.5, 0.5, 0.5, 0.5, 0.5, 0.5, 0.5, 0.5, 0.5, 0.5, 0.5, 0.5, 0.5, 0.5, 0.5, 0.5, 0.5, 0.5, 0.5, 0.5, 0.5, 0.5, 0.5, 0.5, 0.5, 0.5, 0.5, 0.5, 0.5, 0.5, 0.5, 0.5, 0.5, 0.5, 0.5, 0.5, 0.5, 0.5, 0.5, 0.5, 0.5, 0.5, 0.5, 0.5, 0.5, 0.5, 0.5, 0.5, 0.5, 0.5, 0.5, 0.5, 0.5, 0.5, 0.5, 0.5, 0.5, 0.5, 0.5, 0.5, 0.5, 0.5, 0.5, 0.5, 0.5, 0.5, 0.5, 0.5, 0.5, 0.5, 0.5, 0.5, 0.5, 0.5, 0.5, 0.5, 0.5, 0.5, 0.5, 0.5, 0.5, 0.5, 0.5, 0.5, 0.5, 0.5, 0.5, 0.5, 0.5, 0.5, 0.5, 0.5, 0.5, 0.5, 0.5, 0.5, 0.5, 0.5, 0.5, 0.5, 0.5, 0.5, 0.5, 0.5, 0.5, 0.5, 0.5, 0.5, 0.5, 0.5, 0.5, 0.5, 0.5, 0.5, 0.5, 0.5, 0.5, 0.5, 0.5, 0.5, 0.5, 0.5, 0.5, 0.5, 0.5, 0.5, 0.5, 0.5, 0.5, 0.5, 0.5, 0.5, 0.5, 0.5, 0.5, 0.5, 0.5, 0.5, 0.5, 0.5, 0.5, 0.5, 0.5, 0.5, 0.5, 0.5, 0.5, 0.5, 0.5, 0.5, 0.5, 0.5, 0.5, 0.5, 0.5, 0.5, 0.5, 0.5, 0.5, 0.5, 0.5, 0.5, 0.5, 0.5, 0.5, 0.5, 0.5, 0.5, 0.5, 0.5, 0.5, 0.5, 0.5, 0.5, 0.5, 0.5, 0.5, 0.5, 0.5, 0.5, 0.5, 0.5, 0.5, 0.5, 0.5, 0.5, 0.5, 0.5, 0.5, 0.5, 0.5, 0.5, 0.5, 0.5, 0.5, 0.5, 0.5, 0.5, 0.5, 0.5, 0.5, 0.5, 0.5, 0.5, 0.5, 0.5, 0.5, 0.5, 0.5, 0.5, 0.5, 0.5, 0.5, 0.5, 0.5, 0.5, 0.5, 0.5, 0.5, 0.5, 0.5, 0.5, 0.5, 0.5, 0.5, 0.5, 0.5, 0.5, 0.5, 0.5, 0.5, 0.5, 0.5, 0.5, 0.5, 0.5, 0.5, 0.5, 0.5, 0.5, 0.5, 0.5, 0.5, 0.5, 0.5, 0.5, 0.5, 0.5, 0.5, 0.5, 0.5, 0.5, 0.5, 0.5, 0.5, 0.5, 0.5, 0.5, 0.5, 0.5, 0.5, 0.5, 0.5, 0.5, 0.5, 0.5, 0.5, 0.5, 0.5, 0.5, 0.5, 0.5, 0.5, 0.5, 0.5, 0.5, 0.5, 0.5, 0.5, 0.5, 0.5, 0.5, 0.5, 0.5, 0.5, 0.5, 0.5, 0.5, 0.5, 0.5, 0.5, 0.5, 0.5, 0.5, 0.5, 0.5, 0.5, 0.5, 0.5, 0.5, 0.5, 0.5, 0.5, 0.5, 0.5, 0.5, 0.5, 0.5, 0.5, 0.5, 0.5, 0.5, 0.5, 0.5, 0.5, 0.5, 0.5, 0.5, 0.5, 0.5, 0.5, 0.5, 0.5, 0.5, 0.5, 0.5, 0.5, 0.5, 0.5, 0.5, 0.5, 0.5, 0.5, 0.5, 0.5, 0.5, 0.5, 0.5, 0.5, 0.5, 0.5, 0.5, 0.5, 0.5, 0.5, 0.5, 0.5, 0.5, 0.5, 0.5, 0.5, 0.5, 0.5, 0.5, 0.5, 0.5, 0.5, 0.5, 0.5, 0.5, 0.5, 0.5, 0.5, 0.5, 0.5, 0.5, 0.5, 0.5, 0.5, 0.5, 0.5, 0.5, 0.5, 0.5, 0.5, 0.5, 0.5, 0.5, 0.5, 0.5, 0.5, 0.5, 0.5, 0.5, 0.5, 0.5, 0.5, 0.5, 0.5, 0.5, 0.5, 0.5, 0.5, 0.5, 0.5, 0.5, 0.5, 0.5, 0.5, 0.5, 0.5, 0.5, 0.5, 0.5, 0.5, 0.5, 0.5, 0.5, 0.5, 0.5, 0.5, 0.5, 0.5, 0.5, 0.5, 0.5, 0.5, 0.5, 0.5, 0.5, 0.5, 0.5, 0.5, 0.5, 0.5, 0.5, 0.5, 0.5, 0.5, 0.5, 0.5, 0.5, 0.5, 0.5, 0.5, 0.5, 0.5, 0.5, 0.5, 0.5, 0.5, 0.5, 0.5, 0.5, 0.5, 0.5, 0.5, 0.5, 0.5, 0.5, 0.5, 0.5, 0.5, 0.5, 0.5, 0.5, 0.5, 0.5, 0.5, 0.5, 0.5, 0.5, 0.5, 0.5, 0.5, 0.5, 0.5, 0.5, 0.5, 0.5, 0.5, 0.5, 0.5, 0.5, 0.5, 0.5, 0.5, 0.5, 0.5, 0.5, 0.5, 0.5, 0.5, 0.5, 0.5, 0.5, 0.5, 0.5, 0.5, 0.5, 0.5, 0.5, 0.5, 0.5, 0.5, 0.5, 0.5, 0.5, 0.5, 0.5, 0.5, 0.5, 0.5, 0.5, 0.5, 0.5, 0.5, 0.5, 0.5, 0.5, 0.5, 0.5, 0.5, 0.5, 0.5, 0.5, 0.5, 0.5, 0.5, 0.5, 0.5, 0.5, 0.5, 0.5, 0.5, 0.5, 0.5, 0.5, 0.5, 0.5, 0.5, 0.5, 0.5, 0.5, 0.5, 0.5, 0.5, 0.5, 0.5, 0.5, 0.5, 0.5, 0.5, 0.5, 0.5, 0.5, 0.5, 0.5, 0.5, 0.5, 0.5, 0.5, 0.5, 0.5, 0.5, 0.5, 0.5, 0.5, 0.5, 0.5, 0.5, 0.5, 0.5, 0.5, 0.5, 0.5, 0.5, 0.5, 0.5, 0.5, 0.5, 0.5, 0.5, 0.5, 0.5, 0.5, 0.5, 0.5, 0.5, 0.5, 0.5, 0.5, 0.5, 0.5, 0.5, 0.5, 0.5, 0.5, 0.5, 0.5, 0.5, 0.5, 0.5, 0.5, 0.5, 0.5, 0.5, 0.5, 0.5, 0.5, 0.5, 0.5, 0.5, 0.5, 0.5, 0.5, 0.5, 0.5, 0.5, 0.5, 0.5, 0.5, 0.5, 0.5, 0.5, 0.5, 0.5, 0.5, 0.5, 0.5, 0.5, 0.5, 0.5, 0.5, 0.5, 0.5, 0.5, 0.5, 0.5, 0.5, 0.5, 0.5, 0.5, 0.5, 0.5, 0.5, 0.5, 0.5, 0.5, 0.5, 0.5, 0.5, 0.5, 0.5, 0.5, 0.5, 0.5, 0.5, 0.5, 0.5, 0.5, 0.5, 0.5, 0.5, 0.5, 0.5, 0.5, 0.5, 0.5, 0.5, 0.5, 0.5, 0.5, 0.5, 0.5, 0.5, 0.5, 0.5, 0.5, 0.5, 0.5, 0.5, 0.5, 0.5, 0.5, 0.5, 0.5, 0.5, 0.5, 0.5, 0.5, 0.5, 0.5, 0.5, 0.5, 0.5, 0.5, 0.5, 0.5, 0.5, 0.5, 0.5, 0.5, 0.5, 0.5, 0.5, 0.5, 0.5, 0.5, 0.5, 0.5, 0.5, 0.5, 0.5, 0.5, 0.5, 0.5, 0.5, 0.5, 0.5, 0.5, 0.5, 0.5, 0.5, 0.5, 0.5, 0.5, 0.5, 0.5, 0.5, 0.5, 0.5, 0.5, 0.5, 0.5, 0.5, 0.5, 0.5, 0.5, 0.5, 0.5, 0.5, 0.5, 0.5, 0.5, 0.5, 0.5, 0.5, 0.5, 0.5, 0.5, 0.5, 0.5, 0.5, 0.5, 0.5, 0.5, 0.5, 0.5, 0.5, 0.5, 0.5], \"sizemode\": \"area\", \"sizeref\": 0.00125, \"symbol\": \"circle\"}, \"mode\": \"markers\", \"name\": \"\", \"scene\": \"scene\", \"showlegend\": false, \"type\": \"scatter3d\", \"x\": [8.002879949554227, 8.031984508329147, 7.9097525883033954, 8.172377405196423, 8.066016002578044, 8.091016917841767, 8.111179391582308, 8.176445910834653, 8.0938727961286, 8.019719699304835, 8.09097110184076, 8.251627759760282, 8.193215121525638, 8.011867087098485, 8.0649431968504, 8.1124576283383, 8.168847043578076, 8.139816125056509, 8.029545014687217, 8.062464518954048, 8.123945315363137, 8.214039822971607, 8.271302706723986, 8.490682069522126, 8.439356061499398, 8.304634992916652, 8.262481122866374, 8.19179529964389, 8.170014352515077, 7.974423268315288, 7.91210550905037, 7.938253963380765, 7.9296540716468, 7.969579031061264, 7.955499744155162, 8.043882927936712, 8.094768848465053, 8.291665909032377, 8.239033602198866, 8.255253398521909, 8.366737394338474, 8.241027889292546, 8.39060441301128, 8.39066715244479, 8.250105527213181, 8.407159542538631, 8.407806151875677, 8.436054068936409, 8.575932802947086, 8.487772434923551, 8.643811462590609, 8.643716409416614, 8.693817435745897, 8.765768341489597, 8.726375324930967, 8.689043419318505, 8.917405569384137, 8.956789246339971, 8.881049774251801, 8.89171867889009, 8.765708869003365, 8.782837595812477, 8.663397429474527, 8.604768867895077, 8.714350079729229, 8.735902359481738, 8.711751616605438, 8.805657109679858, 8.819758320865493, 8.684375797261861, 8.778763282774834, 8.661048641161754, 8.608529120759963, 8.520032519714512, 8.66020680328395, 8.637238431939736, 8.689376029147514, 8.76211329595825, 8.618606269609124, 8.35480651205277, 8.149103534377875, 8.02804116121189, 7.908466338877887, 7.922687525410484, 8.044730131669148, 7.73393880170062, 7.7125537288459, 7.662272977447526, 7.727758934193485, 7.756541720059069, 7.75331305061919, 7.790087499329039, 7.714676741660361, 7.745019687736511, 7.813847937861821, 7.853521545497718, 7.712517158070841, 7.691905810626208, 7.707889654764331, 7.844942259198364, 7.853579841748027, 7.751643436693826, 7.629832666155259, 7.630679113323651, 7.622596458076334, 7.649960223750756, 7.694150402895473, 7.961860737333566, 8.141250406825794, 8.066423752217126, 7.935969349584798, 8.050528588315032, 7.9472969483677725, 7.950592856358192, 8.06490393732514, 7.988667804424767, 7.948599488173791, 8.182554920219205, 8.126555123357628, 8.023617944477687, 7.924265142086511, 7.91223253597349, 8.014192158402743, 7.992328613623181, 7.677390776819913, 7.859058025498487, 7.821751033173578, 7.81876730402707, 7.462069698575437, 7.435938740913137, 7.40811338503871, 7.339822661251929, 7.199161602648955, 7.020847571198296, 6.894656776033102, 6.922098621611657, 6.961890145189028, 6.888498669102769, 6.9055659995167185, 6.8388822594239915, 6.932661725770088, 6.860674429217498, 6.929360037045185, 6.795439576043291, 6.678274565776399, 6.767739592350269, 6.6061978105037555, 6.592044976996167, 6.773787819102996, 6.745921113880823, 6.619667242722018, 6.62454223832687, 6.62649819544695, 6.71689541779786, 6.925627608002663, 6.910519580965573, 6.934870472291189, 6.993556538503538, 6.962084337385872, 6.935476083947521, 6.927259689300117, 6.859476886028493, 6.777515403146982, 6.853102612461074, 6.851456597329813, 6.8542634254723005, 6.840383981108385, 6.821728028174519, 6.747151547386484, 6.8566292956980375, 6.73036139681682, 6.595518155739213, 6.514511233058991, 6.405513629983134, 6.386640414859558, 6.346948421726796, 6.4267344968156905, 6.22585215243461, 6.2232408285262055, 6.084653288109752, 6.102076243370599, 6.044520350098417, 5.98582598201959, 5.889519611768021, 6.001864601932559, 5.890646547254583, 5.822442628986049, 5.784835224119601, 5.736443636443475, 5.734151253218842, 5.684869041139825, 5.6715065943445655, 5.742493873955458, 5.907562013460289, 5.87790526110009, 5.976268568973493, 5.924546448207912, 5.850217780998323, 5.811348618603759, 5.898194086854757, 5.937674311690997, 5.831220741018297, 5.814620172543097, 5.656985423014266, 5.554512681724412, 5.550210865172267, 5.492015770018567, 5.511869074645285, 5.676906594031353, 5.619902715162589, 5.6502377676905775, 5.510049472950499, 5.529190246815793, 5.48941183510047, 5.5737848972278785, 5.743046250408254, 5.583974398062557, 5.6230694706357065, 5.660712827123105, 5.623338510275984, 5.579284786290084, 5.621182547195349, 5.455884434880944, 5.343733080484804, 5.250154899097241, 5.3520920360419995, 5.465413850223099, 5.667553611244254, 5.912966314618546, 5.828723937562694, 5.75894122301692, 5.75053871662877, 5.7389548081994555, 5.602615795161757, 5.584887035748786, 5.550509875108507, 5.77559618560214, 5.757118770185362, 5.758918873195126, 5.924846624598388, 5.976335833977858, 6.005311527145476, 5.82901407494634, 5.888727069720488, 5.903427392531461, 6.098496941424272, 6.119637246349135, 6.13140903461659, 6.280911278466167, 6.353650877919753, 6.430561873508333, 6.337746515435437, 6.444240144109421, 6.573656805124026, 6.483649448642441, 6.496460482095884, 6.597057614242158, 6.445649056436975, 6.57586577727477, 6.509231143152044, 6.667292188670436, 6.660563213020664, 6.822499063934635, 6.885782436103654, 6.824363112731098, 6.676468557820451, 6.6280658599021125, 6.599844848725757, 6.525159447734484, 6.652380484675779, 6.579889528929203, 6.492155871195701, 6.441595310101623, 6.324518625009245, 6.356661754096691, 6.370055088666072, 6.351170899769956, 6.430287652347142, 6.19988899871197, 6.241345163540763, 6.275427408029254, 6.391687943502481, 6.342786588738508, 6.341337603719365, 6.415055576214337, 6.582043040224, 6.588996768749029, 6.7471402660559585, 6.949503139392667, 7.0066544121099374, 6.93447926502056, 6.89355637076745, 6.848047428292119, 6.868838314648852, 6.84338928765098, 6.702997931435125, 6.7116561647563655, 6.748093186157328, 6.802446108025875, 6.79757996543509, 6.877185134727573, 6.721207209439805, 6.786855574762757, 6.743663518229389, 6.830568660555305, 6.699260836818017, 6.733576594719613, 6.64700936765955, 6.3803183182525505, 6.290497282329127, 6.1454453994969125, 6.167340244286004, 6.227093482156392, 6.240028068238475, 6.243976014845283, 6.207646741258154, 6.285680584852068, 6.270340894821301, 6.2260281070886, 6.25703939455557, 6.236340295944489, 6.119014336047394, 6.1319983809281995, 6.166119412095188, 6.3815181052999, 6.539417258131269, 6.571299517489768, 6.587981317576216, 6.436123003200534, 6.381115446407598, 6.426085755324885, 6.54645796913981, 6.539272466186266, 6.618421716098413, 6.643398055282443, 6.600483367797868, 6.54975715618522, 6.4736491178925855, 6.609642440776596, 6.494009659975825, 6.730721681210268, 6.681508775314731, 6.608824266898927, 6.471135728392837, 6.503842389962233, 6.38314199086174, 6.216454422642895, 6.129601626255621, 6.3136190438590996, 6.407420749409286, 6.2336421057300955, 6.28965207774825, 6.499908039834235, 6.55168293095957, 6.457653625756676, 6.358901020874873, 6.345329444428527, 6.363167382370168, 6.29291615925149, 6.099052289020076, 5.973262255434001, 5.894670569818565, 5.771328335562639, 5.773297752885588, 5.814680810223499, 5.760804202120536, 5.727623708618528, 5.707417487139999, 5.835951857239624, 5.936367992582442, 5.983522554236585, 5.813604210629057, 5.561929284685087, 5.628437623596537, 5.665173988775271, 5.82345929196574, 5.793297245409665, 5.642456746072496, 5.451210499665451, 5.424944844363935, 5.389212364247979, 5.2374119695206005, 5.055875934329663, 5.071382469319612, 5.350576734696328, 5.471763657039264, 5.634352410179954, 5.610911919894727, 5.5835216306889555, 5.597901412673064, 5.693253922532551, 5.777245264228229, 5.679872353278133, 5.764961624933338, 5.774531863524178, 5.932994361588524, 5.9132545156234775, 5.72265019949742, 6.019811779468919, 5.949783523971619, 5.937454085460685, 5.7899748802370326, 5.734387212239181, 5.7930905581240495, 5.848835222851648, 5.885793465224943, 5.880219792069027, 5.7777734185650935, 5.8788322547037914, 5.757961124381728, 5.849166830123344, 5.941697017684632, 5.966109494428858, 6.022413134829169, 6.03642723427879, 6.018356321406177, 6.081366429954442, 6.303720102911141, 6.386662360168273, 6.503153208723703, 6.42444752536924, 6.639799718378844, 6.668059324350189, 6.5933458349485194, 6.64929835353394, 6.770035962537406, 6.623721265695877, 6.794977851813655, 6.863639529821788, 6.744755647334653, 6.8176768513129415, 6.734527417340489, 6.746405804869729, 6.805052304325612, 6.948727583521333, 6.923625287253186, 6.797030334333974, 6.705537795634474, 6.699560989367527, 6.726842191183156, 6.96348735974303, 7.137547814050876, 7.295950477078676, 7.472018134564404, 7.417958557649627, 7.490730722510307, 7.581811945070899, 7.474470252274638, 7.423717114891007, 7.455591775019981, 7.370604405393487, 7.604893259307372, 7.542353773712578, 7.543930254597266, 7.460267568826428, 7.48054813175206, 7.516521237877817, 7.5960005425455135, 7.633860715204043, 7.59875132174046, 7.610878291497665, 7.5565505092442065, 7.362806049410144, 7.363122647483753, 7.306355664663854, 7.391788173531577, 7.304689297126387, 7.2859368689954485, 7.105097154521238, 7.136597787157625, 7.3754266627443545, 7.1723827926667285, 6.862222993715986, 6.712590587990448, 6.63903453324871, 6.851532140652245, 6.849079808437319, 6.974105887639909, 6.874717703767135, 7.031058357217918, 7.015010931399685, 6.858635029213858, 6.981940334228684, 6.907009070134402, 6.8407236116908665, 6.850558949462689, 6.735647159020821, 6.59675437025522, 6.635040337645652, 6.634569053587117, 6.524835404028848, 6.5627112088417885, 6.668140592143388, 6.710509497643477, 6.746680474431836, 6.858754430118729, 6.6607534140533575, 6.654212050005573, 6.587465760326974, 6.785764463955432, 6.790628155495154, 6.668490992527115, 6.762832923479839, 6.550725615159276, 6.521928610015846, 6.587645852145899, 6.540106378778005, 6.559489873030072, 6.3680123203817605, 6.445869386526819, 6.472708962026304, 6.411886704992508, 6.41495675990276, 6.439103958260791, 6.310331655082995, 6.3272769488301215, 6.393364042825694, 6.25261658914472, 6.170683072484749, 6.24983802943107, 6.051151888346345, 6.182030345720654, 6.229692640423069, 6.148638973880744, 6.218770085814069, 6.157351631001153, 6.299250873149546, 6.266563734896097, 6.230933357820957, 6.223864135882078, 6.342405647287779, 6.403936876533006, 6.195905785516978, 6.227372945375567, 6.428779398686682, 6.362874813205016, 6.198646292833395, 6.337078475650697, 6.3408122682355135, 6.184082981429008, 6.0385036013076645, 6.153415905675087, 6.264501907316896, 6.224957457451694, 6.293732411473074, 6.303973216488207, 6.360768359530449, 6.384045369670965, 6.259705698886804, 6.291922080853564, 6.33014668889808, 6.193933733231133, 6.338349512516682, 6.21232678794625, 6.24146400977359, 6.361406936989396, 6.256858918901859, 6.4206256941171365, 6.333823249553828, 6.304635889739652, 6.4398880833272525, 6.316131492033507, 6.2350787995967245, 6.10708648505057, 6.087361875373453, 6.033796156824763, 6.1085956331392275, 6.061152137214159, 6.004948426470267, 5.857279179266287, 5.8151220846069025, 5.886006377514866, 5.856233316616066, 5.767970242211926, 5.7461353476333406, 6.016448448872932, 5.99279016216641, 6.178486151077439, 5.999076515613562, 5.759798110428875, 5.576948010541228, 5.711431389395544, 5.6388192346132175, 5.535490252094117, 5.301083467114477, 5.38574538663156, 5.2621945297933035, 5.1553151989353285, 5.132641224292242, 4.93757716263481, 5.064745977350896, 5.205772871332079, 5.281513724507116, 5.16118440916006, 5.193431511513652, 5.1871987922803315, 5.1867734871483915, 5.14077279088061, 5.216683038345724, 5.271652884129655, 5.301023773509363, 5.300577494237208, 5.282799014265452, 5.393809562476801, 5.460634922869704, 5.585112133818616, 5.547602325108045, 5.5213434694731225, 5.557252023799632, 5.5787615002602555, 5.496430567486467, 5.550196944689414, 5.5990523325677515, 5.435428887455927, 5.49589754506368, 5.510307636406428, 5.596705641400541, 5.533086091684304, 5.616934045397999, 5.631589208542991, 5.5558355507719055, 5.553903972060063, 5.61739132620684, 5.686713223187171, 5.647943702518098, 5.871745325912398, 5.895149513876911, 5.796864097604317, 5.5584041855448945, 5.5098215770055585, 5.4343213036614015, 5.4457515578993245, 5.53845207241817, 5.4772192095482595, 5.366921574933674, 5.258729024024357, 5.282285872038996, 5.471238107753363, 5.432101280873893, 5.3467474016573995, 5.471397112384966, 5.521970050027367, 5.5273523325268235, 5.376430772416143, 5.206224032805143, 5.405970546149895, 5.595746752507112, 5.540937756744887, 5.76639129399216, 5.74807795517541, 5.76748612373155, 5.606766200310865, 5.689174740446944, 5.696587785761239, 5.673693677685702, 5.644886274592792, 5.706251315159877, 5.720736183036902, 5.659311285108933, 5.688268616131532, 5.766780083779031, 5.779566069833496, 5.487052565248215, 5.424153887256308, 5.375054017258694, 5.3790322737402505, 5.638525089600522, 5.787096976736489, 5.785422374406146, 5.586532280196981, 5.55756593486283, 5.621556266495914, 5.776514278095888, 5.750230595408463, 5.839229352336173, 5.779084882157119, 5.793294254745198, 5.874298127015653, 6.019655481329538, 6.1174530355111765, 6.114871007897892, 6.028020936971409, 6.008230543394684, 5.978445383308173, 6.180821914466849, 6.203669549545831, 6.270027352085471, 6.2582783757354115, 6.197423382416371, 6.269422658242234, 6.261229998370279, 6.476966896528493, 6.358384400598063, 6.533438251383558, 6.7365240235841135, 6.8169841681027, 6.845253141516011, 6.863736666691928, 6.84198982824413, 6.925763445760224, 7.031504389141031, 7.068250757825064, 7.126926048832266, 7.180316784264019, 7.016275055235729, 6.987999172460799, 7.180561030162189, 7.043400883024106, 7.220323966359898, 7.2712713029239096, 7.415449113225166, 7.308440476959413, 7.286925410722836, 7.07393246117306, 7.151916668629205, 7.094990111059041, 7.0054502127400085, 6.968726468628978, 6.949810566367875, 6.798277571693156, 6.818979768057388, 6.860675138793636, 6.927115872342578, 6.901426207889722, 6.980512867620029, 6.942755653708234, 6.816499213555944, 7.15056003322527, 7.263597849100571, 7.0253843775666605, 6.8665796107160455, 6.849189471543943, 6.680791850062017, 6.674353247423395, 6.751274443012991, 6.75887104620149, 6.558880027098103, 6.459960923499248, 6.588458429874377, 6.504614530841128, 6.616138399785765, 6.66675838227899, 6.582255527654911, 6.730382993954384, 6.545747994726687, 6.67648718756257, 6.497322328909868, 6.534160270623444, 6.745912975100584, 6.750055109654572, 6.620919799020596, 6.600589954709276, 6.657225714702088, 6.652883848999278, 6.628092844897503, 6.7224752839661654, 6.791358013761247, 6.615961262503405, 6.439838368668604, 6.440073451396733, 6.344245414289723, 6.5370510466808085, 6.571153936350017, 6.518477467166186, 6.401449994115504, 6.289948896344806, 6.129401887836017, 6.002965841904873, 5.853401965282709, 6.0738724478347805, 5.983570128171037, 5.951814757738734, 5.9792130142842, 5.993819599588706, 6.001336445985456, 6.094600634940533, 5.950807293619484, 5.889797670817806, 5.622698385779419, 5.882890886736566, 5.9271405156198, 5.982979637398483, 6.104651483252966, 6.0242780514324625, 5.994895289795705, 6.088423383196739, 6.000890041463749, 6.06798949530158, 6.03634888360613, 6.036886357363898, 6.146784710268859, 6.1030868360831425, 6.203777391425763, 6.110144195164932, 5.9988524249458735, 6.005195936534511, 6.085741059853436, 6.123787413442938, 5.998649814454696, 6.042659334460943, 5.9482991857079215, 5.845423363848427, 5.854950815760377, 5.797262095891896, 5.804907527968267, 5.794969058422498, 5.593770669391788, 5.479110469182089, 5.42427627411777, 5.554745191698208, 5.600152284351207, 5.608665002480671, 5.568232294483514, 5.530324599595811, 5.574689258540131, 5.6503999414792325, 5.684000384492777, 5.749035422723407, 5.667770699960253, 5.71212344676397, 5.644503859213066, 5.571868612858053, 5.439156565739906, 5.413778072398085, 5.5874096759077645, 5.7629331756815985, 5.7430033102344105, 5.804704969721891, 5.6412507521481805, 5.815928795029512, 5.93854112469989, 6.093071982223422, 6.315486335648474, 6.44982124232442, 6.387631628764423, 6.513326020572865, 6.565610235891477, 6.55873288547941, 6.509286666720804, 6.246425913216385, 6.176043484526112, 6.282779681808834, 6.212522822913941, 6.167267643519351, 6.195150916925738, 6.382323042775698, 6.493821121036022, 6.409475554331166, 6.358095972901522, 6.504293554245667, 6.619321080072969, 6.668227566414544, 6.723110487059786, 6.708987393309368, 6.444401668133196, 6.36152743562188, 6.309367896643674, 6.377787628675987, 6.300712530933434, 6.197014133251663, 6.197318532630635, 6.2613522715799395, 6.184187270647029, 6.167166318416109, 6.216247842908792, 6.30125362588898, 6.492732848049859, 6.337627124407421, 6.388437738419585, 6.456429145007771, 6.325752165031794, 6.378675775050656, 6.475209245571457, 6.523937888606811, 6.61719145738542, 6.422962782262325, 6.337266935193052, 6.316256460597494, 6.3372796493902515, 6.396831443539537, 6.455812730834962, 6.549982803937132, 6.414279412402944, 6.410399633428825, 6.278720887451421, 6.423414444939575, 6.484200966306783, 6.610567646621478, 6.665544282908921, 6.5520120969688005, 6.728565552389833, 6.672662451190531, 6.5931725829236925, 6.453590811725862, 6.3289399851699475, 6.424612329361263, 6.477080194061751, 6.703841471294419, 6.7138815446784434, 6.655622333984523, 6.528632928717967, 6.6724504039806, 6.549140106681041, 6.507846582773265, 6.447031977939133, 6.333295454205763, 6.4701347645417115, 6.478343334878021, 6.5458256983442125, 6.35065150167545, 6.344929449424175, 6.262405882093265, 6.354226948862733, 6.360818279411454, 6.52772964839063, 6.359122566207555, 6.475399913501053, 6.556919929393084, 6.713272827471708, 6.646924587631998, 6.660449086431632, 6.798217190431364, 6.71836441418575, 6.614856337921968, 6.755688520157131, 6.641692883590733, 6.720379444393297, 6.652893548193463, 6.497257104236179, 6.39352353917919, 6.444078535408159, 6.407540580414054, 6.587101744650686, 6.533254812506034, 6.504860731565805, 6.524446611069509, 6.454657503366557, 6.494585962086439, 6.462107528473347, 6.533553541158065, 6.541939629788439, 6.570210727667476, 6.451627560141301, 6.582890952511189, 6.6566621874720555, 6.729941717013628, 6.629496703028111, 6.651008693418069, 6.779062569589983, 6.879754640792769, 6.836000590961373, 6.75084391875955, 6.817243600906852, 6.931571093485692, 6.994154675093392, 7.037991603363795, 7.044332430254678, 7.0034067770955115, 7.023643233482206, 7.132775642107086, 7.356217869581773, 7.233599561797278, 6.998486935463675, 6.952056387913069, 6.972351045668463, 7.046131864211639, 6.888982654573352, 6.810524179027015, 6.8972568205232, 7.0292551688164435, 7.298175187778314, 7.266471475075299, 7.080790147241036, 7.153681889604122, 7.062292750201923, 6.793028271962311, 6.620428314156856, 6.6129101853025825, 6.506385852554101, 6.482022037184637, 6.347017169793574, 6.334675445988831, 6.491773022842194, 6.586825172462247, 6.525071301335192, 6.398656583572394, 6.462702925553014, 6.628140836892707, 6.807430620435546, 6.6902352327236, 6.676205458886945, 6.684592169592309, 6.741293121363598, 6.6763614496666595, 6.662380998618417, 6.535047344892653, 6.508745247176682, 6.740811501513856, 6.811624250181998, 6.89505104452939, 6.798183588006743, 6.768511963163443, 6.710373219949516, 6.769213746973586, 6.667017198175714, 6.6148255683715975, 6.574813792579939, 6.432717556030853, 6.366337915692868, 6.563132774446253, 6.530423325747878, 6.660941955223528, 6.639356145414328, 6.605377440084271, 6.497357124897856, 6.391528309270874, 6.372017358285037, 6.307227376703802, 6.426648682025991, 6.4791163304927935, 6.442505841283035, 6.481317970204004, 6.407516023638155, 6.452116748904331, 6.5346136080749515, 6.363287526278577, 6.445787983181231, 6.307802475274205, 6.3468219515968824, 6.4452267911886105, 6.398854847189099, 6.350535342623133, 6.4231313596861, 6.33427949490248, 6.201912611880867, 6.297135521951537, 6.2079803848960085, 6.16640803006729, 6.127583295203298, 6.145870837175103, 6.134230179504785, 6.265884179400504, 6.2522036077463445, 6.285389439020028, 6.232203364737999, 6.197664022134276, 6.25715502965661, 6.3122233163377715, 6.270089097754889, 6.198719982027815, 6.117799747270279, 6.230729438132226, 6.235903783947215, 6.32747089864866, 6.39887563428664, 6.340120762279927, 6.430304280121466, 6.422052227704947, 6.32239432624479, 6.38366207207273, 6.202421681891041, 6.196414847689337, 6.220632099266173, 6.182694320184485, 6.10866048922721, 6.084719351297662, 6.112739756807384, 5.935031108720871, 5.888706759332171, 6.0235097687819055, 5.920170339300158, 5.886783173669757, 5.924869192362126, 6.069342362649791, 6.0627389545490225, 6.086351757938594, 5.98075212633356, 6.02253707855112, 5.929282617387257, 5.678057329210778, 5.670352889245273, 5.919162666979628, 5.787793656514632, 5.803367134146227, 5.709388437671368, 5.561470861657823, 5.5164309482444365, 5.585973272216685, 5.486243396028306, 5.454769995350372, 5.44646952410041, 5.524639005847677, 5.60933575844869, 5.781807466177061, 5.843228092213997, 5.670662506201407, 5.59402023615942, 5.605507584402065, 5.583797267125673, 5.641119825514873, 5.466157134413619, 5.373966632033255, 5.275049233861807, 5.384878914843887, 5.369692438316225, 5.347206595505002, 5.378062289380395, 5.386238000626321, 5.398506012310298, 5.4161266255503655, 5.483799228956411, 5.646967308208634, 5.882652978104015, 5.865990010819239, 5.965993772598756, 5.845480230454773, 5.631605396069826, 5.527211916553047, 5.605827153821072, 5.698733638712769, 5.655461984879359, 5.678233016471608, 5.537426108995961, 5.655154469887315, 5.5784121886449025, 5.541301764147144, 5.476315543421992, 5.439077080614695, 5.448352892974945, 5.507298555856773, 5.639323437710543, 5.545115878205448, 5.586009739935607, 5.7322123178934135, 5.835010376384331, 5.703758993483638, 5.740886974705011, 5.644838037628303, 5.657127033717014, 5.645815391545504, 5.565137296503307, 5.586213101884451, 5.624547357572729, 5.655676955764919, 5.507770349040938, 5.632766237861031, 5.563126623272707, 5.676516869737052, 5.7537338962883045, 5.750110000019806, 5.761413072258955, 5.645417427662707, 5.690404186791948, 5.809951301556202, 5.746814332668635, 5.8229129194835, 5.7584983689392795, 5.763194591202727, 5.824272637500036, 5.7533403352205035, 5.822514168237697, 5.847743699341112, 5.80135560094718, 5.819117705841341, 5.789458822751622, 5.879529116206334, 5.684464959484186, 5.534712691858491, 5.417007483632163, 5.284589776639664, 5.360505733776171, 5.468462732307151, 5.451942426552045, 5.588806458706901, 5.467497178532742, 5.570797893773744, 5.6072096016411574, 5.667304567655318, 5.948550731373721, 5.985700439261588, 6.006272804942368, 6.031128728690774, 6.177345693086991, 6.339060576790909, 6.412320703060079, 6.31717388155392, 6.250055620678962, 6.279870945087357, 6.279567209448776, 6.40893249391057, 6.447424409394544, 6.371816302241156, 6.408761382744708, 6.190268547823362, 6.094345909499016, 5.989210139480942, 5.908667591678021, 5.862522633648041, 5.867577622448886, 5.848027174187189, 5.71092480256741, 5.91022549085513, 5.989981035194888, 6.083603883507008, 6.070234068078716, 6.0931462618613335, 5.9198551068603145, 5.723217618027668, 5.698553361875637, 5.750248493754832, 5.862264437538158, 5.936052893138078, 5.721672726167743, 5.674465239865827, 5.6291266123866555, 5.555954339581259, 5.479827298683036, 5.441672655154966, 5.454938969200113, 5.514618723589757, 5.639922733987639, 5.519497007906481, 5.487429927845644, 5.2255804740123795, 5.224019714714811, 5.283779054139837, 5.387028279342047, 5.4273742780481475, 5.433767595767654, 5.568864766141855, 5.4629946469142, 5.516336107285601, 5.49174976457079, 5.350218520264402, 5.421413652518653, 5.643608030665551, 5.725575578810373, 5.71367935272501, 5.590014623364793, 5.655540276550849, 5.850141722944504, 5.868573651612759, 5.715782455294354, 5.668576592500413, 5.7385353091605245, 5.782289266715307, 5.847165253036086, 5.866120801379234, 5.894335664814769, 5.928334386494392, 6.083469277422578, 6.102785755922912, 5.90020549008113, 5.923601902869556, 6.035088487077596, 5.954175587982843, 5.979989611293024, 6.032445280144349, 6.054947948769218, 6.153945670794807, 6.045014591671658, 6.139008637905842, 6.091828285303294, 6.153803780061415, 6.170331759867182, 6.251570407211597, 6.275258599755452, 6.228687783066911, 6.362817226874078, 6.419578378808746, 6.346838975055178, 6.1513086501899945, 6.2258413674869715, 6.248767692812493, 6.308663346877031, 6.318123149798052, 6.252634776278637, 6.123742007632356, 6.146624719323291, 6.043559963552734, 5.963485195284202, 5.868185344823384, 5.924078033415295, 5.775657381769942, 5.7395310785844895, 5.675101529616423, 5.712487208809503, 5.767718371707187, 5.859933748296319, 5.855930551404142, 5.806088606453824, 5.928213587825354, 5.897071664533972, 5.838075080542642, 5.865929943559773, 5.763727120578885, 5.795043418836445, 5.7998181582263095, 5.814577758374591, 5.782705701989945, 5.875241137895101, 5.946579838652352, 5.956604812187399, 5.949775371758989, 5.7569954447322775, 5.722565767115378, 5.736159216726702, 5.6329123217893935, 5.488839791982338, 5.59264462282161, 5.654622391910636, 5.5302306446673555, 5.574334538900571, 5.538715053834044, 5.5313176975406435, 5.655781324165452, 5.7476016084965185, 5.614754908718521, 5.549302780812804, 5.5197862366875485, 5.628187398824748, 5.5929419146985495, 5.614527390175214, 5.6702528452511665, 5.477400751260551, 5.568714327096023, 5.424465761278921, 5.3815209823130035, 5.428096677683033, 5.3669893901646795, 5.501611279355489, 5.370821840447419, 5.276541347823531, 5.1997318812702105, 5.101230682167435, 5.250291380133781, 5.142138181067064, 5.0233467252120985, 5.123132086988027, 5.131116248699269, 5.002798133245989, 5.129200392174256, 4.986937840564315, 5.0941295030955365, 4.983510816979756, 4.931006461502255, 5.108484735896918, 5.150660277258212, 5.006010214598649, 5.027156911292437, 5.004530007886226, 4.974405456024766, 5.007498972687698, 4.919267793961349, 4.92915872753618, 4.854705536771071, 4.959164410413199, 5.095880371819246, 5.216560877243164, 5.290661651417288, 5.398343549418095, 5.599463523133492, 5.585404388148838, 5.663926591620118, 5.716456093136751, 5.710533524589752, 5.733880247640097, 5.799067150667778, 5.838641184671268, 5.770370763436613, 5.5722206409422546, 5.421981474019892, 5.464775736145917, 5.608182110621146, 5.593443488978281, 5.649768750583481, 5.721218329951135, 5.621919990644827, 5.4924608789238425, 5.498313257861375, 5.6265700257022395, 5.698980599616336, 5.711525910715202, 5.683523898754154, 5.852624765120732, 5.956909563845943, 5.691446472125482, 5.619057660665412, 5.603718239699735, 5.603654413018628, 5.482606109266341, 5.504993667473743, 5.687986186724397, 5.902904316776739, 5.733445662894504, 5.82242939203636, 5.821748811264997, 5.9121034050581205, 5.707883060848389, 5.577105819362514, 5.546913424438992, 5.625170324876017, 5.613065554770672, 5.6870647935483065, 5.805819164981642, 5.654878490585475, 5.657414701731227, 5.602770902039943, 5.564894554895469, 5.5909076035666425, 5.771428395939586, 5.694641308087268, 5.778710019447078, 6.0211350203163185, 5.984785090326723, 5.963588779763352, 5.831217044006263, 5.829147999547576, 5.741305253505942, 6.0010824187815315, 6.05602403084634, 6.18185979375413, 6.3278163443697055, 6.371901725651311, 6.291758508034572, 6.225753741435436, 6.270351560005553, 6.12615198791933, 5.96699958344589, 5.9809251043923775, 5.935703859913224, 5.93337049390955, 6.006426223091801, 6.086966343075039, 6.026899540112542, 6.076844852065022, 6.005836752089706, 5.934368549218473, 6.195806459444219, 6.05624446503851, 6.105470251661132, 6.104501916584796, 6.185489032756335, 6.2193739019621, 6.32901516899635, 6.350074098560062, 6.567582553701231, 6.680893742097288, 6.580881739201975, 6.532201148435004, 6.6264289048127445, 6.73301692836428, 6.8031796234060185, 6.867573140232804, 6.979549685910556, 7.135210529051695, 7.037708779592915, 7.067162177098673, 6.916866790322405, 6.763424108824134, 6.925747333125273, 7.114253212078235, 7.215103001216774, 7.210261102926548, 7.305032184179875, 7.270166766300766, 7.542261157265159, 7.3989454485170825, 7.328460358188971, 7.359596039048412, 7.311477562957238, 7.432244903025086, 7.522846104409405, 7.419137909458014, 7.286484727023231, 7.171766583446616, 7.142004104132494, 7.240095512590835, 7.180821248462237, 7.319636555113852, 7.16882463630819, 7.159129259539513, 7.3007355203807265, 7.359698450463868, 7.458925228631867, 7.368123600978221, 7.371371545654418, 7.448692426598253, 7.274491589811666, 7.241896841784177, 7.255886249927403, 7.297476619016297, 7.276717899134719, 7.326775020584442, 7.367473599195558, 7.405721410690971, 7.242749633015218, 7.192209854798572, 7.325169392043687, 7.297276502608993, 7.421201047913568, 7.5222694297046155, 7.690347703723889, 7.634027595267568, 7.587027296309677, 7.586730238707853, 7.516733911079097, 7.656018141310191, 7.632543012706261, 7.502053635691429, 7.405069087895115, 7.516364605383812, 7.4123962378888955, null, null, null, null, null, null, null, null, null, null, null, null, null, null, null, null, null, null, null, null, null, null, null, null, null, null, null, null, null, null, null, null, null, null, null, null, null, null, null, null, null, null, null, null, null, null, null, null, null, null, null, null, null, null, null, null, null, null, null, null, null, null, null, null, null, null, null, null, null, null, null, null, null, null, null, null, null, null, null, null, null, null, null, null, null, null, null, null, null, null, null, null, null, null, null, null, null, null, null, null, null, null, null, null, null, null, null, null, null, null, null, null, null, null, null, null, null, null, null, null, null, null, null, null, null, null, null, null, null, null, null, null, null, null, null, null, null, null, null, null, null, null, null, null, null, null, null, null, null, null, null, null, null, null, null, null, null, null, null, null, null, null, null, null, null, null, null, null, null, null, null, null, null, null, null, null, null, null, null, null, null, null, null, null, null, null, null, null, null, null, null, null, null, null, null, null, null, null, null, null, null, null, null, null, null, null, null, null, null, null, null, null, null, null, null, null, null, null, null, null, null, null, null, null, null, null, null, null, null, null, null, null, null, null, null, null, null, null, null, null, null, null, null, null, null, null, null, null, null, null, null, null, null, null, null, null, null, null, null, null, null, null, null, null, null, null, null, null, null, null, null, null, null, null, null, null, null, null, null, null, null, null, null, null, null, null, null, null, null, null, null, null, null, null, null, null, null, null, null, null, null, null, null, null, null, null, null, null, null, null, null, null, null, null, null, null, null, null, null, null, null, null, null, null, null, null, null, null, null, null, null, null, null, null, null, null, null, null, null, null, null, null, null, null, null, null, null, null, null, null, null, null, null, null, null, null, null, null, null, null, null, null, null, null, null, null, null, null, null, null, null, null, null, null, null, null, null, null, null, null, null, null, null, null, null, null, null, null, null, null, null, null, null, null, null, null, null, null, null, null, null, null, null, null, null, null, null, null, null, null, null, null, null, null, null, null, null, null, null, null, null, null, null, null, null, null, null, null, null, null, null, null, null, null, null, null, null, null, null, null, null, null, null, null, null, null, null, null, null, null, null, null, null, null, null, null, null, null, null, null, null, null, null, null, null, null, null, null, null, null, null, null, null, null, null, null, null, null, null, null, null, null, null, null, null, null, null, null, null, null, null, null, null, null, null, null, null, null, null, null, null, null, null, null, null, null, null, null, null, null, null, null, null, null, null, null, null, null, null, null, null, null, null, null, null, null, null, null, null, null, null, null, null, null, null, null, null, null, null, null, null, null, null, null, null, null, null, null, null, null, null, null, null, null, null, null, null, null, null, null, null, null, null, null, null, null, null, null, null, null, null, null, null, null, null, null, null, null, null, null, null, null, null, null, null, null, null, null, null, null, null, null, null, null, null, null, null, null, null, null, null, null, null, null, null, null, null, null, null, null, null, null, null, null, null, null, null, null, null, null, null, null, null, null, null, null, null, null, null, null, null, null, null, null, null, null, null, null, null, null, null, null, null, null, null, null, null, null, null, null, null, null, null, null, null, null, null, null, null, null, null, null, null, null, null, null, null, null, null, null, null, null, null, null, null, null, null, null, null, null, null, null, null, null, null, null, null, null, null, null, null, null, null, null, null, null, null, null, null, null, null, null, null, null, null, null, null, null, null, null, null, null, null, null, null, null, null, null, null, null, null, null, null, null, null, null, null, null, null, null, null, null, null, null, null, null, null, null, null, null, null, null, null, null, null, null, null, null, null, null, null, null, null, null, null, null, null, null, null, null, null, null, null, null, null, null, null, null, null, null, null, null, null, null, null, null, null, null, null, null, null, null, null, null, null, null, null, null, null, null, null, null, null, null, null, null, null, null, null, null, null, null, null, null, null, null, null, null, null, null, null, null, null, null, null, null, null, null, null, null, null, null, null, null, null, null, null, null, null, null, null, null, null, null, null, null, null, null, null, null, null, null, null, null, null, null, null, null, null, null, null, null, null, null, null, null, null, null, null, null, null, null, null, null, null, null, null, null, null, null, null, null, null, null, null, null, null, null, null, null, null, null, null, null, null, null, null, null, null, null, null, null, null, null, null, null, null, null, null, null, null, null, null, null, null, null, null, null, null, null, null, null, null, null, null, null, null, null, null, null, null, null, null, null, null, null, null, null, null, null, null, null, null, null, null, null, null, null, null, null, null, null, null, null, null, null, null, null, null, null, null, null, null, null, null, null, null, null, null, null, null, null, null, null, null, null, null, null, null, null, null, null, null, null, null, null, null, null, null, null, null, null, null, null, null, null, null, null, null, null, null, null, null, null, null, null, null, null, null, null, null, null, null, null, null, null, null, null, null, null, null, null, null, null, null, null, null, null, null, null, null, null, null, null, null, null, null, null, null, null, null, null, null, null, null, null, null, null, null, null, null, null, null, null, null, null, null, null, null, null, null, null, null, null, null, null, null, null, null, null, null, null, null, null, null, null, null, null, null, null, null, null, null, null, null, null, null, null, null, null, null, null, null, null, null, null, null, null, null, null, null, null, null, null, null, null, null, null, null, null, null, null, null, null, null, null, null, null, null, null, null, null, null, null, null, null, null, null, null, null, null, null, null, null, null, null, null, null, null, null, null, null, null, null, null, null, null, null, null, null, null, null, null, null, null, null, null, null, null, null, null, null, null, null, null, null, null, null, null, null, null, null, null, null, null, null, null, null, null, null, null, null, null, null, null, null, null, null, null, null, null, null, null, null, null, null, null, null, null, null, null, null, null, null, null, null, null, null, null, null, null, null, null, null, null, null, null, null, null, null, null, null, null, null, null, null, null, null, null, null, null, null, null, null, null, null, null, null, null, null, null, null, null, null, null, null, null, null, null, null, null, null, null, null, null, null, null, null, null, null, null, null, null, null, null, null, null, null, null, null, null, null, null, null, null, null, null, null, null, null, null, null, null, null, null, null, null, null, null, null, null, null, null, null, null, null, null, null, null, null, null, null, null, null, null, null, null, null, null, null, null, null, null, null, null, null, null, null, null, null, null, null, null, null, null, null, null, null, null, null, null, null, null, null, null, null, null, null, null, null, null, null, null, null, null, null, null, null, null, null, null, null, null, null, null, null, null, null, null, null, null, null, null, null, null, null, null, null, null, null, null, null, null, null, null, null, null, null, null, null, null, null, null, null, null, null, null, null, null, null, null, null, null, null, null, null, null, null, null, null, null, null, null, null, null, null, null, null, null, null, null, null, null, null, null, null, null, null, null, null, null, null, null, null, null, null, null, null, null, null, null, null, null, null, null, null, null, null, null, null, null, null, null, null, null, null, null, null, null, null, null, null, null, null, null, null, null, null, null, null, null, null, null, null, null, null, null, null, null, null, null, null, null, null, null, null, null, null, null, null, null, null, null, null, null, null, null, null, null, null, null, null, null, null, null, null, null, null, null, null, null, null, null, null, null, null, null, null, null, null, null, null, null, null, null, null, null, null, null, null, null, null, null, null, null, null, null, null, null, null, null, null, null, null, null, null, null, null, null, null, null, null, null, null, null, null, null, null, null, null, null, null, null, null, null, null, null, null, null, null, null, null, null, null, null, null, null, null, null, null, null, null, null, null, null, null, null, null, null, null, null, null, null, null, null, null, null, null, null, null, null, null, null, null, null, null, null, null, null, null, null, null, null, null, null, null, null, null, null, null, null, null, null, null, null, null, null, null, null, null, null, null, null, null, null, null, null, null, null, null, null, null, null, null, null, null, null, null, null, null, null, null, null, null, null, null, null, null, null, null, null, null, null, null, null, null, null, null, null, null, null, null, null, null, null, null, null, null, null, null, null, null, null, null, null, null, null, null, null, null, null, null, null, null, null, null, null, null, null, null, null, null, null, null, null, null, null, null, null, null, null, null, null, null, null, null, null, null, null, null, null, null, null, null, null, null, null, null, null, null, null, null, null, null, null, null, null, null, null, null, null, null, null, null, null, null, null, null, null, null, null, null, null, null, null, null, null, null, null, null, null, null, null, null, null, null, null, null, null, null, null, null, null, null, null, null, null, null, null, null, null, null, null, null, null, null, null, null, null, null, null, null, null, null, null, null, null, null, null, null, null, null, null, null, null, null, null, null, null, null, null, null, null, null, null, null, null, null, null, null, null, null, null, null, null, null, null, null, null, null, null, null, null, null, null, null, null, null, null, null, null, null, null, null, null, null, null, null, null, null, null, null, null, null, null, null, null, null, null, null, null, null, null, null, null, null, null, null, null, null, null, null, null, null, null, null, null, null, null, null, null, null, null, null, null, null, null, null, null, null, null, null, null, null, null, null, null, null, null, null, null, null, null, null, null, null, null, null, null, null, null, null, null, null, null, null, null, null, null, null, null, null, null, null, null, null, null, null, null, null, null, null, null, null, null, null, null, null, null, null, null, null, null, null, null, null, null, null, null, null, null, null, null, null, null, null, null, null, null, null, null, null, null, null, null, null, null, null, null, null, null, null, null, null, null, null, null, null, null, null, null, null, null, null, null, null, null, null, null, null, null, null, null, null, null, null, null, null, null, null, null, null, null, null, null, null, null, null, null, null, null, null, null, null, null, null, null, null, null, null, null, null, null, null, null, null, null, null, null, null, null, null, null, null, null, null, null, null, null, null, null, null, null, null, null, null, null, null, null, null, null, null, null, null, null, null, null, null, null, null, null, null, null, null, null, null, null, null, null, null, null, null, null, null, null, null, null, null, null, null, null, null, null, null, null, null, null, null, null, null, null, null, null, null, null, null, null, null, null, null, null, null, null, null, null, null, null, null, null, null, null, null, null, null, null, null, null, null, null, null, null, null, null, null, null, null, null, null, null, null, null, null, null, null, null, null, null, null, null, null, null, null, null, null, null, null, null, null, null, null, null, null, null, null, null, null, null, null, null, null, null, null, null, null, null, null, null, null, null, null, null, null, null, null, null, null, null, null, null, null, null, null, null, null, null, null, null, null, null, null, null, null, null, null, null, null, null, null, null, null, null, null, null, null, null, null, null, null, null, null, null, null, null, null, null, null, null, null, null, null, null, null, null, null, null, null, null, null, null, null, null, null, null, null, null, null, null, null, null, null, null, null, null, null, null, null, null, null, null, null, null, null, null, null, null, null, null, null, null, null, null, null, null, null, null, null, null, null, null, null, null, null, null, null, null, null, null, null, null, null, null, null, null, null, null, null, null, null, null, null, null, null, null, null, null, null, null, null, null, null, null, null, null, null, null, null, null, null, null, null, null, null, null, null, null, null, null, null, null, null, null, null, null, null, null, null, null, null, null, null, null, null, null, null, null, null, null, null, null, null, null, null, null, null, null, null, null, null, null, null, null, null, null, null, null, null, null, null, null, null, null, null, null, null, null, null, null, null, null, null, null, null, null, null, null, null, null, null, null, null, null, null, null, null, null, null, null, null, null, null, null, null, null, null, null, null, null, null, null, null, null, null, null, null, null, null, null, null, null, null, null, null, null, null, null, null, null, null, null, null, null, null, null, null, null, null, null, null, null, null, null, null, null, null, null, null, null, null, null, null, null, null, null, null, null, null, null, null, null, null, null, null, null, null, null, null, null, null, null, null, null, null, null, null, null, null, null, null, null, null, null, null, null, null, null, null, null, null, null, null, null, null, null, null, null, null, null, null, null, null, null, null, null, null, null, null, null, null, null, null, null, null, null, null, null, null, null, null], \"y\": [12.957259203308862, 13.146923793852647, 13.033861795553117, 13.016364963230746, 12.903117206393675, 12.86150367300862, 12.738416111580289, 12.910908329887455, 13.07500784678205, 13.071008447546408, 13.02367068749397, 12.973586037695323, 13.073323158607854, 12.956817381390454, 13.081607333815217, 13.27826326722107, 13.276416396309953, 13.24873857056484, 13.181888132711219, 13.156012634299193, 13.03181618817817, 13.107193883214679, 13.100695093201164, 13.14807776620868, 13.01049934013815, 13.144850705871978, 13.146217813945762, 13.247398684268862, 13.15514771397778, 13.002233356028805, 12.964753666954074, 13.011116985753564, 12.974790474913746, 13.053851348247877, 13.055263414957748, 13.0679673219885, 12.926554904606746, 13.029454627757804, 13.242990481829835, 13.012237613304624, 13.141886055023507, 13.237117181214513, 13.345128304513928, 13.240581072551755, 13.080597114262273, 13.323730931796105, 13.214668657625884, 13.289600621549726, 13.09480490499626, 13.098814948576843, 13.016277724242173, 13.092284979313115, 12.91018008909871, 12.967660974559177, 13.003144963038924, 12.935429747809009, 12.962057636139296, 12.939767980915097, 12.965397544291921, 12.971963648896521, 12.977176215473355, 12.828946935906933, 12.880216262353352, 12.771418997477324, 12.692229485553908, 12.434332423615212, 12.317145954430952, 12.192396989328248, 11.981353505026478, 11.745208392095764, 11.834530924691697, 11.765415913948699, 11.653874647937469, 11.774309558647317, 11.835137325632964, 11.846226818017563, 11.78279904139584, 11.786617083410151, 11.572427608250408, 11.538273721694948, 11.599876330628566, 11.728622895877193, 11.882602784028212, 11.813120944750219, 11.819266390487979, 11.647171048838809, 11.681968663045142, 11.739477707218745, 11.837419208653959, 11.916655127996966, 11.963605005896877, 12.047884816835262, 12.151137090822747, 12.15408009468107, 12.265761849972879, 12.267899986972164, 12.313476906611344, 12.258234310118695, 12.402648015436181, 12.467544654716951, 12.470749837750931, 12.544242352910238, 12.505562970504348, 12.435800913634903, 12.445610828389762, 12.514031472863824, 12.456855661272304, 12.461429016800283, 12.60479544345753, 12.786393633999563, 12.904526261884849, 13.005479123743054, 12.879395305140717, 12.910621863776052, 13.087327385128289, 13.079821047901653, 13.022176743473237, 13.0749157085805, 13.051485533043689, 13.165512141178441, 13.080689076179603, 13.149025419732158, 13.0796697193412, 13.14353262773412, 13.07249941642107, 13.04798946731136, 13.062248074152619, 12.899343272221802, 12.97325060643273, 12.983099109267398, 12.992959436469055, 12.961370391340523, 12.929427461520966, 13.032499013304525, 13.310410436422966, 13.442243301949189, 13.420811477051243, 13.446348832960103, 13.567286666138921, 13.5098596431849, 13.246229830046792, 13.037879422636854, 12.826543906760891, 12.794219903564658, 12.825931608796326, 12.938535488385075, 13.090782611455468, 13.097586975710339, 13.118206474602431, 13.097481009798303, 13.008011124785142, 12.921551364761338, 12.939100320118929, 12.843285129586906, 12.960324133246516, 13.063027756896508, 13.126395665582113, 13.030913810657841, 13.182164739121028, 13.214026032388551, 13.247489946063238, 13.393757168493808, 13.409723440122757, 13.23889225748502, 13.3322154382436, 13.462447292868198, 13.587857747707096, 13.580654964536885, 13.514284680604362, 13.366930987162366, 13.234578933158987, 13.150939614704178, 13.20989057535112, 13.182920711773379, 13.152625371044136, 13.036202559506522, 13.034897351796209, 13.080841934314105, 13.108215172313901, 13.260282054346277, 13.113546425254967, 12.95435080414193, 12.927773799178658, 12.913427918473275, 12.934269017652797, 13.093844029687999, 13.131399165597774, 13.094513021838697, 12.972688230262865, 13.080860944540785, 12.924645348572323, 12.948595210767357, 12.932487580404075, 12.852317492002353, 12.880017067840846, 12.978908743991358, 12.910807923443109, 13.080851327556696, 13.03359220134761, 12.997596469772313, 13.11778926567247, 13.279792387511895, 13.18302776841738, 13.172093909505636, 13.113164014302878, 12.903217749137283, 12.873649767980465, 12.73937504505632, 12.77261076292555, 12.822223077932376, 12.752436753517546, 12.743768573103699, 12.631605487456614, 12.53534477147934, 12.355474694317673, 12.337855494086103, 12.22986081740885, 12.368131786740662, 12.41887546024958, 12.399499845218449, 12.2568499701575, 12.253995911605099, 12.323906670935669, 12.183101136630905, 12.554914572105282, 12.702990354776105, 12.57963753862692, 12.553189002345153, 12.540702110572688, 12.587168805193818, 12.50789818897574, 12.550420970942243, 12.788909236688015, 12.615405055387564, 12.728186326671485, 12.72222720641435, 12.794894219294251, 12.679213620270128, 12.587657692547033, 12.606437546952193, 12.580211068307184, 12.635901891661767, 12.800848688969712, 12.730443465380578, 12.711025402473348, 12.695435709931804, 12.56756279311986, 12.572478858858922, 12.59499879356364, 12.529992807218395, 12.522716225182847, 12.630423657956731, 12.753866186684313, 12.789299006255776, 12.883157528314987, 12.927280636856112, 12.885293742827992, 12.9634300481521, 12.926612603188536, 12.870016111506956, 12.787013975313124, 12.69302205039664, 12.787545581780291, 12.879755559893354, 12.917012764958825, 12.861326533936857, 12.83815086836199, 12.851541438419714, 12.798345086326849, 12.88155738031426, 12.711563273712512, 12.781013576180921, 12.809367687211784, 12.811012841069056, 12.778650238140528, 12.775736460507394, 12.674934778479319, 12.739121601874107, 12.680441942426723, 12.721255926342513, 12.59720806914096, 12.531521633435155, 12.41468096598868, 12.50299802877009, 12.464484724726388, 12.506825407019665, 12.365883405698519, 12.321003478067002, 12.43949612501221, 12.473415153476692, 12.299581152298785, 12.274787858510072, 12.119142666951419, 11.869199030864763, 11.980212282909795, 12.133339975856064, 11.878141329224299, 11.887787411544938, 11.876905552977052, 11.759380231127416, 11.966854387795385, 12.112917146869703, 12.163784439042495, 12.175823970053166, 12.208401636879898, 12.16532313819624, 12.174070417712537, 12.353307313050266, 12.381240362269715, 12.389004886125049, 12.726418484569013, 12.720325925570934, 12.907043851392205, 13.026793453035207, 12.937987018195379, 12.922856361968886, 12.807519246719377, 12.912330611799232, 12.864776153238514, 13.031525236661931, 12.909845522071565, 12.874124149510969, 13.011271182822256, 13.152027376968501, 13.092334514110767, 13.089846783943692, 12.922001016283138, 12.862159914695372, 12.92650363064563, 13.13229423636376, 13.171750875451195, 13.314682019352741, 13.374101515227535, 13.410765800937488, 13.366262755460967, 13.418850726456286, 13.448344404042189, 13.577281805374392, 13.553047602065737, 13.549491451078083, 13.65734480283577, 13.62113070750017, 13.622235886672081, 13.570450183875938, 13.492742167399978, 13.519190349672117, 13.364376104524272, 13.340752967937792, 13.481779065534292, 13.370044622813419, 13.408100833209048, 13.559002561195014, 13.48697803108465, 13.399384591782503, 13.356086126152455, 13.497803290842402, 13.51906585909703, 13.452987324862091, 13.311320935789885, 13.19134537498722, 13.264905580365765, 13.314407605894264, 13.478202163277318, 13.5275392002809, 13.545325417080155, 13.543241165670668, 13.54671194255119, 13.536240886611154, 13.493563968285143, 13.264738249133048, 13.09454834981925, 13.050628782980324, 13.241561910196403, 13.32281573815737, 13.0454702766439, 12.874161914613856, 12.817626439304385, 12.986487612928117, 13.17220559225539, 13.226841052356324, 13.096676765966683, 13.199772629096417, 13.143449721013216, 13.13458317557253, 13.177087983972104, 13.067998309302483, 13.135227213218064, 12.95975124125385, 12.914151025250954, 12.871081659487153, 12.820286807361489, 12.85818976655765, 12.742425128622243, 12.666471298791674, 12.644308179245742, 12.580485233821193, 12.589416018789535, 12.579190726422643, 12.479912931431373, 12.449324304426897, 12.494732482854106, 12.511381404984563, 12.508876400626319, 12.49888377292552, 12.66671505301666, 12.607355657575225, 12.59038016992752, 12.610161418596968, 12.650562709070416, 12.646633576281989, 12.646020663632246, 12.710937128767197, 12.762134262003025, 12.920380970743269, 13.068413780767907, 13.159691898469573, 12.987867956697546, 12.93377960666441, 12.955689670985688, 12.761408601524373, 12.617712042550124, 12.56787228415914, 12.5547544771514, 12.778638330836866, 12.770271715754031, 12.674857128648638, 12.748074832092243, 12.808791820728509, 12.825217510030397, 12.87524060963377, 12.713491272382779, 12.926750843623704, 12.946335350481206, 13.07329796476551, 13.178190324350602, 13.112916092512933, 13.147437908140576, 13.23381225443057, 13.261335482565222, 13.248737692777228, 13.31872698357928, 13.331281145533525, 13.304393596746902, 13.334417988408656, 13.267232742422443, 13.059713337668372, 12.843972597945726, 12.909548401284434, 12.81007938064978, 12.836410616005313, 13.03113566543196, 13.039173682649096, 13.128379088083523, 13.186796511419525, 13.039123884398808, 13.076452038291514, 12.942047722047889, 12.977239268285505, 12.856499666783316, 12.993778540689576, 12.898447782151345, 12.851693078555721, 12.9409632053505, 13.039547671425222, 13.008320010472652, 13.111640508215105, 13.075983612294861, 13.092620964731703, 13.18050090967893, 13.03958854932225, 13.15814999508627, 13.055819818432317, 12.984706174457152, 12.928089641955237, 12.933826102986826, 12.989388064300318, 12.892219772594194, 12.907170737681904, 12.976540152743253, 12.987428669353, 12.880473270554832, 12.767460284548916, 12.720490628556032, 12.535621993757987, 12.625881151429576, 12.448348119136803, 12.598538613141072, 12.610373154883979, 12.662253521868175, 12.768588722327392, 12.714480175488838, 12.886058918179371, 13.023852661668881, 13.048416747804637, 13.002468468969429, 12.987567428103722, 12.92344805998614, 13.012008690576595, 13.136210766188059, 13.131756859624964, 13.030172003536489, 13.340575844321673, 13.253697778466668, 13.331303369363868, 13.445635914996561, 13.297722398576322, 13.203273748556875, 13.153074355734832, 13.07154914802559, 13.08049472428777, 13.155229351718075, 13.191339159085004, 13.1071746039675, 13.173130161404206, 13.065681468402737, 12.938182256825822, 12.83225028482769, 12.897956172794235, 13.089131403895793, 13.144898940655903, 12.909252540365669, 12.95192265489587, 12.765068181592378, 12.773956742833134, 12.798521997741176, 12.944239919977125, 12.897806923773722, 12.861089662418935, 12.724405942398397, 12.92545063151763, 12.927050583304917, 12.89121362521019, 12.711460927803529, 12.705671912767533, 12.540941621554438, 12.47123212416413, 12.633203645613317, 12.627458156141625, 12.74104004330957, 12.526944623494558, 12.61709537478896, 12.682929491046103, 12.597492293092792, 12.49041753463305, 12.544874635787256, 12.6136130283369, 12.757624573683712, 12.887665420930993, 12.871660308382074, 12.674697067410579, 12.692192657232788, 12.80817659364318, 12.769252367723634, 12.792118673199612, 12.782401076791976, 12.759022175413804, 12.813057268714692, 12.815805732099044, 12.684068218900611, 12.739875800281284, 12.556927298812717, 12.418616576908773, 12.349763366663797, 12.3872697256148, 12.306150199363739, 12.294506840302157, 12.484942510986464, 12.486509462841084, 12.492128908105268, 12.44347347460104, 12.42195574561843, 12.503804979672394, 12.55574150155355, 12.527998134627603, 12.555470911043669, 12.544353828391467, 12.420097115641614, 12.48207779501977, 12.520421715416068, 12.444361574909875, 12.273333667558257, 12.368333089914913, 12.34863628197327, 12.184417707347848, 12.379592387816631, 12.46723993569844, 12.450701610602046, 12.532941080201043, 12.629576597436897, 12.764883424812492, 12.934023028808662, 12.92601907288379, 12.855485480041947, 12.771867245610501, 12.663673004230787, 12.455641356574231, 12.506270602991897, 12.54532452683373, 12.599608178072996, 12.73618001465902, 12.883967477329856, 13.046851967168223, 12.970151313929057, 12.95552953830206, 13.188435708514177, 13.103981947062225, 13.043849219672097, 12.826764465742961, 12.805663539343499, 12.68342739313859, 12.769399420306494, 12.950621207205145, 12.894960974377286, 12.818576491683343, 12.853009114579214, 12.75239442352619, 12.893829232752969, 12.91714190108679, 12.997205488092066, 12.976762608671445, 12.957252293744709, 12.899481017085407, 13.050048850838438, 13.005173883767869, 12.929345170862327, 13.045029681141923, 13.02290051956328, 12.977580000200744, 13.085861313036032, 13.142678134924731, 13.194096301940066, 13.121794817653448, 13.014744846276795, 13.064894534285964, 13.220624485092145, 13.11034420522266, 13.162318142498211, 13.272800903123082, 13.40008023647712, 13.40013478665599, 13.439544789622111, 13.423036651047168, 13.580004564558926, 13.723258077170287, 13.917577031898084, 13.917043251161495, 14.025906309221845, 14.063098122885009, 14.109758458863846, 14.113404957090433, 14.070439098835225, 14.068591383708135, 13.896222389371745, 13.800558042168639, 13.86989012435098, 13.941326987930118, 14.14752692732298, 14.064623368065172, 14.103413565273723, 13.936449686604961, 14.028730119173021, 14.073823253328495, 13.9039227203667, 13.855615797280553, 13.815826771491249, 13.799668067670154, 13.847534548199393, 13.747907823521368, 13.662537515288097, 13.768933505178442, 13.666401258854297, 13.654454111728617, 13.714795493233444, 13.669148401945149, 13.737475680137752, 13.678168150816807, 13.46071116413666, 13.584844211764798, 13.707130851792396, 13.880606584609428, 13.861027356488703, 13.977509390467468, 13.924917904579072, 14.013715373613179, 13.939207477163107, 14.032027615583784, 14.091207667015295, 14.179018383359109, 14.225052915229131, 14.173102665934541, 14.10223958733822, 14.233262448346542, 14.262419547052252, 14.220833398464045, 14.15918635133967, 14.250626220344538, 14.20504634851056, 14.226910262244171, 14.311083597788803, 14.423494334547335, 14.524146046279906, 14.544594200768147, 14.60030615132879, 14.639240381686605, 14.612181989194328, 14.512845725369738, 14.458573302897728, 14.43216211038872, 14.321236568234, 14.163220383979432, 14.104325721153176, 14.302948667841894, 14.253187902610131, 14.09838306249516, 14.169389819571377, 14.11935516241162, 14.222098531256245, 14.297952893286148, 14.12614435128764, 14.083745927320203, 14.074148907627972, 14.269235460211158, 14.365315700661702, 14.529526202290617, 14.471242245231627, 14.598243022844706, 14.605382447200723, 14.544681633846468, 14.555569785860971, 14.466245006770247, 14.591849873266904, 14.725772678810456, 14.750494432623933, 14.782070039287854, 14.645255200746817, 14.682163604371414, 14.47720999568628, 14.535647317113852, 14.62874081498713, 14.579188442723503, 14.493253013368605, 14.713930391837263, 14.68781809220254, 14.878121102725524, 15.006236071861142, 14.932009791474382, 15.041638453431792, 15.160197159525985, 14.977124092836549, 14.976990218561872, 14.891635904245964, 15.026347278070364, 14.976429953331248, 15.066040091083943, 15.057687332318483, 15.189325427829584, 15.220998620788654, 15.113660020957582, 15.044264658602518, 15.066113664590306, 14.995379798403064, 15.178939217107432, 15.0931949429202, 14.963924424772282, 14.956225539117856, 14.843128503902246, 14.831492231125537, 14.756276558976142, 14.669409910894233, 14.66220454952867, 14.648931579055152, 14.733173967241026, 14.925134444207647, 14.973115437751062, 15.131727839324498, 15.07840907107668, 15.181120016062243, 15.20350283899129, 15.165781089658505, 15.197714927814808, 15.193773318550468, 15.142805652185373, 15.166855565603964, 15.302403808761643, 15.34257658920294, 15.433924950815978, 15.47516812280305, 15.279532438181617, 15.576092476279543, 15.665976433934, 15.40465557784892, 15.314298955309832, 15.331893339828031, 15.260781197395225, 15.374608496697865, 15.217107546370185, 15.36654738840264, 15.416080297985802, 15.351113842318556, 15.326696902045812, 15.280462111171072, 15.089817646574941, 15.03233959818849, 15.066266507433228, 15.13985521362432, 15.292811578363885, 15.264871945601591, 14.929983722076907, 14.968155006252996, 14.988089997606803, 15.000844974410233, 14.930962889958355, 14.991774911590028, 14.950118121881905, 14.956700829659802, 14.88747398464855, 14.839726348987433, 14.874359759248248, 14.700542634533132, 14.6347309011202, 14.519440156567455, 14.38407072651025, 14.579298483636206, 14.53671509544375, 14.571484052269529, 14.625067915784125, 14.726938531099984, 14.827201512536503, 14.875096687813791, 15.011670290446142, 15.033611585516356, 14.905990529488863, 14.86971207798529, 15.058937952706888, 15.009500207513774, 15.031673938199454, 15.045332654755375, 15.01423078935768, 15.015524894114092, 14.994506714216126, 15.076421670011962, 15.112939381321745, 15.050380269466991, 15.149455155530342, 15.197651568554273, 15.156430909371783, 15.298590091123337, 15.269271731128416, 15.299367673305124, 15.24370207108659, 15.301665286241201, 15.23247424359498, 15.215166216086127, 15.127794540945512, 15.082059651178541, 15.097463649594403, 15.134455562379495, 14.997724739373478, 15.009615955819948, 15.201664655129614, 15.23744031663137, 15.236708645347209, 14.944277219307168, 15.003298471853082, 15.091680946583693, 15.088364180285424, 15.194727605309302, 15.259082820527656, 15.22947435311519, 15.355697746680464, 15.492430489933447, 15.32905100971398, 15.38629237086071, 15.44338655246023, 15.46234524614657, 15.531723107845881, 15.509741823678514, 15.515797270896377, 15.45264333027932, 15.440584342466346, 15.437966235896345, 15.347860447005074, 15.320713028464823, 15.326859943477277, 15.512298534002944, 15.321593516084231, 15.14758248549628, 15.288632518080522, 15.226301156899424, 15.453848674526117, 15.5360026670864, 15.366864044635372, 15.355980497517272, 15.291203760707175, 15.288763566433676, 15.46393631503711, 15.68840920417771, 15.77176140039705, 15.899137379136876, 15.689496151441997, 15.807475294077946, 15.881651656489788, 16.08225927120356, 16.125316781679317, 16.11086638229083, 16.121069483862684, 16.158047645298765, 16.4247748712053, 16.405441279236108, 16.321754449616083, 16.16976465690787, 16.185433071706527, 16.092699372320233, 15.887936638370928, 15.857348065089631, 15.959358159979084, 15.897283329795117, 15.93788130927424, 15.994812213242872, 16.016584925433463, 15.968882323023662, 16.099415664042102, 16.15655070888515, 16.047307855705554, 15.913628837469401, 15.746939263546976, 15.798459895578263, 15.62411120402494, 15.729055691847716, 15.702533263168675, 15.690601809311108, 15.701313686720272, 15.589857387153842, 15.687202107042589, 15.647748863201855, 15.530862590830122, 15.645258105798698, 15.657351602318098, 15.519112513017408, 15.506510631390475, 15.521235144361247, 15.479722310321584, 15.429914449567246, 15.513133692302636, 15.390746440845675, 15.256458428044402, 15.213048621914371, 15.243240628939864, 15.223954534578722, 15.233147508950042, 15.179853139476693, 15.066382736806842, 15.068023252268418, 15.041426244062617, 14.996922107427519, 14.928898697621277, 14.727195544205742, 14.912968922290304, 14.931923452685584, 14.950137208679923, 14.952181144894865, 14.881818870036602, 14.806495812729638, 14.814755862446392, 14.871613550758907, 14.702281222249, 14.744970933863117, 14.769012371484868, 14.626208191957923, 14.618032863095474, 14.742868689581307, 14.753464844329706, 14.659858421255601, 14.6039491764447, 14.540582147385573, 14.34277580250697, 14.434706741213157, 14.515431595446286, 14.483791701312887, 14.367826734527513, 14.614041168993351, 14.779553558368985, 14.83139082310606, 14.858702260104364, 14.701969455121933, 14.746933015418183, 14.891115350556378, 14.787707292368923, 14.74280049406009, 14.808876681470885, 14.912983713291604, 15.006259659303902, 15.172341657037125, 15.110152694417796, 14.972535451917725, 14.896571317832983, 14.836422576085505, 14.87634563015168, 14.76706914818983, 14.824922473724504, 14.875383516224778, 14.842120251262783, 14.816424109341144, 14.838577946820857, 14.828229845883975, 14.813018794502545, 14.83344811694096, 14.729522334084184, 14.846749107019933, 14.832989133656387, 14.777995026124664, 14.693226817952253, 14.743239718725983, 14.762739309511074, 14.972125494820979, 14.983754964031325, 14.917897437737427, 15.03582209996089, 15.013680989850105, 15.094631612306133, 15.078363743708817, 15.018967569165758, 15.005675015490938, 15.02390500909605, 15.186249840354414, 15.2570284382055, 15.06240386297512, 14.979698022609519, 15.214122605323764, 15.195860810142662, 15.26052685679668, 15.118563850092414, 15.039764869222035, 15.168568666440793, 15.245883098595229, 15.357334384697182, 15.311621121417074, 15.468851887391823, 15.378036067042428, 15.44207409942106, 15.519991892211337, 15.598530280509761, 15.557068816974768, 15.442157210912242, 15.568085768339941, 15.527583483944214, 15.456972946211161, 15.537727686138522, 15.428206668385002, 15.355741657792738, 15.22952082923894, 15.345691494717897, 15.415528616570736, 15.328203222203888, 15.180852224745891, 15.036250056654081, 14.889218586053088, 15.033630608662595, 15.040221447780606, 15.069699578574824, 15.1331299690591, 15.049632026052308, 15.152153610147208, 15.195000079147363, 15.07466015673252, 15.041213671832416, 15.065756413673428, 15.000139896376472, 14.759242563266547, 14.82308480346571, 14.725436694801763, 14.778542243472769, 14.664291371997967, 14.452951066049891, 14.454292333133875, 14.378393262172839, 14.292299629942141, 14.183115816602138, 14.300241786273064, 14.158658806290095, 14.15610846059056, 14.104646088189604, 14.043497827906934, 14.153026429953195, 14.247986606889702, 14.354867884101457, 14.29149332802534, 14.243088881517153, 14.279395008513625, 14.419472742574147, 14.401570504641077, 14.357894388038881, 14.328501506871865, 14.25337759505327, 14.361892271505306, 14.251705117894792, 14.265064525401105, 14.068593163775459, 14.138846256594926, 14.183894132070177, 14.362952153758133, 14.296520987254212, 14.442414046416841, 14.419542752730544, 14.40946346125811, 14.329245385123501, 14.439121639138678, 14.507241662444862, 14.66073780109399, 14.713535557875938, 14.69089646177056, 14.764500615601229, 14.808204848915919, 14.754218878802074, 14.66240411372316, 14.76633914844898, 14.755894084549825, 14.812910560275558, 14.805720329455047, 14.773093943484787, 14.712736444080459, 14.776712552919738, 14.752699109503663, 14.626591491408865, 14.531898129101119, 14.652440973971661, 14.69681589069709, 14.61729691029792, 14.595500799373916, 14.69176945287175, 14.743778799451658, 14.739082970755902, 14.78176538509142, 14.780607122734478, 14.951883090904357, 14.893210542474566, 14.861940129869309, 14.910077840167153, 14.952605384705702, 14.914491985255161, 15.122261318614008, 15.113649553159904, 15.035309502657688, 14.947471212833776, 15.008410268143065, 15.10738608350153, 15.041669549847972, 15.108548216218965, 15.235462443446005, 15.398381969309861, 15.470468033619996, 15.499221180312436, 15.617162344611025, 15.647292317899995, 15.516622214117636, 15.316045207662903, 15.410603080777022, 15.324652332137761, 15.369904572263836, 15.304653446763306, 15.301685191281218, 15.312567698877197, 15.394703793384972, 15.435411987144244, 15.447502982498996, 15.641601311526584, 15.876411457507613, 16.039943470482157, 15.937688783411389, 15.919685670092615, 15.943408497017955, 15.937851055771006, 15.974167634997475, 15.930101424679705, 15.819675338011447, 15.907657805323705, 15.849113107973375, 15.685777262495924, 15.732184019412959, 15.736827517480155, 15.60954877914448, 15.628418098346865, 15.764022731857933, 15.71395049241096, 15.765166408095414, 15.72234054833072, 15.644787666344797, 15.77592160487771, 15.621088477996851, 15.472065775787119, 15.517285410987798, 15.559656251749006, 15.567019014422996, 15.621781622498343, 15.76903205376051, 15.748836585297616, 15.658431070253535, 15.636178237703533, 15.545882631338904, 15.663948913273625, 15.777212681648768, 15.7075850828273, 15.619413485069066, 15.566397308760545, 15.418134900162128, 15.426485144890785, 15.550621058284296, 15.521205747863418, 15.633241167410453, 15.614771801672994, 15.58479543689646, 15.704565217588645, 15.660513604652753, 15.788131691084498, 15.827872198916058, 15.776187262713554, 15.935111917490245, 15.935924966676497, 15.886267530229627, 15.883615380168337, 15.916629517503171, 15.725023598037541, 15.751655963221628, 15.629183008085148, 15.697949099123639, 15.69480307488956, 15.614431489763767, 15.501306173360359, 15.478877932375477, 15.379341647117299, 15.384972234163753, 15.329251848873428, 15.431711024427406, 15.53970935271301, 15.61464147832092, 15.527160261063187, 15.318889142414585, 15.280677020218224, 15.409589794198654, 15.356400702799775, 15.529956826858587, 15.611433358557994, 15.418274588781893, 15.39795642374906, 15.524718878557525, 15.515262441037901, 15.46593517062831, 15.481187905193659, 15.581567311106072, 15.588582854765697, 15.542798413398133, 15.397739063942083, 15.431394128608513, 15.270569983086093, 15.16980076614113, 15.153087617152007, 15.085804483711645, 15.097832102137808, 15.283567683229318, 15.181626264407457, 15.27470213574895, 15.202139947398406, 15.170015425818402, 15.263971762968996, 15.289149290211398, 15.197467276356102, 15.138832794743008, 15.243236712731768, 15.39511603966086, 15.262038963636048, 15.303439665756734, 15.140584603247683, 15.097107277779449, 15.117773219089841, 15.13225177667238, 14.951024762266952, 14.890150763536608, 14.977994754670206, 14.961329249232794, 14.971170740231683, 14.905300297095932, 14.84760973494615, 14.686719745098472, 14.687772885728254, 14.753008848027815, 14.525234102960397, 14.442310097259003, 14.349756790999791, 14.380018447869405, 14.453518188480924, 14.37239395744079, 14.408831663579388, 14.286647673838862, 14.331573985495634, 14.602015165267993, 14.758643086493587, 14.807609208562566, 14.85065075823017, 15.012942904480088, 15.013078559558663, 15.079550493006405, 15.20698856859321, 15.240068979366827, 15.227184298043943, 15.143355969671186, 14.955886642370514, 15.048986078918, 15.049293281967635, 15.235418758532251, 15.214063343443584, 15.22686505555689, 15.293200543351652, 15.179977424914352, 15.225080243959438, 15.240143732554206, 15.205336836033423, 15.191597885040615, 15.150759130405525, 15.21620251714431, 15.247216760270103, 15.211660620540247, 15.350033252197777, 15.419823873749973, 15.247290311691078, 15.305501100380546, 15.342809849752685, 15.372414887044577, 15.325964798705979, 15.431983961191202, 15.381434136266574, 15.23833987986501, 15.332603927203953, 15.517007657319514, 15.499813665464487, 15.425205338113445, 15.648597924967998, 15.927401737561594, 15.77183424743138, 15.768938927082576, 15.737865017283895, 15.787961673423645, 15.77865705606725, 15.78763479990238, 15.778514716175232, 15.595293709928168, 15.748830581712479, 15.811123718671602, 15.803947491444145, 15.931200938905043, 15.914601157365373, 15.99431256124737, 16.08874294299082, 15.979376877130985, 16.010691062852864, 15.947585870599756, 15.94196294952883, 15.864588322644696, 15.82888398852329, 16.00741614350797, 15.980209193806644, 15.995919575245926, 15.940373900578187, 16.002523115537198, 16.06128684634442, 15.966703808495282, 15.84588178863316, 15.806667302549524, 15.791692464402665, 15.759995710543592, 15.724069363829717, 15.84292061147389, 15.779770432557413, 15.856463940470496, 15.810661902251137, 15.705428784573058, 15.802421321190586, 15.896825672374783, 15.992051721512112, 15.805775059061478, 15.927699042157341, 15.916336440574922, 15.794746877002304, 15.80098854467184, 15.784111812399722, 15.791934223191317, 15.553563979822622, 15.383051408909244, 15.251901803399578, 15.07335602042474, 15.058355847799612, 15.040015981898035, 14.99909481784834, 15.135489705068586, 15.243820017755121, 15.09593357201964, 15.109611498489745, 15.149752357164157, 15.059414099070878, 14.959490714017132, 14.906605502448027, 15.257790743242614, 15.267342779262295, 15.330719539344969, 15.237940664279861, 15.166279206355675, 15.279846155427695, 15.214008310026003, 15.160227033401688, 15.170108105677928, 15.210080456869013, 15.122467732994714, 15.075718551949747, 15.229283449426495, 15.156836325619807, 15.014222742351318, 15.20918873826736, 15.353937197435629, 15.490051332769442, 15.375389159286277, 15.155595720652379, 15.150749519828215, 15.206372951771337, 15.340777518297608, 15.152263470354104, 15.023616190298837, 15.147163594928204, 15.202953658998055, 15.01691736322967, 14.901701350422574, 14.965235058538873, 14.925235659977051, 15.096553120937147, 14.907787845526228, 14.930709698392517, 15.036015453967657, 15.282389918873411, 15.268903130951992, 15.162182763914792, 15.21487303776004, 15.119255944493037, 15.158913885187308, 15.063994791287596, 14.933984085275698, 14.893097908791352, 15.046933003730492, 15.027808211583324, 15.007079916839785, 15.085068315229572, 15.103121086348109, 15.115354993771009, 15.006216390375252, 14.990248016500486, 14.827500686807367, 14.909457847733252, 15.047596684326427, 14.916682481086335, 15.105655306456192, 15.032919934821175, 14.90982493166177, 14.880455238730674, 14.788756310757863, 14.872288080591966, 15.082984066572642, 15.104464844316743, 15.15989515055714, 15.096802388437213, 15.298742688431899, 15.425058621146512, 15.403489329147295, 15.573346574934465, 15.552332645276554, 15.466004164356173, 15.50699758770364, 15.458363171636162, 15.376123175400908, 15.25992839838792, 15.34232861318068, 15.339957547503426, 15.293187573396011, 15.156370831927859, 15.269932747518999, 15.302594984811616, 15.207609007677304, 15.14645733126985, 15.071151309256276, 15.335342541243557, 15.30847620412795, 15.388571843078243, 15.408911627122153, 15.430336927348186, 15.41675256770356, 15.469840868831456, 15.538103807479056, 15.460460514814951, 15.292555670347552, 15.39316379095385, 15.502692974149722, 15.542394823183932, 15.435608339478938, 15.579870171880348, 15.732530738687698, 15.829893596517536, 16.002283906320528, 16.057922454618254, 16.1059427514142, 16.274434551303166, 16.340714521693265, 16.416971217393964, 16.3372242329876, 16.340942927189943, 16.374811088638747, 16.451845952660733, 16.156292442825183, null, null, null, null, null, null, null, null, null, null, null, null, null, null, null, null, null, null, null, null, null, null, null, null, null, null, null, null, null, null, null, null, null, null, null, null, null, null, null, null, null, null, null, null, null, null, null, null, null, null, null, null, null, null, null, null, null, null, null, null, null, null, null, null, null, null, null, null, null, null, null, null, null, null, null, null, null, null, null, null, null, null, null, null, null, null, null, null, null, null, null, null, null, null, null, null, null, null, null, null, null, null, null, null, null, null, null, null, null, null, null, null, null, null, null, null, null, null, null, null, null, null, null, null, null, null, null, null, null, null, null, null, null, null, null, null, null, null, null, null, null, null, null, null, null, null, null, null, null, null, null, null, null, null, null, null, null, null, null, null, null, null, null, null, null, null, null, null, null, null, null, null, null, null, null, null, null, null, null, null, null, null, null, null, null, null, null, null, null, null, null, null, null, null, null, null, null, null, null, null, null, null, null, null, null, null, null, null, null, null, null, null, null, null, null, null, null, null, null, null, null, null, null, null, null, null, null, null, null, null, null, null, null, null, null, null, null, null, null, null, null, null, null, null, null, null, null, null, null, null, null, null, null, null, null, null, null, null, null, null, null, null, null, null, null, null, null, null, null, null, null, null, null, null, null, null, null, null, null, null, null, null, null, null, null, null, null, null, null, null, null, null, null, null, null, null, null, null, null, null, null, null, null, null, null, null, null, null, null, null, null, null, null, null, null, null, null, null, null, null, null, null, null, null, null, null, null, null, null, null, null, null, null, null, null, null, null, null, null, null, null, null, null, null, null, null, null, null, null, null, null, null, null, null, null, null, null, null, null, null, null, null, null, null, null, null, null, null, null, null, null, null, null, null, null, null, null, null, null, null, null, null, null, null, null, null, null, null, null, null, null, null, null, null, null, null, null, null, null, null, null, null, null, null, null, null, null, null, null, null, null, null, null, null, null, null, null, null, null, null, null, null, null, null, null, null, null, null, null, null, null, null, null, null, null, null, null, null, null, null, null, null, null, null, null, null, null, null, null, null, null, null, null, null, null, null, null, null, null, null, null, null, null, null, null, null, null, null, null, null, null, null, null, null, null, null, null, null, null, null, null, null, null, null, null, null, null, null, null, null, null, null, null, null, null, null, null, null, null, null, null, null, null, null, null, null, null, null, null, null, null, null, null, null, null, null, null, null, null, null, null, null, null, null, null, null, null, null, null, null, null, null, null, null, null, null, null, null, null, null, null, null, null, null, null, null, null, null, null, null, null, null, null, null, null, null, null, null, null, null, null, null, null, null, null, null, null, null, null, null, null, null, null, null, null, null, null, null, null, null, null, null, null, null, null, null, null, null, null, null, null, null, null, null, null, null, null, null, null, null, null, null, null, null, null, null, null, null, null, null, null, null, null, null, null, null, null, null, null, null, null, null, null, null, null, null, null, null, null, null, null, null, null, null, null, null, null, null, null, null, null, null, null, null, null, null, null, null, null, null, null, null, null, null, null, null, null, null, null, null, null, null, null, null, null, null, null, null, null, null, null, null, null, null, null, null, null, null, null, null, null, null, null, null, null, null, null, null, null, null, null, null, null, null, null, null, null, null, null, null, null, null, null, null, null, null, null, null, null, null, null, null, null, null, null, null, null, null, null, null, null, null, null, null, null, null, null, null, null, null, null, null, null, null, null, null, null, null, null, null, null, null, null, null, null, null, null, null, null, null, null, null, null, null, null, null, null, null, null, null, null, null, null, null, null, null, null, null, null, null, null, null, null, null, null, null, null, null, null, null, null, null, null, null, null, null, null, null, null, null, null, null, null, null, null, null, null, null, null, null, null, null, null, null, null, null, null, null, null, null, null, null, null, null, null, null, null, null, null, null, null, null, null, null, null, null, null, null, null, null, null, null, null, null, null, null, null, null, null, null, null, null, null, null, null, null, null, null, null, null, null, null, null, null, null, null, null, null, null, null, null, null, null, null, null, null, null, null, null, null, null, null, null, null, null, null, null, null, null, null, null, null, null, null, null, null, null, null, null, null, null, null, null, null, null, null, null, null, null, null, null, null, null, null, null, null, null, null, null, null, null, null, null, null, null, null, null, null, null, null, null, null, null, null, null, null, null, null, null, null, null, null, null, null, null, null, null, null, null, null, null, null, null, null, null, null, null, null, null, null, null, null, null, null, null, null, null, null, null, null, null, null, null, null, null, null, null, null, null, null, null, null, null, null, null, null, null, null, null, null, null, null, null, null, null, null, null, null, null, null, null, null, null, null, null, null, null, null, null, null, null, null, null, null, null, null, null, null, null, null, null, null, null, null, null, null, null, null, null, null, null, null, null, null, null, null, null, null, null, null, null, null, null, null, null, null, null, null, null, null, null, null, null, null, null, null, null, null, null, null, null, null, null, null, null, null, null, null, null, null, null, null, null, null, null, null, null, null, null, null, null, null, null, null, null, null, null, null, null, null, null, null, null, null, null, null, null, null, null, null, null, null, null, null, null, null, null, null, null, null, null, null, null, null, null, null, null, null, null, null, null, null, null, null, null, null, null, null, null, null, null, null, null, null, null, null, null, null, null, null, null, null, null, null, null, null, null, null, null, null, null, null, null, null, null, null, null, null, null, null, null, null, null, null, null, null, null, null, null, null, null, null, null, null, null, null, null, null, null, null, null, null, null, null, null, null, null, null, null, null, null, null, null, null, null, null, null, null, null, null, null, null, null, null, null, null, null, null, null, null, null, null, null, null, null, null, null, null, null, null, null, null, null, null, null, null, null, null, null, null, null, null, null, null, null, null, null, null, null, null, null, null, null, null, null, null, null, null, null, null, null, null, null, null, null, null, null, null, null, null, null, null, null, null, null, null, null, null, null, null, null, null, null, null, null, null, null, null, null, null, null, null, null, null, null, null, null, null, null, null, null, null, null, null, null, null, null, null, null, null, null, null, null, null, null, null, null, null, null, null, null, null, null, null, null, null, null, null, null, null, null, null, null, null, null, null, null, null, null, null, null, null, null, null, null, null, null, null, null, null, null, null, null, null, null, null, null, null, null, null, null, null, null, null, null, null, null, null, null, null, null, null, null, null, null, null, null, null, null, null, null, null, null, null, null, null, null, null, null, null, null, null, null, null, null, null, null, null, null, null, null, null, null, null, null, null, null, null, null, null, null, null, null, null, null, null, null, null, null, null, null, null, null, null, null, null, null, null, null, null, null, null, null, null, null, null, null, null, null, null, null, null, null, null, null, null, null, null, null, null, null, null, null, null, null, null, null, null, null, null, null, null, null, null, null, null, null, null, null, null, null, null, null, null, null, null, null, null, null, null, null, null, null, null, null, null, null, null, null, null, null, null, null, null, null, null, null, null, null, null, null, null, null, null, null, null, null, null, null, null, null, null, null, null, null, null, null, null, null, null, null, null, null, null, null, null, null, null, null, null, null, null, null, null, null, null, null, null, null, null, null, null, null, null, null, null, null, null, null, null, null, null, null, null, null, null, null, null, null, null, null, null, null, null, null, null, null, null, null, null, null, null, null, null, null, null, null, null, null, null, null, null, null, null, null, null, null, null, null, null, null, null, null, null, null, null, null, null, null, null, null, null, null, null, null, null, null, null, null, null, null, null, null, null, null, null, null, null, null, null, null, null, null, null, null, null, null, null, null, null, null, null, null, null, null, null, null, null, null, null, null, null, null, null, null, null, null, null, null, null, null, null, null, null, null, null, null, null, null, null, null, null, null, null, null, null, null, null, null, null, null, null, null, null, null, null, null, null, null, null, null, null, null, null, null, null, null, null, null, null, null, null, null, null, null, null, null, null, null, null, null, null, null, null, null, null, null, null, null, null, null, null, null, null, null, null, null, null, null, null, null, null, null, null, null, null, null, null, null, null, null, null, null, null, null, null, null, null, null, null, null, null, null, null, null, null, null, null, null, null, null, null, null, null, null, null, null, null, null, null, null, null, null, null, null, null, null, null, null, null, null, null, null, null, null, null, null, null, null, null, null, null, null, null, null, null, null, null, null, null, null, null, null, null, null, null, null, null, null, null, null, null, null, null, null, null, null, null, null, null, null, null, null, null, null, null, null, null, null, null, null, null, null, null, null, null, null, null, null, null, null, null, null, null, null, null, null, null, null, null, null, null, null, null, null, null, null, null, null, null, null, null, null, null, null, null, null, null, null, null, null, null, null, null, null, null, null, null, null, null, null, null, null, null, null, null, null, null, null, null, null, null, null, null, null, null, null, null, null, null, null, null, null, null, null, null, null, null, null, null, null, null, null, null, null, null, null, null, null, null, null, null, null, null, null, null, null, null, null, null, null, null, null, null, null, null, null, null, null, null, null, null, null, null, null, null, null, null, null, null, null, null, null, null, null, null, null, null, null, null, null, null, null, null, null, null, null, null, null, null, null, null, null, null, null, null, null, null, null, null, null, null, null, null, null, null, null, null, null, null, null, null, null, null, null, null, null, null, null, null, null, null, null, null, null, null, null, null, null, null, null, null, null, null, null, null, null, null, null, null, null, null, null, null, null, null, null, null, null, null, null, null, null, null, null, null, null, null, null, null, null, null, null, null, null, null, null, null, null, null, null, null, null, null, null, null, null, null, null, null, null, null, null, null, null, null, null, null, null, null, null, null, null, null, null, null, null, null, null, null, null, null, null, null, null, null, null, null, null, null, null, null, null, null, null, null, null, null, null, null, null, null, null, null, null, null, null, null, null, null, null, null, null, null, null, null, null, null, null, null, null, null, null, null, null, null, null, null, null, null, null, null, null, null, null, null, null, null, null, null, null, null, null, null, null, null, null, null, null, null, null, null, null, null, null, null, null, null, null, null, null, null, null, null, null, null, null, null, null, null, null, null, null, null, null, null, null, null, null, null, null, null, null, null, null, null, null, null, null, null, null, null, null, null, null, null, null, null, null, null, null, null, null, null, null, null, null, null, null, null, null, null, null, null, null, null, null, null, null, null, null, null, null, null, null, null, null, null, null, null, null, null, null, null, null, null, null, null, null, null, null, null, null, null, null, null, null, null, null, null, null, null, null, null, null, null, null, null, null, null, null, null, null, null, null, null, null, null, null, null, null, null, null, null, null, null, null, null, null, null, null, null, null, null, null, null, null, null, null, null, null, null, null, null, null, null, null, null, null, null, null, null, null, null, null, null, null, null, null, null, null, null, null, null, null, null, null, null, null, null, null, null, null, null, null, null, null, null, null, null, null, null, null, null, null, null, null, null, null, null, null, null, null, null, null, null, null, null, null, null, null, null, null, null, null, null, null, null, null, null, null, null, null, null, null, null, null, null, null, null, null, null, null, null, null, null, null, null, null, null, null, null, null, null, null, null, null, null, null, null, null, null, null, null, null, null, null, null, null, null, null, null, null, null, null, null, null, null, null, null, null, null, null, null, null, null, null, null, null, null, null, null, null, null, null, null, null, null, null, null, null, null, null, null, null, null, null, null, null, null, null, null, null, null, null, null, null, null, null, null, null, null, null, null, null, null, null, null, null, null, null, null, null, null, null, null, null, null, null, null, null, null, null, null, null, null, null, null, null, null, null, null, null, null, null, null, null, null, null, null, null, null, null, null, null, null, null, null, null, null, null, null, null, null, null, null, null, null, null, null, null, null, null, null, null, null, null, null], \"z\": [0, 1, 2, 3, 4, 5, 6, 7, 8, 9, 10, 11, 12, 13, 14, 15, 16, 17, 18, 19, 20, 21, 22, 23, 24, 25, 26, 27, 28, 29, 30, 31, 32, 33, 34, 35, 36, 37, 38, 39, 40, 41, 42, 43, 44, 45, 46, 47, 48, 49, 50, 51, 52, 53, 54, 55, 56, 57, 58, 59, 60, 61, 62, 63, 64, 65, 66, 67, 68, 69, 70, 71, 72, 73, 74, 75, 76, 77, 78, 79, 80, 81, 82, 83, 84, 85, 86, 87, 88, 89, 90, 91, 92, 93, 94, 95, 96, 97, 98, 99, 100, 101, 102, 103, 104, 105, 106, 107, 108, 109, 110, 111, 112, 113, 114, 115, 116, 117, 118, 119, 120, 121, 122, 123, 124, 125, 126, 127, 128, 129, 130, 131, 132, 133, 134, 135, 136, 137, 138, 139, 140, 141, 142, 143, 144, 145, 146, 147, 148, 149, 150, 151, 152, 153, 154, 155, 156, 157, 158, 159, 160, 161, 162, 163, 164, 165, 166, 167, 168, 169, 170, 171, 172, 173, 174, 175, 176, 177, 178, 179, 180, 181, 182, 183, 184, 185, 186, 187, 188, 189, 190, 191, 192, 193, 194, 195, 196, 197, 198, 199, 200, 201, 202, 203, 204, 205, 206, 207, 208, 209, 210, 211, 212, 213, 214, 215, 216, 217, 218, 219, 220, 221, 222, 223, 224, 225, 226, 227, 228, 229, 230, 231, 232, 233, 234, 235, 236, 237, 238, 239, 240, 241, 242, 243, 244, 245, 246, 247, 248, 249, 250, 251, 252, 253, 254, 255, 256, 257, 258, 259, 260, 261, 262, 263, 264, 265, 266, 267, 268, 269, 270, 271, 272, 273, 274, 275, 276, 277, 278, 279, 280, 281, 282, 283, 284, 285, 286, 287, 288, 289, 290, 291, 292, 293, 294, 295, 296, 297, 298, 299, 300, 301, 302, 303, 304, 305, 306, 307, 308, 309, 310, 311, 312, 313, 314, 315, 316, 317, 318, 319, 320, 321, 322, 323, 324, 325, 326, 327, 328, 329, 330, 331, 332, 333, 334, 335, 336, 337, 338, 339, 340, 341, 342, 343, 344, 345, 346, 347, 348, 349, 350, 351, 352, 353, 354, 355, 356, 357, 358, 359, 360, 361, 362, 363, 364, 365, 366, 367, 368, 369, 370, 371, 372, 373, 374, 375, 376, 377, 378, 379, 380, 381, 382, 383, 384, 385, 386, 387, 388, 389, 390, 391, 392, 393, 394, 395, 396, 397, 398, 399, 400, 401, 402, 403, 404, 405, 406, 407, 408, 409, 410, 411, 412, 413, 414, 415, 416, 417, 418, 419, 420, 421, 422, 423, 424, 425, 426, 427, 428, 429, 430, 431, 432, 433, 434, 435, 436, 437, 438, 439, 440, 441, 442, 443, 444, 445, 446, 447, 448, 449, 450, 451, 452, 453, 454, 455, 456, 457, 458, 459, 460, 461, 462, 463, 464, 465, 466, 467, 468, 469, 470, 471, 472, 473, 474, 475, 476, 477, 478, 479, 480, 481, 482, 483, 484, 485, 486, 487, 488, 489, 490, 491, 492, 493, 494, 495, 496, 497, 498, 499, 500, 501, 502, 503, 504, 505, 506, 507, 508, 509, 510, 511, 512, 513, 514, 515, 516, 517, 518, 519, 520, 521, 522, 523, 524, 525, 526, 527, 528, 529, 530, 531, 532, 533, 534, 535, 536, 537, 538, 539, 540, 541, 542, 543, 544, 545, 546, 547, 548, 549, 550, 551, 552, 553, 554, 555, 556, 557, 558, 559, 560, 561, 562, 563, 564, 565, 566, 567, 568, 569, 570, 571, 572, 573, 574, 575, 576, 577, 578, 579, 580, 581, 582, 583, 584, 585, 586, 587, 588, 589, 590, 591, 592, 593, 594, 595, 596, 597, 598, 599, 600, 601, 602, 603, 604, 605, 606, 607, 608, 609, 610, 611, 612, 613, 614, 615, 616, 617, 618, 619, 620, 621, 622, 623, 624, 625, 626, 627, 628, 629, 630, 631, 632, 633, 634, 635, 636, 637, 638, 639, 640, 641, 642, 643, 644, 645, 646, 647, 648, 649, 650, 651, 652, 653, 654, 655, 656, 657, 658, 659, 660, 661, 662, 663, 664, 665, 666, 667, 668, 669, 670, 671, 672, 673, 674, 675, 676, 677, 678, 679, 680, 681, 682, 683, 684, 685, 686, 687, 688, 689, 690, 691, 692, 693, 694, 695, 696, 697, 698, 699, 700, 701, 702, 703, 704, 705, 706, 707, 708, 709, 710, 711, 712, 713, 714, 715, 716, 717, 718, 719, 720, 721, 722, 723, 724, 725, 726, 727, 728, 729, 730, 731, 732, 733, 734, 735, 736, 737, 738, 739, 740, 741, 742, 743, 744, 745, 746, 747, 748, 749, 750, 751, 752, 753, 754, 755, 756, 757, 758, 759, 760, 761, 762, 763, 764, 765, 766, 767, 768, 769, 770, 771, 772, 773, 774, 775, 776, 777, 778, 779, 780, 781, 782, 783, 784, 785, 786, 787, 788, 789, 790, 791, 792, 793, 794, 795, 796, 797, 798, 799, 800, 801, 802, 803, 804, 805, 806, 807, 808, 809, 810, 811, 812, 813, 814, 815, 816, 817, 818, 819, 820, 821, 822, 823, 824, 825, 826, 827, 828, 829, 830, 831, 832, 833, 834, 835, 836, 837, 838, 839, 840, 841, 842, 843, 844, 845, 846, 847, 848, 849, 850, 851, 852, 853, 854, 855, 856, 857, 858, 859, 860, 861, 862, 863, 864, 865, 866, 867, 868, 869, 870, 871, 872, 873, 874, 875, 876, 877, 878, 879, 880, 881, 882, 883, 884, 885, 886, 887, 888, 889, 890, 891, 892, 893, 894, 895, 896, 897, 898, 899, 900, 901, 902, 903, 904, 905, 906, 907, 908, 909, 910, 911, 912, 913, 914, 915, 916, 917, 918, 919, 920, 921, 922, 923, 924, 925, 926, 927, 928, 929, 930, 931, 932, 933, 934, 935, 936, 937, 938, 939, 940, 941, 942, 943, 944, 945, 946, 947, 948, 949, 950, 951, 952, 953, 954, 955, 956, 957, 958, 959, 960, 961, 962, 963, 964, 965, 966, 967, 968, 969, 970, 971, 972, 973, 974, 975, 976, 977, 978, 979, 980, 981, 982, 983, 984, 985, 986, 987, 988, 989, 990, 991, 992, 993, 994, 995, 996, 997, 998, 999, 1000, 1001, 1002, 1003, 1004, 1005, 1006, 1007, 1008, 1009, 1010, 1011, 1012, 1013, 1014, 1015, 1016, 1017, 1018, 1019, 1020, 1021, 1022, 1023, 1024, 1025, 1026, 1027, 1028, 1029, 1030, 1031, 1032, 1033, 1034, 1035, 1036, 1037, 1038, 1039, 1040, 1041, 1042, 1043, 1044, 1045, 1046, 1047, 1048, 1049, 1050, 1051, 1052, 1053, 1054, 1055, 1056, 1057, 1058, 1059, 1060, 1061, 1062, 1063, 1064, 1065, 1066, 1067, 1068, 1069, 1070, 1071, 1072, 1073, 1074, 1075, 1076, 1077, 1078, 1079, 1080, 1081, 1082, 1083, 1084, 1085, 1086, 1087, 1088, 1089, 1090, 1091, 1092, 1093, 1094, 1095, 1096, 1097, 1098, 1099, 1100, 1101, 1102, 1103, 1104, 1105, 1106, 1107, 1108, 1109, 1110, 1111, 1112, 1113, 1114, 1115, 1116, 1117, 1118, 1119, 1120, 1121, 1122, 1123, 1124, 1125, 1126, 1127, 1128, 1129, 1130, 1131, 1132, 1133, 1134, 1135, 1136, 1137, 1138, 1139, 1140, 1141, 1142, 1143, 1144, 1145, 1146, 1147, 1148, 1149, 1150, 1151, 1152, 1153, 1154, 1155, 1156, 1157, 1158, 1159, 1160, 1161, 1162, 1163, 1164, 1165, 1166, 1167, 1168, 1169, 1170, 1171, 1172, 1173, 1174, 1175, 1176, 1177, 1178, 1179, 1180, 1181, 1182, 1183, 1184, 1185, 1186, 1187, 1188, 1189, 1190, 1191, 1192, 1193, 1194, 1195, 1196, 1197, 1198, 1199, 1200, 1201, 1202, 1203, 1204, 1205, 1206, 1207, 1208, 1209, 1210, 1211, 1212, 1213, 1214, 1215, 1216, 1217, 1218, 1219, 1220, 1221, 1222, 1223, 1224, 1225, 1226, 1227, 1228, 1229, 1230, 1231, 1232, 1233, 1234, 1235, 1236, 1237, 1238, 1239, 1240, 1241, 1242, 1243, 1244, 1245, 1246, 1247, 1248, 1249, 1250, 1251, 1252, 1253, 1254, 1255, 1256, 1257, 1258, 1259, 1260, 1261, 1262, 1263, 1264, 1265, 1266, 1267, 1268, 1269, 1270, 1271, 1272, 1273, 1274, 1275, 1276, 1277, 1278, 1279, 1280, 1281, 1282, 1283, 1284, 1285, 1286, 1287, 1288, 1289, 1290, 1291, 1292, 1293, 1294, 1295, 1296, 1297, 1298, 1299, 1300, 1301, 1302, 1303, 1304, 1305, 1306, 1307, 1308, 1309, 1310, 1311, 1312, 1313, 1314, 1315, 1316, 1317, 1318, 1319, 1320, 1321, 1322, 1323, 1324, 1325, 1326, 1327, 1328, 1329, 1330, 1331, 1332, 1333, 1334, 1335, 1336, 1337, 1338, 1339, 1340, 1341, 1342, 1343, 1344, 1345, 1346, 1347, 1348, 1349, 1350, 1351, 1352, 1353, 1354, 1355, 1356, 1357, 1358, 1359, 1360, 1361, 1362, 1363, 1364, 1365, 1366, 1367, 1368, 1369, 1370, 1371, 1372, 1373, 1374, 1375, 1376, 1377, 1378, 1379, 1380, 1381, 1382, 1383, 1384, 1385, 1386, 1387, 1388, 1389, 1390, 1391, 1392, 1393, 1394, 1395, 1396, 1397, 1398, 1399, 1400, 1401, 1402, 1403, 1404, 1405, 1406, 1407, 1408, 1409, 1410, 1411, 1412, 1413, 1414, 1415, 1416, 1417, 1418, 1419, 1420, 1421, 1422, 1423, 1424, 1425, 1426, 1427, 1428, 1429, 1430, 1431, 1432, 1433, 1434, 1435, 1436, 1437, 1438, 1439, 1440, 1441, 1442, 1443, 1444, 1445, 1446, 1447, 1448, 1449, 1450, 1451, 1452, 1453, 1454, 1455, 1456, 1457, 1458, 1459, 1460, 1461, 1462, 1463, 1464, 1465, 1466, 1467, 1468, 1469, 1470, 1471, 1472, 1473, 1474, 1475, 1476, 1477, 1478, 1479, 1480, 1481, 1482, 1483, 1484, 1485, 1486, 1487, 1488, 1489, 1490, 1491, 1492, 1493, 1494, 1495, 1496, 1497, 1498, 1499, 1500, 1501, 1502, 1503, 1504, 1505, 1506, 1507, 1508, 1509, 1510, 1511, 1512, 1513, 1514, 1515, 1516, 1517, 1518, 1519, 1520, 1521, 1522, 1523, 1524, 1525, 1526, 1527, 1528, 1529, 1530, 1531, 1532, 1533, 1534, 1535, 1536, 1537, 1538, 1539, 1540, 1541, 1542, 1543, 1544, 1545, 1546, 1547, 1548, 1549, 1550, 1551, 1552, 1553, 1554, 1555, 1556, 1557, 1558, 1559, 1560, 1561, 1562, 1563, 1564, 1565, 1566, 1567, 1568, 1569, 1570, 1571, 1572, 1573, 1574, 1575, 1576, 1577, 1578, 1579, 1580, 1581, 1582, 1583, 1584, 1585, 1586, 1587, 1588, 1589, 1590, 1591, 1592, 1593, 1594, 1595, 1596, 1597, 1598, 1599, 1600, 1601, 1602, 1603, 1604, 1605, 1606, 1607, 1608, 1609, 1610, 1611, 1612, 1613, 1614, 1615, 1616, 1617, 1618, 1619, 1620, 1621, 1622, 1623, 1624, 1625, 1626, 1627, 1628, 1629, 1630, 1631, 1632, 1633, 1634, 1635, 1636, 1637, 1638, 1639, 1640, 1641, 1642, 1643, 1644, 1645, 1646, 1647, 1648, 1649, 1650, 1651, 1652, 1653, 1654, 1655, 1656, 1657, 1658, 1659, 1660, 1661, 1662, 1663, 1664, 1665, 1666, 1667, 1668, 1669, 1670, 1671, 1672, 1673, 1674, 1675, 1676, 1677, 1678, 1679, 1680, 1681, 1682, 1683, 1684, 1685, 1686, 1687, 1688, 1689, 1690, 1691, 1692, 1693, 1694, 1695, 1696, 1697, 1698, 1699, 1700, 1701, 1702, 1703, 1704, 1705, 1706, 1707, 1708, 1709, 1710, 1711, 1712, 1713, 1714, 1715, 1716, 1717, 1718, 1719, 1720, 1721, 1722, 1723, 1724, 1725, 1726, 1727, 1728, 1729, 1730, 1731, 1732, 1733, 1734, 1735, 1736, 1737, 1738, 1739, 1740, 1741, 1742, 1743, 1744, 1745, 1746, 1747, 1748, 1749, 1750, 1751, 1752, 1753, 1754, 1755, 1756, 1757, 1758, 1759, 1760, 1761, 1762, 1763, 1764, 1765, 1766, 1767, 1768, 1769, 1770, 1771, 1772, 1773, 1774, 1775, 1776, 1777, 1778, 1779, 1780, 1781, 1782, 1783, 1784, 1785, 1786, 1787, 1788, 1789, 1790, 1791, 1792, 1793, 1794, 1795, 1796, 1797, 1798, 1799, 1800, 1801, 1802, 1803, 1804, 1805, 1806, 1807, 1808, 1809, 1810, 1811, 1812, 1813, 1814, 1815, 1816, 1817, 1818, 1819, 1820, 1821, 1822, 1823, 1824, 1825, 1826, 1827, 1828, 1829, 1830, 1831, 1832, 1833, 1834, 1835, 1836, 1837, 1838, 1839, 1840, 1841, 1842, 1843, 1844, 1845, 1846, 1847, 1848, 1849, 1850, 1851, 1852, 1853, 1854, 1855, 1856, 1857, 1858, 1859, 1860, 1861, 1862, 1863, 1864, 1865, 1866, 1867, 1868, 1869, 1870, 1871, 1872, 1873, 1874, 1875, 1876, 1877, 1878, 1879, 1880, 1881, 1882, 1883, 1884, 1885, 1886, 1887, 1888, 1889, 1890, 1891, 1892, 1893, 1894, 1895, 1896, 1897, 1898, 1899, 1900, 1901, 1902, 1903, 1904, 1905, 1906, 1907, 1908, 1909, 1910, 1911, 1912, 1913, 1914, 1915, 1916, 1917, 1918, 1919, 1920, 1921, 1922, 1923, 1924, 1925, 1926, 1927, 1928, 1929, 1930, 1931, 1932, 1933, 1934, 1935, 1936, 1937, 1938, 1939, 1940, 1941, 1942, 1943, 1944, 1945, 1946, 1947, 1948, 1949, 1950, 1951, 1952, 1953, 1954, 1955, 1956, 1957, 1958, 1959, 1960, 1961, 1962, 1963, 1964, 1965, 1966, 1967, 1968, 1969, 1970, 1971, 1972, 1973, 1974, 1975, 1976, 1977, 1978, 1979, 1980, 1981, 1982, 1983, 1984, 1985, 1986, 1987, 1988, 1989, 1990, 1991, 1992, 1993, 1994, 1995, 1996, 1997, 1998, 1999, 2000, 2001, 2002, 2003, 2004, 2005, 2006, 2007, 2008, 2009, 2010, 2011, 2012, 2013, 2014, 2015, 2016, 2017, 2018, 2019, 2020, 2021, 2022, 2023, 2024, 2025, 2026, 2027, 2028, 2029, 2030, 2031, 2032, 2033, 2034, 2035, 2036, 2037, 2038, 2039, 2040, 2041, 2042, 2043, 2044, 2045, 2046, 2047, 2048, 2049, 2050, 2051, 2052, 2053, 2054, 2055, 2056, 2057, 2058, 2059, 2060, 2061, 2062, 2063, 2064, 2065, 2066, 2067, 2068, 2069, 2070, 2071, 2072, 2073, 2074, 2075, 2076, 2077, 2078, 2079, 2080, 2081, 2082, 2083, 2084, 2085, 2086, 2087, 2088, 2089, 2090, 2091, 2092, 2093, 2094, 2095, 2096, 2097, 2098, 2099, 2100, 2101, 2102, 2103, 2104, 2105, 2106, 2107, 2108, 2109, 2110, 2111, 2112, 2113, 2114, 2115, 2116, 2117, 2118, 2119, 2120, 2121, 2122, 2123, 2124, 2125, 2126, 2127, 2128, 2129, 2130, 2131, 2132, 2133, 2134, 2135, 2136, 2137, 2138, 2139, 2140, 2141, 2142, 2143, 2144, 2145, 2146, 2147, 2148, 2149, 2150, 2151, 2152, 2153, 2154, 2155, 2156, 2157, 2158, 2159, 2160, 2161, 2162, 2163, 2164, 2165, 2166, 2167, 2168, 2169, 2170, 2171, 2172, 2173, 2174, 2175, 2176, 2177, 2178, 2179, 2180, 2181, 2182, 2183, 2184, 2185, 2186, 2187, 2188, 2189, 2190, 2191, 2192, 2193, 2194, 2195, 2196, 2197, 2198, 2199, 2200, 2201, 2202, 2203, 2204, 2205, 2206, 2207, 2208, 2209, 2210, 2211, 2212, 2213, 2214, 2215, 2216, 2217, 2218, 2219, 2220, 2221, 2222, 2223, 2224, 2225, 2226, 2227, 2228, 2229, 2230, 2231, 2232, 2233, 2234, 2235, 2236, 2237, 2238, 2239, 2240, 2241, 2242, 2243, 2244, 2245, 2246, 2247, 2248, 2249, 2250, 2251, 2252, 2253, 2254, 2255, 2256, 2257, 2258, 2259, 2260, 2261, 2262, 2263, 2264, 2265, 2266, 2267, 2268, 2269, 2270, 2271, 2272, 2273, 2274, 2275, 2276, 2277, 2278, 2279, 2280, 2281, 2282, 2283, 2284, 2285, 2286, 2287, 2288, 2289, 2290, 2291, 2292, 2293, 2294, 2295, 2296, 2297, 2298, 2299, 2300, 2301, 2302, 2303, 2304, 2305, 2306, 2307, 2308, 2309, 2310, 2311, 2312, 2313, 2314, 2315, 2316, 2317, 2318, 2319, 2320, 2321, 2322, 2323, 2324, 2325, 2326, 2327, 2328, 2329, 2330, 2331, 2332, 2333, 2334, 2335, 2336, 2337, 2338, 2339, 2340, 2341, 2342, 2343, 2344, 2345, 2346, 2347, 2348, 2349, 2350, 2351, 2352, 2353, 2354, 2355, 2356, 2357, 2358, 2359, 2360, 2361, 2362, 2363, 2364, 2365, 2366, 2367, 2368, 2369, 2370, 2371, 2372, 2373, 2374, 2375, 2376, 2377, 2378, 2379, 2380, 2381, 2382, 2383, 2384, 2385, 2386, 2387, 2388, 2389, 2390, 2391, 2392, 2393, 2394, 2395, 2396, 2397, 2398, 2399, 2400, 2401, 2402, 2403, 2404, 2405, 2406, 2407, 2408, 2409, 2410, 2411, 2412, 2413, 2414, 2415, 2416, 2417, 2418, 2419, 2420, 2421, 2422, 2423, 2424, 2425, 2426, 2427, 2428, 2429, 2430, 2431, 2432, 2433, 2434, 2435, 2436, 2437, 2438, 2439, 2440, 2441, 2442, 2443, 2444, 2445, 2446, 2447, 2448, 2449, 2450, 2451, 2452, 2453, 2454, 2455, 2456, 2457, 2458, 2459, 2460, 2461, 2462, 2463, 2464, 2465, 2466, 2467, 2468, 2469, 2470, 2471, 2472, 2473, 2474, 2475, 2476, 2477, 2478, 2479, 2480, 2481, 2482, 2483, 2484, 2485, 2486, 2487, 2488, 2489, 2490, 2491, 2492, 2493, 2494, 2495, 2496, 2497, 2498, 2499, 2500, 2501, 2502, 2503, 2504, 2505, 2506, 2507, 2508, 2509, 2510, 2511, 2512, 2513, 2514, 2515, 2516, 2517, 2518, 2519, 2520, 2521, 2522, 2523, 2524, 2525, 2526, 2527, 2528, 2529, 2530, 2531, 2532, 2533, 2534, 2535, 2536, 2537, 2538, 2539, 2540, 2541, 2542, 2543, 2544, 2545, 2546, 2547, 2548, 2549, 2550, 2551, 2552, 2553, 2554, 2555, 2556, 2557, 2558, 2559, 2560, 2561, 2562, 2563, 2564, 2565, 2566, 2567, 2568, 2569, 2570, 2571, 2572, 2573, 2574, 2575, 2576, 2577, 2578, 2579, 2580, 2581, 2582, 2583, 2584, 2585, 2586, 2587, 2588, 2589, 2590, 2591, 2592, 2593, 2594, 2595, 2596, 2597, 2598, 2599, 2600, 2601, 2602, 2603, 2604, 2605, 2606, 2607, 2608, 2609, 2610, 2611, 2612, 2613, 2614, 2615, 2616, 2617, 2618, 2619, 2620, 2621, 2622, 2623, 2624, 2625, 2626, 2627, 2628, 2629, 2630, 2631, 2632, 2633, 2634, 2635, 2636, 2637, 2638, 2639, 2640, 2641, 2642, 2643, 2644, 2645, 2646, 2647, 2648, 2649, 2650, 2651, 2652, 2653, 2654, 2655, 2656, 2657, 2658, 2659, 2660, 2661, 2662, 2663, 2664, 2665, 2666, 2667, 2668, 2669, 2670, 2671, 2672, 2673, 2674, 2675, 2676, 2677, 2678, 2679, 2680, 2681, 2682, 2683, 2684, 2685, 2686, 2687, 2688, 2689, 2690, 2691, 2692, 2693, 2694, 2695, 2696, 2697, 2698, 2699, 2700, 2701, 2702, 2703, 2704, 2705, 2706, 2707, 2708, 2709, 2710, 2711, 2712, 2713, 2714, 2715, 2716, 2717, 2718, 2719, 2720, 2721, 2722, 2723, 2724, 2725, 2726, 2727, 2728, 2729, 2730, 2731, 2732, 2733, 2734, 2735, 2736, 2737, 2738, 2739, 2740, 2741, 2742, 2743, 2744, 2745, 2746, 2747, 2748, 2749, 2750, 2751, 2752, 2753, 2754, 2755, 2756, 2757, 2758, 2759, 2760, 2761, 2762, 2763, 2764, 2765, 2766, 2767, 2768, 2769, 2770, 2771, 2772, 2773, 2774, 2775, 2776, 2777, 2778, 2779, 2780, 2781, 2782, 2783, 2784, 2785, 2786, 2787, 2788, 2789, 2790, 2791, 2792, 2793, 2794, 2795, 2796, 2797, 2798, 2799, 2800, 2801, 2802, 2803, 2804, 2805, 2806, 2807, 2808, 2809, 2810, 2811, 2812, 2813, 2814, 2815, 2816, 2817, 2818, 2819, 2820, 2821, 2822, 2823, 2824, 2825, 2826, 2827, 2828, 2829, 2830, 2831, 2832, 2833, 2834, 2835, 2836, 2837, 2838, 2839, 2840, 2841, 2842, 2843, 2844, 2845, 2846, 2847, 2848, 2849, 2850, 2851, 2852, 2853, 2854, 2855, 2856, 2857, 2858, 2859, 2860, 2861, 2862, 2863, 2864, 2865, 2866, 2867, 2868, 2869, 2870, 2871, 2872, 2873, 2874, 2875, 2876, 2877, 2878, 2879, 2880, 2881, 2882, 2883, 2884, 2885, 2886, 2887, 2888, 2889, 2890, 2891, 2892, 2893, 2894, 2895, 2896, 2897, 2898, 2899, 2900, 2901, 2902, 2903, 2904, 2905, 2906, 2907, 2908, 2909, 2910, 2911, 2912, 2913, 2914, 2915, 2916, 2917, 2918, 2919, 2920, 2921, 2922, 2923, 2924, 2925, 2926, 2927, 2928, 2929, 2930, 2931, 2932, 2933, 2934, 2935, 2936, 2937, 2938, 2939, 2940, 2941, 2942, 2943, 2944, 2945, 2946, 2947, 2948, 2949, 2950, 2951, 2952, 2953, 2954, 2955, 2956, 2957, 2958, 2959, 2960, 2961, 2962, 2963, 2964, 2965, 2966, 2967, 2968, 2969, 2970, 2971, 2972, 2973, 2974, 2975, 2976, 2977, 2978, 2979, 2980, 2981, 2982, 2983, 2984, 2985, 2986, 2987, 2988, 2989, 2990, 2991, 2992, 2993, 2994, 2995, 2996, 2997, 2998, 2999, 3000, 3001, 3002, 3003, 3004, 3005, 3006, 3007, 3008, 3009, 3010, 3011, 3012, 3013, 3014, 3015, 3016, 3017, 3018, 3019, 3020, 3021, 3022, 3023, 3024, 3025, 3026, 3027, 3028, 3029, 3030, 3031, 3032, 3033, 3034, 3035, 3036, 3037, 3038, 3039, 3040, 3041, 3042, 3043, 3044, 3045, 3046, 3047, 3048, 3049, 3050, 3051, 3052, 3053, 3054, 3055, 3056, 3057, 3058, 3059, 3060, 3061, 3062, 3063, 3064, 3065, 3066, 3067, 3068, 3069, 3070, 3071, 3072, 3073, 3074, 3075, 3076, 3077, 3078, 3079, 3080, 3081, 3082, 3083, 3084, 3085, 3086, 3087, 3088, 3089, 3090, 3091, 3092, 3093, 3094, 3095, 3096, 3097, 3098, 3099, 3100, 3101, 3102, 3103, 3104, 3105, 3106, 3107, 3108, 3109, 3110, 3111, 3112, 3113, 3114, 3115, 3116, 3117, 3118, 3119, 3120, 3121, 3122, 3123, 3124, 3125, 3126, 3127, 3128, 3129, 3130, 3131, 3132, 3133, 3134, 3135, 3136, 3137, 3138, 3139, 3140, 3141, 3142, 3143, 3144, 3145, 3146, 3147, 3148, 3149, 3150, 3151, 3152, 3153, 3154, 3155, 3156, 3157, 3158, 3159, 3160, 3161, 3162, 3163, 3164, 3165, 3166, 3167, 3168, 3169, 3170, 3171, 3172, 3173, 3174, 3175, 3176, 3177, 3178, 3179, 3180, 3181, 3182, 3183, 3184, 3185, 3186, 3187, 3188, 3189, 3190, 3191, 3192, 3193, 3194, 3195, 3196, 3197, 3198, 3199, 3200, 3201, 3202, 3203, 3204, 3205, 3206, 3207, 3208, 3209, 3210, 3211, 3212, 3213, 3214, 3215, 3216, 3217, 3218, 3219, 3220, 3221, 3222, 3223, 3224, 3225, 3226, 3227, 3228, 3229, 3230, 3231, 3232, 3233, 3234, 3235, 3236, 3237, 3238, 3239, 3240, 3241, 3242, 3243, 3244, 3245, 3246, 3247, 3248, 3249, 3250, 3251, 3252, 3253, 3254, 3255, 3256, 3257, 3258, 3259, 3260, 3261, 3262, 3263, 3264, 3265, 3266, 3267, 3268, 3269, 3270, 3271, 3272, 3273, 3274, 3275, 3276, 3277, 3278, 3279, 3280, 3281, 3282, 3283, 3284, 3285, 3286, 3287, 3288, 3289, 3290, 3291, 3292, 3293, 3294, 3295, 3296, 3297, 3298, 3299, 3300, 3301, 3302, 3303, 3304, 3305, 3306, 3307, 3308, 3309, 3310, 3311, 3312, 3313, 3314, 3315, 3316, 3317, 3318, 3319, 3320, 3321, 3322, 3323, 3324, 3325, 3326, 3327, 3328, 3329, 3330, 3331, 3332, 3333, 3334, 3335, 3336, 3337, 3338, 3339, 3340, 3341, 3342, 3343, 3344, 3345, 3346, 3347, 3348, 3349, 3350, 3351, 3352, 3353, 3354, 3355, 3356, 3357, 3358, 3359, 3360, 3361, 3362, 3363, 3364, 3365, 3366, 3367, 3368, 3369, 3370, 3371, 3372, 3373, 3374, 3375, 3376, 3377, 3378, 3379, 3380, 3381, 3382, 3383, 3384, 3385, 3386, 3387, 3388, 3389, 3390, 3391, 3392, 3393, 3394, 3395, 3396, 3397, 3398, 3399, 3400, 3401, 3402, 3403, 3404, 3405, 3406, 3407, 3408, 3409, 3410, 3411, 3412, 3413, 3414, 3415, 3416, 3417, 3418, 3419, 3420, 3421, 3422, 3423, 3424, 3425, 3426, 3427, 3428, 3429, 3430, 3431, 3432, 3433, 3434, 3435, 3436, 3437, 3438, 3439, 3440, 3441, 3442, 3443, 3444, 3445, 3446, 3447, 3448, 3449, 3450, 3451, 3452, 3453, 3454, 3455, 3456, 3457, 3458, 3459, 3460, 3461, 3462, 3463, 3464, 3465, 3466, 3467, 3468, 3469, 3470, 3471, 3472, 3473, 3474, 3475, 3476, 3477, 3478, 3479, 3480, 3481, 3482, 3483, 3484, 3485, 3486, 3487, 3488, 3489, 3490, 3491, 3492, 3493, 3494, 3495, 3496, 3497, 3498, 3499, 3500, 3501, 3502, 3503, 3504, 3505, 3506, 3507, 3508, 3509, 3510, 3511, 3512, 3513, 3514, 3515, 3516, 3517, 3518, 3519, 3520, 3521, 3522, 3523, 3524, 3525, 3526, 3527, 3528, 3529, 3530, 3531, 3532, 3533, 3534, 3535, 3536, 3537, 3538, 3539, 3540, 3541, 3542, 3543, 3544, 3545, 3546, 3547, 3548, 3549, 3550, 3551, 3552, 3553, 3554, 3555, 3556, 3557, 3558, 3559, 3560, 3561, 3562, 3563, 3564, 3565, 3566, 3567, 3568, 3569, 3570, 3571, 3572, 3573, 3574, 3575, 3576, 3577, 3578, 3579, 3580, 3581, 3582, 3583, 3584, 3585, 3586, 3587, 3588, 3589, 3590, 3591, 3592, 3593, 3594, 3595, 3596, 3597, 3598, 3599, 3600, 3601, 3602, 3603, 3604, 3605, 3606, 3607, 3608, 3609, 3610, 3611, 3612, 3613, 3614, 3615, 3616, 3617, 3618, 3619, 3620, 3621, 3622, 3623, 3624, 3625, 3626, 3627, 3628, 3629, 3630, 3631, 3632, 3633, 3634, 3635, 3636, 3637, 3638, 3639, 3640, 3641, 3642, 3643, 3644, 3645, 3646, 3647, 3648, 3649, 3650, 3651, 3652, 3653, 3654, 3655, 3656, 3657, 3658, 3659, 3660, 3661, 3662, 3663, 3664, 3665, 3666, 3667, 3668, 3669, 3670, 3671, 3672, 3673, 3674, 3675, 3676, 3677, 3678, 3679, 3680, 3681, 3682, 3683, 3684, 3685, 3686, 3687, 3688, 3689, 3690, 3691, 3692, 3693, 3694, 3695, 3696, 3697, 3698, 3699, 3700, 3701, 3702, 3703, 3704, 3705, 3706, 3707, 3708, 3709, 3710, 3711, 3712, 3713, 3714, 3715, 3716, 3717, 3718, 3719, 3720, 3721, 3722, 3723, 3724, 3725, 3726, 3727, 3728, 3729, 3730, 3731, 3732, 3733, 3734, 3735, 3736, 3737, 3738, 3739, 3740, 3741, 3742, 3743, 3744, 3745, 3746, 3747, 3748, 3749, 3750, 3751, 3752, 3753, 3754, 3755, 3756, 3757, 3758, 3759, 3760, 3761, 3762, 3763, 3764, 3765, 3766, 3767, 3768, 3769, 3770, 3771, 3772, 3773, 3774, 3775, 3776, 3777, 3778, 3779, 3780, 3781, 3782, 3783, 3784, 3785, 3786, 3787, 3788, 3789, 3790, 3791, 3792, 3793, 3794, 3795, 3796, 3797, 3798, 3799, 3800, 3801, 3802, 3803, 3804, 3805, 3806, 3807, 3808, 3809, 3810, 3811, 3812, 3813, 3814, 3815, 3816, 3817, 3818, 3819, 3820, 3821, 3822, 3823, 3824, 3825, 3826, 3827, 3828, 3829, 3830, 3831, 3832, 3833, 3834, 3835, 3836, 3837, 3838, 3839, 3840, 3841, 3842, 3843, 3844, 3845, 3846, 3847, 3848, 3849, 3850, 3851, 3852, 3853, 3854, 3855, 3856, 3857, 3858, 3859, 3860, 3861, 3862, 3863, 3864, 3865, 3866, 3867, 3868, 3869, 3870, 3871, 3872, 3873, 3874, 3875, 3876, 3877, 3878, 3879, 3880, 3881, 3882, 3883, 3884, 3885, 3886, 3887, 3888, 3889, 3890, 3891, 3892, 3893, 3894, 3895, 3896, 3897, 3898, 3899, 3900, 3901, 3902, 3903, 3904, 3905, 3906, 3907, 3908, 3909, 3910, 3911, 3912, 3913, 3914, 3915, 3916, 3917, 3918, 3919, 3920, 3921, 3922, 3923, 3924, 3925, 3926, 3927, 3928, 3929, 3930, 3931, 3932, 3933, 3934, 3935, 3936, 3937, 3938, 3939, 3940, 3941, 3942, 3943, 3944, 3945, 3946, 3947, 3948, 3949, 3950, 3951, 3952, 3953, 3954, 3955, 3956, 3957, 3958, 3959, 3960, 3961, 3962, 3963, 3964, 3965, 3966, 3967, 3968, 3969, 3970, 3971, 3972, 3973, 3974, 3975, 3976, 3977, 3978, 3979, 3980, 3981, 3982, 3983, 3984, 3985, 3986, 3987, 3988, 3989, 3990, 3991, 3992, 3993, 3994, 3995, 3996, 3997, 3998, 3999, 4000]}],\n",
              "                        {\"legend\": {\"itemsizing\": \"constant\", \"tracegroupgap\": 0}, \"margin\": {\"t\": 60}, \"scene\": {\"domain\": {\"x\": [0.0, 1.0], \"y\": [0.0, 1.0]}, \"xaxis\": {\"title\": {\"text\": \"x\"}}, \"yaxis\": {\"title\": {\"text\": \"y\"}}, \"zaxis\": {\"title\": {\"text\": \"index\"}}}, \"template\": {\"data\": {\"bar\": [{\"error_x\": {\"color\": \"#2a3f5f\"}, \"error_y\": {\"color\": \"#2a3f5f\"}, \"marker\": {\"line\": {\"color\": \"#E5ECF6\", \"width\": 0.5}}, \"type\": \"bar\"}], \"barpolar\": [{\"marker\": {\"line\": {\"color\": \"#E5ECF6\", \"width\": 0.5}}, \"type\": \"barpolar\"}], \"carpet\": [{\"aaxis\": {\"endlinecolor\": \"#2a3f5f\", \"gridcolor\": \"white\", \"linecolor\": \"white\", \"minorgridcolor\": \"white\", \"startlinecolor\": \"#2a3f5f\"}, \"baxis\": {\"endlinecolor\": \"#2a3f5f\", \"gridcolor\": \"white\", \"linecolor\": \"white\", \"minorgridcolor\": \"white\", \"startlinecolor\": \"#2a3f5f\"}, \"type\": \"carpet\"}], \"choropleth\": [{\"colorbar\": {\"outlinewidth\": 0, \"ticks\": \"\"}, \"type\": \"choropleth\"}], \"contour\": [{\"colorbar\": {\"outlinewidth\": 0, \"ticks\": \"\"}, \"colorscale\": [[0.0, \"#0d0887\"], [0.1111111111111111, \"#46039f\"], [0.2222222222222222, \"#7201a8\"], [0.3333333333333333, \"#9c179e\"], [0.4444444444444444, \"#bd3786\"], [0.5555555555555556, \"#d8576b\"], [0.6666666666666666, \"#ed7953\"], [0.7777777777777778, \"#fb9f3a\"], [0.8888888888888888, \"#fdca26\"], [1.0, \"#f0f921\"]], \"type\": \"contour\"}], \"contourcarpet\": [{\"colorbar\": {\"outlinewidth\": 0, \"ticks\": \"\"}, \"type\": \"contourcarpet\"}], \"heatmap\": [{\"colorbar\": {\"outlinewidth\": 0, \"ticks\": \"\"}, \"colorscale\": [[0.0, \"#0d0887\"], [0.1111111111111111, \"#46039f\"], [0.2222222222222222, \"#7201a8\"], [0.3333333333333333, \"#9c179e\"], [0.4444444444444444, \"#bd3786\"], [0.5555555555555556, \"#d8576b\"], [0.6666666666666666, \"#ed7953\"], [0.7777777777777778, \"#fb9f3a\"], [0.8888888888888888, \"#fdca26\"], [1.0, \"#f0f921\"]], \"type\": \"heatmap\"}], \"heatmapgl\": [{\"colorbar\": {\"outlinewidth\": 0, \"ticks\": \"\"}, \"colorscale\": [[0.0, \"#0d0887\"], [0.1111111111111111, \"#46039f\"], [0.2222222222222222, \"#7201a8\"], [0.3333333333333333, \"#9c179e\"], [0.4444444444444444, \"#bd3786\"], [0.5555555555555556, \"#d8576b\"], [0.6666666666666666, \"#ed7953\"], [0.7777777777777778, \"#fb9f3a\"], [0.8888888888888888, \"#fdca26\"], [1.0, \"#f0f921\"]], \"type\": \"heatmapgl\"}], \"histogram\": [{\"marker\": {\"colorbar\": {\"outlinewidth\": 0, \"ticks\": \"\"}}, \"type\": \"histogram\"}], \"histogram2d\": [{\"colorbar\": {\"outlinewidth\": 0, \"ticks\": \"\"}, \"colorscale\": [[0.0, \"#0d0887\"], [0.1111111111111111, \"#46039f\"], [0.2222222222222222, \"#7201a8\"], [0.3333333333333333, \"#9c179e\"], [0.4444444444444444, \"#bd3786\"], [0.5555555555555556, \"#d8576b\"], [0.6666666666666666, \"#ed7953\"], [0.7777777777777778, \"#fb9f3a\"], [0.8888888888888888, \"#fdca26\"], [1.0, \"#f0f921\"]], \"type\": \"histogram2d\"}], \"histogram2dcontour\": [{\"colorbar\": {\"outlinewidth\": 0, \"ticks\": \"\"}, \"colorscale\": [[0.0, \"#0d0887\"], [0.1111111111111111, \"#46039f\"], [0.2222222222222222, \"#7201a8\"], [0.3333333333333333, \"#9c179e\"], [0.4444444444444444, \"#bd3786\"], [0.5555555555555556, \"#d8576b\"], [0.6666666666666666, \"#ed7953\"], [0.7777777777777778, \"#fb9f3a\"], [0.8888888888888888, \"#fdca26\"], [1.0, \"#f0f921\"]], \"type\": \"histogram2dcontour\"}], \"mesh3d\": [{\"colorbar\": {\"outlinewidth\": 0, \"ticks\": \"\"}, \"type\": \"mesh3d\"}], \"parcoords\": [{\"line\": {\"colorbar\": {\"outlinewidth\": 0, \"ticks\": \"\"}}, \"type\": \"parcoords\"}], \"pie\": [{\"automargin\": true, \"type\": \"pie\"}], \"scatter\": [{\"marker\": {\"colorbar\": {\"outlinewidth\": 0, \"ticks\": \"\"}}, \"type\": \"scatter\"}], \"scatter3d\": [{\"line\": {\"colorbar\": {\"outlinewidth\": 0, \"ticks\": \"\"}}, \"marker\": {\"colorbar\": {\"outlinewidth\": 0, \"ticks\": \"\"}}, \"type\": \"scatter3d\"}], \"scattercarpet\": [{\"marker\": {\"colorbar\": {\"outlinewidth\": 0, \"ticks\": \"\"}}, \"type\": \"scattercarpet\"}], \"scattergeo\": [{\"marker\": {\"colorbar\": {\"outlinewidth\": 0, \"ticks\": \"\"}}, \"type\": \"scattergeo\"}], \"scattergl\": [{\"marker\": {\"colorbar\": {\"outlinewidth\": 0, \"ticks\": \"\"}}, \"type\": \"scattergl\"}], \"scattermapbox\": [{\"marker\": {\"colorbar\": {\"outlinewidth\": 0, \"ticks\": \"\"}}, \"type\": \"scattermapbox\"}], \"scatterpolar\": [{\"marker\": {\"colorbar\": {\"outlinewidth\": 0, \"ticks\": \"\"}}, \"type\": \"scatterpolar\"}], \"scatterpolargl\": [{\"marker\": {\"colorbar\": {\"outlinewidth\": 0, \"ticks\": \"\"}}, \"type\": \"scatterpolargl\"}], \"scatterternary\": [{\"marker\": {\"colorbar\": {\"outlinewidth\": 0, \"ticks\": \"\"}}, \"type\": \"scatterternary\"}], \"surface\": [{\"colorbar\": {\"outlinewidth\": 0, \"ticks\": \"\"}, \"colorscale\": [[0.0, \"#0d0887\"], [0.1111111111111111, \"#46039f\"], [0.2222222222222222, \"#7201a8\"], [0.3333333333333333, \"#9c179e\"], [0.4444444444444444, \"#bd3786\"], [0.5555555555555556, \"#d8576b\"], [0.6666666666666666, \"#ed7953\"], [0.7777777777777778, \"#fb9f3a\"], [0.8888888888888888, \"#fdca26\"], [1.0, \"#f0f921\"]], \"type\": \"surface\"}], \"table\": [{\"cells\": {\"fill\": {\"color\": \"#EBF0F8\"}, \"line\": {\"color\": \"white\"}}, \"header\": {\"fill\": {\"color\": \"#C8D4E3\"}, \"line\": {\"color\": \"white\"}}, \"type\": \"table\"}]}, \"layout\": {\"annotationdefaults\": {\"arrowcolor\": \"#2a3f5f\", \"arrowhead\": 0, \"arrowwidth\": 1}, \"coloraxis\": {\"colorbar\": {\"outlinewidth\": 0, \"ticks\": \"\"}}, \"colorscale\": {\"diverging\": [[0, \"#8e0152\"], [0.1, \"#c51b7d\"], [0.2, \"#de77ae\"], [0.3, \"#f1b6da\"], [0.4, \"#fde0ef\"], [0.5, \"#f7f7f7\"], [0.6, \"#e6f5d0\"], [0.7, \"#b8e186\"], [0.8, \"#7fbc41\"], [0.9, \"#4d9221\"], [1, \"#276419\"]], \"sequential\": [[0.0, \"#0d0887\"], [0.1111111111111111, \"#46039f\"], [0.2222222222222222, \"#7201a8\"], [0.3333333333333333, \"#9c179e\"], [0.4444444444444444, \"#bd3786\"], [0.5555555555555556, \"#d8576b\"], [0.6666666666666666, \"#ed7953\"], [0.7777777777777778, \"#fb9f3a\"], [0.8888888888888888, \"#fdca26\"], [1.0, \"#f0f921\"]], \"sequentialminus\": [[0.0, \"#0d0887\"], [0.1111111111111111, \"#46039f\"], [0.2222222222222222, \"#7201a8\"], [0.3333333333333333, \"#9c179e\"], [0.4444444444444444, \"#bd3786\"], [0.5555555555555556, \"#d8576b\"], [0.6666666666666666, \"#ed7953\"], [0.7777777777777778, \"#fb9f3a\"], [0.8888888888888888, \"#fdca26\"], [1.0, \"#f0f921\"]]}, \"colorway\": [\"#636efa\", \"#EF553B\", \"#00cc96\", \"#ab63fa\", \"#FFA15A\", \"#19d3f3\", \"#FF6692\", \"#B6E880\", \"#FF97FF\", \"#FECB52\"], \"font\": {\"color\": \"#2a3f5f\"}, \"geo\": {\"bgcolor\": \"white\", \"lakecolor\": \"white\", \"landcolor\": \"#E5ECF6\", \"showlakes\": true, \"showland\": true, \"subunitcolor\": \"white\"}, \"hoverlabel\": {\"align\": \"left\"}, \"hovermode\": \"closest\", \"mapbox\": {\"style\": \"light\"}, \"paper_bgcolor\": \"white\", \"plot_bgcolor\": \"#E5ECF6\", \"polar\": {\"angularaxis\": {\"gridcolor\": \"white\", \"linecolor\": \"white\", \"ticks\": \"\"}, \"bgcolor\": \"#E5ECF6\", \"radialaxis\": {\"gridcolor\": \"white\", \"linecolor\": \"white\", \"ticks\": \"\"}}, \"scene\": {\"xaxis\": {\"backgroundcolor\": \"#E5ECF6\", \"gridcolor\": \"white\", \"gridwidth\": 2, \"linecolor\": \"white\", \"showbackground\": true, \"ticks\": \"\", \"zerolinecolor\": \"white\"}, \"yaxis\": {\"backgroundcolor\": \"#E5ECF6\", \"gridcolor\": \"white\", \"gridwidth\": 2, \"linecolor\": \"white\", \"showbackground\": true, \"ticks\": \"\", \"zerolinecolor\": \"white\"}, \"zaxis\": {\"backgroundcolor\": \"#E5ECF6\", \"gridcolor\": \"white\", \"gridwidth\": 2, \"linecolor\": \"white\", \"showbackground\": true, \"ticks\": \"\", \"zerolinecolor\": \"white\"}}, \"shapedefaults\": {\"line\": {\"color\": \"#2a3f5f\"}}, \"ternary\": {\"aaxis\": {\"gridcolor\": \"white\", \"linecolor\": \"white\", \"ticks\": \"\"}, \"baxis\": {\"gridcolor\": \"white\", \"linecolor\": \"white\", \"ticks\": \"\"}, \"bgcolor\": \"#E5ECF6\", \"caxis\": {\"gridcolor\": \"white\", \"linecolor\": \"white\", \"ticks\": \"\"}}, \"title\": {\"x\": 0.05}, \"xaxis\": {\"automargin\": true, \"gridcolor\": \"white\", \"linecolor\": \"white\", \"ticks\": \"\", \"title\": {\"standoff\": 15}, \"zerolinecolor\": \"white\", \"zerolinewidth\": 2}, \"yaxis\": {\"automargin\": true, \"gridcolor\": \"white\", \"linecolor\": \"white\", \"ticks\": \"\", \"title\": {\"standoff\": 15}, \"zerolinecolor\": \"white\", \"zerolinewidth\": 2}}}},\n",
              "                        {\"responsive\": true}\n",
              "                    ).then(function(){\n",
              "                            \n",
              "var gd = document.getElementById('82691514-cfa7-4188-a034-fc625f39d165');\n",
              "var x = new MutationObserver(function (mutations, observer) {{\n",
              "        var display = window.getComputedStyle(gd).display;\n",
              "        if (!display || display === 'none') {{\n",
              "            console.log([gd, 'removed!']);\n",
              "            Plotly.purge(gd);\n",
              "            observer.disconnect();\n",
              "        }}\n",
              "}});\n",
              "\n",
              "// Listen for the removal of the full notebook cells\n",
              "var notebookContainer = gd.closest('#notebook-container');\n",
              "if (notebookContainer) {{\n",
              "    x.observe(notebookContainer, {childList: true});\n",
              "}}\n",
              "\n",
              "// Listen for the clearing of the current output cell\n",
              "var outputEl = gd.closest('.output');\n",
              "if (outputEl) {{\n",
              "    x.observe(outputEl, {childList: true});\n",
              "}}\n",
              "\n",
              "                        })\n",
              "                };\n",
              "                \n",
              "            </script>\n",
              "        </div>\n",
              "</body>\n",
              "</html>"
            ]
          },
          "metadata": {
            "tags": []
          }
        }
      ]
    },
    {
      "cell_type": "code",
      "metadata": {
        "id": "cffEZ3wl79BR"
      },
      "source": [
        "# ref: https://stackoverflow.com/a/16193445\n",
        "# get num_nn number of nearest neighbors for each particle\n",
        "def nnMatrix(num_neighbors, particles):\n",
        "    particleInfo = [np.asarray(frame) for frame in particles]\n",
        "    loc_dic = defaultdict(dict)\n",
        "    idx = 0\n",
        "    for item in enumerate(particleInfo[:-1]):\n",
        "        idx = item[0]\n",
        "        frame = item[1]\n",
        "        nextFrame = particleInfo[idx+1]\n",
        "        for ptr in enumerate(frame):\n",
        "            pt = ptr[1]\n",
        "            if any(np.isnan(pt)) == True:\n",
        "                continue\n",
        "            dist = [np.sum((pt-p2)**2) for p2 in nextFrame]\n",
        "            tmp_dic = {it[1]:it[0] for it in enumerate(dist)}\n",
        "            # ret = heapq.nsmallest(num_neighbors, dist)\n",
        "            dist = np.asarray(dist)\n",
        "            i = np.argsort(dist)\n",
        "            ret = i[np.isfinite(dist[i])][:num_neighbors]\n",
        "            # numPadding = num_neighbors - len(ret)+1\n",
        "            ret = np.append(ret, [-1])\n",
        "            loc_dic[idx][ptr[0]] = {'x': pt[0], 'y': pt[1], 'nbrs': ret}\n",
        "    # add x-y coordinate for last frame\n",
        "    for ptr in enumerate(particleInfo[-1]):\n",
        "        if np.isfinite(ptr[1][0]):\n",
        "            loc_dic[idx+1][ptr[0]] = {'x':ptr[1][0], 'y':ptr[1][1], 'nbrs':[-1]}\n",
        "    return list(loc_dic.values())\n",
        "\n",
        "# get all possible hypotheses in padded format\n",
        "def getHypTracks(nnMatrices, startFrame, startIdx, numNN, forwardProp = 3):\n",
        "    numTrack = int((numNN**(forwardProp+1)-1)/(numNN-1))\n",
        "    numFrames = len(nnMatrices)\n",
        "    fakeDict = {'x':-1, 'y':-1, 'nbrs':[]}\n",
        "    padding = [-1, -1]\n",
        "    def helper(frame, idx, depth):\n",
        "        if frame >= numFrames or depth > forwardProp or (idx > -1 and idx not in nnMatrices[frame]):\n",
        "            return []\n",
        "        if idx == -1:\n",
        "            root = fakeDict\n",
        "        else:\n",
        "            root = nnMatrices[frame][idx]\n",
        "        xy = [root['x'], root['y']]\n",
        "        results = [xy+path for kid in root['nbrs'] if kid != None for path in helper(frame+1, kid, depth+1)] or [xy]\n",
        "        return results\n",
        "    results = []\n",
        "    for track in helper(startFrame, startIdx, 0):\n",
        "        endPadding = forwardProp + 1 - int(len(track)/2)\n",
        "        tmp = padding + track + padding*(1+endPadding)\n",
        "        tmp = np.asarray(tmp).reshape(-1, 2)\n",
        "        results.append(tmp)\n",
        "    if len(results) == 0:\n",
        "        print(f\"no {startIdx} in {startFrame}\")\n",
        "        return results\n",
        "    fakeTrack = np.asarray([padding for i in range(forwardProp+3)])\n",
        "    for _ in range(numTrack - len(results)):\n",
        "        results.append(fakeTrack)\n",
        "    return results\n",
        "    \n",
        "# get ground truth labels\n",
        "def getTruth(trackSeg, nnSeg, idx, frame, numNN):\n",
        "    # if the pt doesn't exist in current frame\n",
        "    if np.isfinite(trackSeg[0][0]) == False:\n",
        "        print(f\"idx not exist in frame {frame}\")\n",
        "        return \n",
        "    # if the pt exist in current frame but not in the next frame\n",
        "    elif len(trackSeg) == 1 or np.isfinite(trackSeg[0][1]) == False:\n",
        "        print(f\"idx not exist in frame {frame+1}\")\n",
        "        return ([0]*(numNN)+[1], [0, 1])\n",
        "    # pt exist in both frames\n",
        "    else:\n",
        "        # double checking if this pt exist in this frame\n",
        "        if idx not in nnSeg:\n",
        "            print(f\"idx {idx} not in frame {frame} --nnMatrices\")\n",
        "            return\n",
        "        # the idx in next frame would be the same with this frame\n",
        "        hot = idx\n",
        "        # print(\"hot: \", hot)\n",
        "        nbrs = nnSeg[idx]['nbrs']\n",
        "        # print(\"nbrs: \", nbrs)\n",
        "        # find the index of the matching particle in the nbrs list\n",
        "        loc = np.where(nbrs ==hot)[0]\n",
        "        if len(loc) == 0 or loc[0] == -1:\n",
        "            print(f\"current nbrs are {nbrs}: idx {idx} not found in nbrs\")\n",
        "            loc = -1\n",
        "        else:\n",
        "            loc = loc[0]\n",
        "        encoding = [0]*(numNN+1)\n",
        "        encoding[loc] = 1\n",
        "        existence = [1, 0]\n",
        "        return (encoding, existence)"
      ],
      "execution_count": null,
      "outputs": []
    },
    {
      "cell_type": "code",
      "metadata": {
        "id": "wIXVyJ-p5C27"
      },
      "source": [
        "# nnMatrices = nnMatrix(3, movieInfo)\n",
        "nnMatrices = pickle.load(open('./samplePBnnMatrix.pkl', 'rb'))"
      ],
      "execution_count": null,
      "outputs": []
    },
    {
      "cell_type": "code",
      "metadata": {
        "id": "VuYc06J5HH00",
        "outputId": "68fd1217-8462-4f14-8677-c90a8e9385db",
        "colab": {
          "base_uri": "https://localhost:8080/",
          "height": 676
        }
      },
      "source": [
        "d = 2\n",
        "numNN = 3\n",
        "batchNumTrack = int((numNN**(d+1)-1)/(numNN-1))\n",
        "print(\"batchNumTrack: \", batchNumTrack)\n",
        "allX = []\n",
        "allAsgn = []\n",
        "allExt = []\n",
        "numTracks = len(labeledTracks)\n",
        "numFrames = len(nnMatrices)-1\n",
        "for idx in range(numTracks):\n",
        "    for t in range(numFrames):\n",
        "        if idx not in nnMatrices[t]:\n",
        "            break\n",
        "        tracks = getHypTracks(nnMatrices, t, idx, numNN, d)\n",
        "        assert len(tracks) == batchNumTrack or len(tracks) == 0\n",
        "        if len(tracks) == 0:\n",
        "            print(\"oopsie\")\n",
        "            break\n",
        "        allX.append(tracks)\n",
        "        truth, existence = getTruth(labeledTracks[idx,:,t:t+2].T, nnMatrices[t], idx, t, numNN)\n",
        "        assert len(truth) == numNN + 1\n",
        "        assert sum(existence) == 1\n",
        "        allAsgn.append(truth)\n",
        "        allExt.append(existence)"
      ],
      "execution_count": null,
      "outputs": [
        {
          "output_type": "stream",
          "text": [
            "batchNumTrack:  13\n",
            "current nbrs are [16 15 22 -1]: idx 0 not found in nbrs\n",
            "current nbrs are [27  3 12 -1]: idx 1 not found in nbrs\n",
            "current nbrs are [20 10 15 -1]: idx 2 not found in nbrs\n",
            "current nbrs are [21 25  7 -1]: idx 3 not found in nbrs\n",
            "current nbrs are [36 25 30 -1]: idx 4 not found in nbrs\n",
            "current nbrs are [11  7 -1]: idx 5 not found in nbrs\n",
            "current nbrs are [ 7 19 21 -1]: idx 6 not found in nbrs\n",
            "current nbrs are [32  9 33 -1]: idx 8 not found in nbrs\n",
            "current nbrs are [21  6 19 -1]: idx 9 not found in nbrs\n",
            "current nbrs are [25  0  3 -1]: idx 10 not found in nbrs\n",
            "current nbrs are [ 7 -1]: idx 11 not found in nbrs\n",
            "current nbrs are [ 7  3 21 -1]: idx 12 not found in nbrs\n",
            "current nbrs are [28 15 29 -1]: idx 13 not found in nbrs\n",
            "current nbrs are [ 9  6 21 -1]: idx 14 not found in nbrs\n",
            "current nbrs are [ 5 21  3 -1]: idx 15 not found in nbrs\n",
            "current nbrs are [21  3 15 -1]: idx 16 not found in nbrs\n",
            "current nbrs are [ 8  9 33 -1]: idx 17 not found in nbrs\n",
            "current nbrs are [10  0 29 -1]: idx 18 not found in nbrs\n",
            "current nbrs are [ 7 21 12 -1]: idx 19 not found in nbrs\n",
            "current nbrs are [19  7 29 -1]: idx 20 not found in nbrs\n",
            "current nbrs are [ 7 25  5 -1]: idx 21 not found in nbrs\n",
            "current nbrs are [ 5 11  7 -1]: idx 22 not found in nbrs\n",
            "current nbrs are [27  1  3 -1]: idx 23 not found in nbrs\n",
            "current nbrs are [18 28 22 -1]: idx 24 not found in nbrs\n",
            "current nbrs are [ 7 22  5 -1]: idx 25 not found in nbrs\n",
            "current nbrs are [21 12  6 -1]: idx 26 not found in nbrs\n",
            "current nbrs are [12  3  7 -1]: idx 27 not found in nbrs\n",
            "current nbrs are [15  5 18 -1]: idx 28 not found in nbrs\n",
            "current nbrs are [10  0 19 -1]: idx 29 not found in nbrs\n",
            "current nbrs are [ 3 27  1 -1]: idx 30 not found in nbrs\n",
            "current nbrs are [24 18 13 -1]: idx 31 not found in nbrs\n",
            "current nbrs are [ 9  6 21 -1]: idx 32 not found in nbrs\n",
            "current nbrs are [ 6 21  9 -1]: idx 33 not found in nbrs\n",
            "current nbrs are [36 25  7 -1]: idx 34 not found in nbrs\n",
            "current nbrs are [19 27  1 -1]: idx 35 not found in nbrs\n",
            "current nbrs are [30  3 25 -1]: idx 36 not found in nbrs\n",
            "current nbrs are [26 23 21 -1]: idx 37 not found in nbrs\n"
          ],
          "name": "stdout"
        }
      ]
    },
    {
      "cell_type": "code",
      "metadata": {
        "id": "dtOQdKjo8S2P",
        "outputId": "c4196f52-4bfd-4d42-feaf-d2f30a6b8f54",
        "colab": {
          "base_uri": "https://localhost:8080/",
          "height": 35
        }
      },
      "source": [
        "# unit test before training\n",
        "# the index thingy need to be randomized/sorted in the u-track way\n",
        "\n",
        "len(allX), len(allAsgn), len(allExt)"
      ],
      "execution_count": null,
      "outputs": [
        {
          "output_type": "execute_result",
          "data": {
            "text/plain": [
              "(50840, 50840, 50840)"
            ]
          },
          "metadata": {
            "tags": []
          },
          "execution_count": 43
        }
      ]
    },
    {
      "cell_type": "code",
      "metadata": {
        "id": "w8m19hbZKZpI",
        "outputId": "1a4b00cb-eacb-4620-9112-85e7127fa2e9",
        "colab": {
          "base_uri": "https://localhost:8080/",
          "height": 35
        }
      },
      "source": [
        "# numNN = 3\n",
        "# d = 2\n",
        "# t = 4000\n",
        "# idx = 7\n",
        "# # nnMatrices = nnMatrix(3, movieInfo)\n",
        "# tracks = getHypTracks(nnMatrices, t, idx, numNN, d)\n",
        "# # remember to check if t is the last frame\n",
        "# truth, existence = getTruth(labeledTracks[idx,:,t:t+2].T, nnMatrices[t], idx, t, numNN)\n",
        "# truth, existence\n",
        "import random\n",
        "\n",
        "c = list(zip(allX, allAsgn, allExt))\n",
        "random.shuffle(c)\n",
        "allX, allAsgn, allExt = zip(*c)\n",
        "allX = list(allX)\n",
        "allAsgn = list(allAsgn)\n",
        "allExt = list(allExt)\n",
        "\n",
        "allAsgn[0], allExt[0]"
      ],
      "execution_count": null,
      "outputs": [
        {
          "output_type": "execute_result",
          "data": {
            "text/plain": [
              "([1, 0, 0, 0], [1, 0])"
            ]
          },
          "metadata": {
            "tags": []
          },
          "execution_count": 53
        }
      ]
    },
    {
      "cell_type": "code",
      "metadata": {
        "id": "Qj6n6zBFOzwC",
        "outputId": "c9cb5d3d-61d7-407f-8e0a-928599d57f72",
        "colab": {
          "base_uri": "https://localhost:8080/",
          "height": 936
        }
      },
      "source": [
        "allX[0]"
      ],
      "execution_count": null,
      "outputs": [
        {
          "output_type": "execute_result",
          "data": {
            "text/plain": [
              "[array([[-1.        , -1.        ],\n",
              "        [ 6.01981178, 12.47991293],\n",
              "        [ 5.94978352, 12.4493243 ],\n",
              "        [ 5.93745409, 12.49473248],\n",
              "        [-1.        , -1.        ]]), array([[-1.        , -1.        ],\n",
              "        [ 6.01981178, 12.47991293],\n",
              "        [ 5.94978352, 12.4493243 ],\n",
              "        [ 6.30155956, 15.9512826 ],\n",
              "        [-1.        , -1.        ]]), array([[-1.        , -1.        ],\n",
              "        [ 6.01981178, 12.47991293],\n",
              "        [ 5.94978352, 12.4493243 ],\n",
              "        [ 2.77884018,  9.43847762],\n",
              "        [-1.        , -1.        ]]), array([[-1.        , -1.        ],\n",
              "        [ 6.01981178, 12.47991293],\n",
              "        [ 5.94978352, 12.4493243 ],\n",
              "        [-1.        , -1.        ],\n",
              "        [-1.        , -1.        ]]), array([[-1.        , -1.        ],\n",
              "        [ 6.01981178, 12.47991293],\n",
              "        [ 6.35341208, 15.98680597],\n",
              "        [ 6.30155956, 15.9512826 ],\n",
              "        [-1.        , -1.        ]]), array([[-1.        , -1.        ],\n",
              "        [ 6.01981178, 12.47991293],\n",
              "        [ 6.35341208, 15.98680597],\n",
              "        [ 3.78819601, 16.83269877],\n",
              "        [-1.        , -1.        ]]), array([[-1.        , -1.        ],\n",
              "        [ 6.01981178, 12.47991293],\n",
              "        [ 6.35341208, 15.98680597],\n",
              "        [ 4.99709469, 18.54476273],\n",
              "        [-1.        , -1.        ]]), array([[-1.        , -1.        ],\n",
              "        [ 6.01981178, 12.47991293],\n",
              "        [ 6.35341208, 15.98680597],\n",
              "        [-1.        , -1.        ],\n",
              "        [-1.        , -1.        ]]), array([[-1.        , -1.        ],\n",
              "        [ 6.01981178, 12.47991293],\n",
              "        [ 2.6566802 ,  9.42371959],\n",
              "        [ 2.77884018,  9.43847762],\n",
              "        [-1.        , -1.        ]]), array([[-1.        , -1.        ],\n",
              "        [ 6.01981178, 12.47991293],\n",
              "        [ 2.6566802 ,  9.42371959],\n",
              "        [ 0.82867606,  8.97883348],\n",
              "        [-1.        , -1.        ]]), array([[-1.        , -1.        ],\n",
              "        [ 6.01981178, 12.47991293],\n",
              "        [ 2.6566802 ,  9.42371959],\n",
              "        [ 3.68754183,  5.90079285],\n",
              "        [-1.        , -1.        ]]), array([[-1.        , -1.        ],\n",
              "        [ 6.01981178, 12.47991293],\n",
              "        [ 2.6566802 ,  9.42371959],\n",
              "        [-1.        , -1.        ],\n",
              "        [-1.        , -1.        ]]), array([[-1.        , -1.        ],\n",
              "        [ 6.01981178, 12.47991293],\n",
              "        [-1.        , -1.        ],\n",
              "        [-1.        , -1.        ],\n",
              "        [-1.        , -1.        ]])]"
            ]
          },
          "metadata": {
            "tags": []
          },
          "execution_count": 54
        }
      ]
    },
    {
      "cell_type": "markdown",
      "metadata": {
        "id": "Ri9jAGT2FPix"
      },
      "source": [
        "## model"
      ]
    },
    {
      "cell_type": "code",
      "metadata": {
        "id": "Cf06YLsUFtSP"
      },
      "source": [
        "# ref: https://keras.io/api/models/model_training_apis/\n",
        "# model itself\n",
        "class rnnModel(keras.Model):\n",
        "    def __init__(self, numNN, t, d, numFilter = 12, k=64, numDim = 2, dropout = 0.25, t_init = 0, batch_size = None):\n",
        "        super(rnnModel, self).__init__()\n",
        "        dt = t + d + 1 - t_init \n",
        "        rate = dropout\n",
        "        # (numNN+1)**d := total number of hypotheses to consider\n",
        "        # dt := length of each track\n",
        "        # numDim := length of each datapoint \n",
        "        inputDimOne = int((numNN**(d+1)-1)/(numNN-1))\n",
        "        input_size = (inputDimOne, dt, numDim)\n",
        "        ins = keras.Input(shape=input_size, batch_size=batch_size)\n",
        "        x = layers.Conv1D(numFilter, 3 , activation='relu',input_shape=input_size[2:])(ins)\n",
        "        x = tf.reshape(x, x.shape[1:])\n",
        "        x = layers.Bidirectional(layers.LSTM(k, return_sequences=True))(x)\n",
        "        x = layers.Bidirectional(layers.LSTM(k, return_sequences=True))(x)\n",
        "        x = layers.Bidirectional(layers.LSTM(k))(x)\n",
        "        x = layers.Dense(k, activation='relu')(x)\n",
        "        x = layers.GaussianDropout(rate)(x)\n",
        "        x = layers.Dense(1, activation='relu')(x)\n",
        "        x = layers.GaussianDropout(rate)(x)\n",
        "        x = tf.reshape(x, [1, x.shape[0], x.shape[1]])\n",
        "        x = layers.MaxPool1D(pool_size=(numNN+1)**(d-1), name=\"pool1\", padding=\"same\")(x)\n",
        "        x = tf.reshape(x, [x.shape[0], x.shape[1]])\n",
        "        z = layers.Dense(k, input_shape =(numNN+1,1), activation='relu')(x)\n",
        "        z = layers.GaussianDropout(rate)(z)\n",
        "        z = layers.Dense(k, activation='relu')(z)\n",
        "        z = layers.GaussianDropout(rate)(z)\n",
        "        z = layers.Dense(numNN+1, activation='relu')(z)\n",
        "        f1_output = layers.Softmax(name=\"assignment\")(z)\n",
        "\n",
        "        y = layers.Dense(k, input_shape =(numNN+1,1), activation='relu')(x)\n",
        "        y = layers.GaussianDropout(rate)(y)\n",
        "        y = layers.Dense(k, activation='relu')(y)\n",
        "        y = layers.GaussianDropout(rate)(y)\n",
        "        y = layers.Dense(2, activation='relu')(y)\n",
        "        f2_output = layers.Softmax(name=\"existence\")(y)\n",
        "\n",
        "        ensemble = keras.Model(inputs=ins, outputs=[f1_output, f2_output])\n",
        "\n",
        "        opt = keras.optimizers.Adam(\n",
        "            learning_rate=0.001,\n",
        "            beta_1=0.9,\n",
        "            beta_2=0.999,\n",
        "            epsilon=1e-07,\n",
        "            amsgrad=False,\n",
        "            name=\"Adam\",\n",
        "        )\n",
        "\n",
        "        losses = {\n",
        "            \"assignment\": \"categorical_crossentropy\",\n",
        "            \"existence\": \"categorical_crossentropy\",\n",
        "        }\n",
        "\n",
        "        lossWeights = {\"assignment\": 1.0, \"existence\": 1.0}\n",
        "        # keras.utils.plot_model(ensemble, show_shapes=True)\n",
        "        ensemble.compile(\n",
        "            optimizer=opt,\n",
        "            loss=losses,\n",
        "            metrics=['accuracy'],\n",
        "            loss_weights=lossWeights,\n",
        "            weighted_metrics=None,\n",
        "            run_eagerly=None,\n",
        "        )\n",
        "\n",
        "        self.model = ensemble\n",
        "    def call(self, tracks, batch_size = 1, training=False):\n",
        "        return self.model.predict(tf.constant(tracks), batch_size = batch_size)\n",
        "        \n",
        "    def train(self, tracks, labels, epochs = 10, batch_size = 1, callbacks=[], verbose = 1):\n",
        "        defaultCallback = tf.keras.callbacks.EarlyStopping(monitor='loss', patience=3)\n",
        "        return self.model.fit(tf.constant(tracks), labels,\n",
        "                    epochs=epochs, batch_size=batch_size, callbacks=[defaultCallback],verbose=verbose)"
      ],
      "execution_count": null,
      "outputs": []
    },
    {
      "cell_type": "code",
      "metadata": {
        "id": "xC6jz5eKFWDl"
      },
      "source": [
        "d = 2\n",
        "numNN = 3\n",
        "sampleModel = rnnModel(numNN = numNN, t = 2, d = d)"
      ],
      "execution_count": null,
      "outputs": []
    },
    {
      "cell_type": "code",
      "metadata": {
        "id": "DwH9jeSkrFpn",
        "outputId": "629c8d22-9e4d-4a9e-cb6a-1c1a172ffa74",
        "colab": {
          "base_uri": "https://localhost:8080/",
          "height": 69
        }
      },
      "source": [
        "# tfX = []\n",
        "# for X in allX:\n",
        "#     tfX.append(tf.constant(X))\n",
        "dumX = tf.constant(allX)\n",
        "asg = tf.constant(allAsgn)\n",
        "ext = tf.constant(allExt)\n",
        "dumX.shape, asg.shape, ext.shape"
      ],
      "execution_count": null,
      "outputs": [
        {
          "output_type": "execute_result",
          "data": {
            "text/plain": [
              "(TensorShape([50840, 13, 5, 2]),\n",
              " TensorShape([50840, 4]),\n",
              " TensorShape([50840, 2]))"
            ]
          },
          "metadata": {
            "tags": []
          },
          "execution_count": 55
        }
      ]
    },
    {
      "cell_type": "code",
      "metadata": {
        "id": "hVsi1skTFzDA",
        "outputId": "e3a0df2c-0541-4354-909d-ce012705a6fa",
        "colab": {
          "base_uri": "https://localhost:8080/",
          "height": 384
        }
      },
      "source": [
        "history = sampleModel.train(dumX, [asg, ext])"
      ],
      "execution_count": null,
      "outputs": [
        {
          "output_type": "stream",
          "text": [
            "Epoch 1/10\n",
            "50840/50840 [==============================] - 564s 11ms/step - loss: 0.0435 - assignment_loss: 0.0435 - existence_loss: 3.0893e-08 - assignment_accuracy: 0.9959 - existence_accuracy: 1.0000\n",
            "Epoch 2/10\n",
            "50840/50840 [==============================] - 543s 11ms/step - loss: 0.0353 - assignment_loss: 0.0353 - existence_loss: 2.8138e-11 - assignment_accuracy: 0.9959 - existence_accuracy: 1.0000\n",
            "Epoch 3/10\n",
            "50840/50840 [==============================] - 547s 11ms/step - loss: 0.0343 - assignment_loss: 0.0343 - existence_loss: 9.3792e-12 - assignment_accuracy: 0.9959 - existence_accuracy: 1.0000\n",
            "Epoch 4/10\n",
            "50840/50840 [==============================] - 577s 11ms/step - loss: 0.0333 - assignment_loss: 0.0333 - existence_loss: 3.2827e-11 - assignment_accuracy: 0.9959 - existence_accuracy: 1.0000\n",
            "Epoch 5/10\n",
            "50840/50840 [==============================] - 564s 11ms/step - loss: 0.0328 - assignment_loss: 0.0328 - existence_loss: 7.0344e-12 - assignment_accuracy: 0.9959 - existence_accuracy: 1.0000\n",
            "Epoch 6/10\n",
            "50840/50840 [==============================] - 575s 11ms/step - loss: 0.0322 - assignment_loss: 0.0322 - existence_loss: 7.0344e-12 - assignment_accuracy: 0.9959 - existence_accuracy: 1.0000\n",
            "Epoch 7/10\n",
            "50840/50840 [==============================] - 573s 11ms/step - loss: 0.0319 - assignment_loss: 0.0319 - existence_loss: 0.0000e+00 - assignment_accuracy: 0.9959 - existence_accuracy: 1.0000\n",
            "Epoch 8/10\n",
            "50840/50840 [==============================] - 570s 11ms/step - loss: 0.0325 - assignment_loss: 0.0325 - existence_loss: 0.0000e+00 - assignment_accuracy: 0.9959 - existence_accuracy: 1.0000\n",
            "Epoch 9/10\n",
            "50840/50840 [==============================] - 570s 11ms/step - loss: 0.0324 - assignment_loss: 0.0324 - existence_loss: 0.0000e+00 - assignment_accuracy: 0.9959 - existence_accuracy: 1.0000\n",
            "Epoch 10/10\n",
            "50840/50840 [==============================] - 631s 12ms/step - loss: 0.0318 - assignment_loss: 0.0318 - existence_loss: 0.0000e+00 - assignment_accuracy: 0.9959 - existence_accuracy: 1.0000\n"
          ],
          "name": "stdout"
        }
      ]
    },
    {
      "cell_type": "code",
      "metadata": {
        "id": "wJ1ge_SAGZh9"
      },
      "source": [
        "# TO-DO\n",
        "# 1. batch size\n",
        "# 2. lr_finder\n",
        "# 3. think about the track prcessing by 13 vs. by 1, \n",
        "#    and the negative effect of padding the input with [-1]*hypTrackLength (aka that's what I do rn)\n",
        "# 4. track maintenance"
      ],
      "execution_count": null,
      "outputs": []
    }
  ]
}